{
 "cells": [
  {
   "cell_type": "markdown",
   "metadata": {},
   "source": [
    "# Labb 2"
   ]
  },
  {
   "cell_type": "code",
   "execution_count": 3,
   "metadata": {},
   "outputs": [],
   "source": [
    "import re\n",
    "\n",
    "lines = [] # List to store file lines\n",
    "\n",
    "Data = \"../Data/datapoints.txt\" # setting the path of the data to be used and creating a variable for it\n",
    "\n",
    "#Reads original file, then writes to a new one.\n",
    "with open(Data, \"r\") as f_read, open(\"../Data/sort_datapoints.txt\", \"w\") as f_write: #\n",
    "\n",
    "    lines = f_read.readlines() # reads lines and sets variable \"lines\"\n",
    "\n",
    "    for number, line in enumerate(lines): # loops through lines giving each a number\n",
    "        if number not in [0]: # selects which line to remove. 0 being the first line\n",
    "            f_write.write(line) # writes to new file\n",
    "\n",
    "# info about deleting lines from files from https://pynative.com/python-delete-lines-from-file/\n",
    "# \n",
    "#  "
   ]
  }
 ],
 "metadata": {
  "kernelspec": {
   "display_name": "Python 3.9.13 ('python-sam-glass-f9Gfa9m9')",
   "language": "python",
   "name": "python3"
  },
  "language_info": {
   "codemirror_mode": {
    "name": "ipython",
    "version": 3
   },
   "file_extension": ".py",
   "mimetype": "text/x-python",
   "name": "python",
   "nbconvert_exporter": "python",
   "pygments_lexer": "ipython3",
   "version": "3.9.13"
  },
  "orig_nbformat": 4,
  "vscode": {
   "interpreter": {
    "hash": "c54bac0ad9a8758ea607748194fff43bd5680f7a659873af8c80514da573df4a"
   }
  }
 },
 "nbformat": 4,
 "nbformat_minor": 2
}
