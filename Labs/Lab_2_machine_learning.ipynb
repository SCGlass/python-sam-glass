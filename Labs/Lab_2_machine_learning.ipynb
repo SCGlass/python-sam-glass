{
 "cells": [
  {
   "cell_type": "markdown",
   "metadata": {},
   "source": [
    "# Labb 2"
   ]
  },
  {
   "cell_type": "code",
   "execution_count": 4,
   "metadata": {},
   "outputs": [
    {
     "ename": "TypeError",
     "evalue": "float() argument must be a string or a number, not 'list'",
     "output_type": "error",
     "traceback": [
      "\u001b[1;31m---------------------------------------------------------------------------\u001b[0m",
      "\u001b[1;31mTypeError\u001b[0m                                 Traceback (most recent call last)",
      "Cell \u001b[1;32mIn [4], line 19\u001b[0m\n\u001b[0;32m     13\u001b[0m             f_write\u001b[38;5;241m.\u001b[39mwrite(line) \u001b[38;5;66;03m# writes to new file\u001b[39;00m\n\u001b[0;32m     15\u001b[0m \u001b[38;5;66;03m# info about deleting lines from files from https://pynative.com/python-delete-lines-from-file/\u001b[39;00m\n\u001b[0;32m     16\u001b[0m \n\u001b[0;32m     17\u001b[0m \u001b[38;5;66;03m# organizing data into lists to enable them to be plotted on graph \u001b[39;00m\n\u001b[0;32m     18\u001b[0m \u001b[38;5;66;03m# ref : https://stackoverflow.com/questions/38532298/how-can-you-plot-data-from-a-txt-file-using-matplotlib\u001b[39;00m\n\u001b[1;32m---> 19\u001b[0m pokemon_width \u001b[38;5;241m=\u001b[39m [\u001b[38;5;28mfloat\u001b[39m(line\u001b[38;5;241m.\u001b[39msplit())[\u001b[38;5;241m0\u001b[39m] \u001b[38;5;28;01mfor\u001b[39;00m line \u001b[38;5;129;01min\u001b[39;00m lines] \u001b[38;5;66;03m# spliting the data into variables to plot\u001b[39;00m\n\u001b[0;32m     20\u001b[0m pokemon_height \u001b[38;5;241m=\u001b[39m [\u001b[38;5;28mfloat\u001b[39m(line\u001b[38;5;241m.\u001b[39msplit())[\u001b[38;5;241m1\u001b[39m] \u001b[38;5;28;01mfor\u001b[39;00m line \u001b[38;5;129;01min\u001b[39;00m lines]\n\u001b[0;32m     21\u001b[0m pokemon_type \u001b[38;5;241m=\u001b[39m [\u001b[38;5;28mfloat\u001b[39m(line\u001b[38;5;241m.\u001b[39msplit())[\u001b[38;5;241m2\u001b[39m] \u001b[38;5;28;01mfor\u001b[39;00m line \u001b[38;5;129;01min\u001b[39;00m lines] \u001b[38;5;66;03m# 0 = Pichu 1 = Pikachu\u001b[39;00m\n",
      "Cell \u001b[1;32mIn [4], line 19\u001b[0m, in \u001b[0;36m<listcomp>\u001b[1;34m(.0)\u001b[0m\n\u001b[0;32m     13\u001b[0m             f_write\u001b[38;5;241m.\u001b[39mwrite(line) \u001b[38;5;66;03m# writes to new file\u001b[39;00m\n\u001b[0;32m     15\u001b[0m \u001b[38;5;66;03m# info about deleting lines from files from https://pynative.com/python-delete-lines-from-file/\u001b[39;00m\n\u001b[0;32m     16\u001b[0m \n\u001b[0;32m     17\u001b[0m \u001b[38;5;66;03m# organizing data into lists to enable them to be plotted on graph \u001b[39;00m\n\u001b[0;32m     18\u001b[0m \u001b[38;5;66;03m# ref : https://stackoverflow.com/questions/38532298/how-can-you-plot-data-from-a-txt-file-using-matplotlib\u001b[39;00m\n\u001b[1;32m---> 19\u001b[0m pokemon_width \u001b[38;5;241m=\u001b[39m [\u001b[38;5;28;43mfloat\u001b[39;49m\u001b[43m(\u001b[49m\u001b[43mline\u001b[49m\u001b[38;5;241;43m.\u001b[39;49m\u001b[43msplit\u001b[49m\u001b[43m(\u001b[49m\u001b[43m)\u001b[49m\u001b[43m)\u001b[49m[\u001b[38;5;241m0\u001b[39m] \u001b[38;5;28;01mfor\u001b[39;00m line \u001b[38;5;129;01min\u001b[39;00m lines] \u001b[38;5;66;03m# spliting the data into variables to plot\u001b[39;00m\n\u001b[0;32m     20\u001b[0m pokemon_height \u001b[38;5;241m=\u001b[39m [\u001b[38;5;28mfloat\u001b[39m(line\u001b[38;5;241m.\u001b[39msplit())[\u001b[38;5;241m1\u001b[39m] \u001b[38;5;28;01mfor\u001b[39;00m line \u001b[38;5;129;01min\u001b[39;00m lines]\n\u001b[0;32m     21\u001b[0m pokemon_type \u001b[38;5;241m=\u001b[39m [\u001b[38;5;28mfloat\u001b[39m(line\u001b[38;5;241m.\u001b[39msplit())[\u001b[38;5;241m2\u001b[39m] \u001b[38;5;28;01mfor\u001b[39;00m line \u001b[38;5;129;01min\u001b[39;00m lines] \u001b[38;5;66;03m# 0 = Pichu 1 = Pikachu\u001b[39;00m\n",
      "\u001b[1;31mTypeError\u001b[0m: float() argument must be a string or a number, not 'list'"
     ]
    }
   ],
   "source": [
    "import re\n",
    "import matplotlib.pyplot as plt #imports plotting on a graph \n",
    "\n",
    "Data = \"../Data/datapoints.txt\" # setting the path of the data to be used and creating a variable for it\n",
    "\n",
    "#Reads original file, then writes to a new one.\n",
    "with open(Data, \"r\") as f_read, open(\"../Data/sort_datapoints.txt\", \"w\") as f_write: \n",
    "\n",
    "    lines = f_read.readlines() # reads lines and sets variable \"lines\" within the data\n",
    "\n",
    "    for number, line in enumerate(lines): # loops through lines giving each a number\n",
    "        if number not in [0]: # selects which line to remove. 0 being the first line\n",
    "            f_write.write(line) # writes to new file\n",
    "\n",
    "# info about deleting lines from files from https://pynative.com/python-delete-lines-from-file/\n",
    "\n",
    "# organizing data into lists to enable them to be plotted on graph \n",
    "# ref : https://stackoverflow.com/questions/38532298/how-can-you-plot-data-from-a-txt-file-using-matplotlib\n",
    "pokemon_width = [float(line.split())[0] for line in lines] # spliting the data into variables to plot\n",
    "pokemon_height = [float(line.split())[1] for line in lines]\n",
    "pokemon_type = [float(line.split())[2] for line in lines] # 0 = Pichu 1 = Pikachu\n",
    "\n",
    "plt.scatter(pokemon_width), (pokemon_height)\n",
    "plt.show()\n",
    "\n",
    "\n",
    "\n",
    "\n",
    "\n",
    "\n"
   ]
  }
 ],
 "metadata": {
  "kernelspec": {
   "display_name": "Python 3.9.13 ('python-sam-glass-f9Gfa9m9')",
   "language": "python",
   "name": "python3"
  },
  "language_info": {
   "codemirror_mode": {
    "name": "ipython",
    "version": 3
   },
   "file_extension": ".py",
   "mimetype": "text/x-python",
   "name": "python",
   "nbconvert_exporter": "python",
   "pygments_lexer": "ipython3",
   "version": "3.9.13"
  },
  "orig_nbformat": 4,
  "vscode": {
   "interpreter": {
    "hash": "c54bac0ad9a8758ea607748194fff43bd5680f7a659873af8c80514da573df4a"
   }
  }
 },
 "nbformat": 4,
 "nbformat_minor": 2
}
