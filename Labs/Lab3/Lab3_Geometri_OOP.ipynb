{
 "cells": [
  {
   "cell_type": "markdown",
   "metadata": {},
   "source": [
    "## Creating a shape class"
   ]
  },
  {
   "cell_type": "code",
   "execution_count": 2,
   "metadata": {},
   "outputs": [],
   "source": [
    "class Shape:\n",
    "    #TODO def __innit__ what type of functions will the shape class have \n",
    "    def __innit__(self, x_pos, y_pos):\n",
    "        self.x_pos = x_pos\n",
    "        self.y_pos = y_pos\n",
    "\n",
    "    #TODO def methods that will be within the shape class\n",
    "    def shape(self):\n",
    "        pass    \n",
    "    #TODO fix setters and getters to help with ErrorHandling\n",
    "\n"
   ]
  },
  {
   "cell_type": "markdown",
   "metadata": {},
   "source": [
    "## creating a circle class"
   ]
  },
  {
   "cell_type": "code",
   "execution_count": 50,
   "metadata": {},
   "outputs": [
    {
     "name": "stdout",
     "output_type": "stream",
     "text": [
      "Circle (position x = 5, position y =  7, radius = 5)\n",
      "78.53981633974483\n",
      "31.41592653589793\n",
      "Circle (position x = 30, position y =  44, radius = 5)\n",
      "78.53981633974483\n",
      "31.41592653589793\n"
     ]
    },
    {
     "data": {
      "image/png": "[encoded data removed]",
      "text/plain": [
       "<Figure size 640x480 with 1 Axes>"
      ]
     },
     "metadata": {},
     "output_type": "display_data"
    },
    {
     "name": "stdout",
     "output_type": "stream",
     "text": [
      "None\n"
     ]
    }
   ],
   "source": [
    "from turtle import color\n",
    "import matplotlib.pyplot as plt\n",
    "import math\n",
    "from __future__ import annotations\n",
    "\n",
    "class Circle:\n",
    "    \n",
    "    def __init__(self, x_pos: float|int, y_pos: float|int, radius: float|int):\n",
    "        self.x_pos = x_pos\n",
    "        self.y_pos = y_pos\n",
    "        self.radius = radius\n",
    "\n",
    "    def __str__(self):\n",
    "        return \"Circle (position x = \" + str(self.x_pos) + \", position y =  \" + str(self.y_pos) + \", radius = \" + str(self.radius) + \")\" \n",
    "    # overrides so that this string can be viewed when the object is called within the class\n",
    "    def __repr__(self) -> str:\n",
    "        return \"Circle (x = \" + str(self.x_pos) + \", y =  \" + str(self.y_pos) + \", radius = \" + str(self.radius) + \")\"\n",
    "    \n",
    "\n",
    "    # extra properties\n",
    "    @property # radius\n",
    "    def radius(self) -> float|int:\n",
    "        return self._radius\n",
    "\n",
    "    @radius.setter\n",
    "    def radius(self,value: float|int):\n",
    "        if isinstance(value, str): # makes sure that imputed value is not a string\n",
    "            raise TypeError(f\"Radius must be a float value, not {type(value)}\")\n",
    "        if (value < 0):\n",
    "            raise ValueError(\"radius must be a positive number, not a negative\") # raises an error if a negative number is entered\n",
    "        self._radius = value\n",
    "\n",
    "    @property # x position\n",
    "    def x_pos(self) -> float|int:\n",
    "        return self._x_pos\n",
    "\n",
    "    @x_pos.setter\n",
    "    def x_pos(self,value: float|int):\n",
    "        if isinstance(value, str): # makes sure that imputed value is not a string\n",
    "            raise TypeError(f\"x position must be a float value, not {type(value)}\")\n",
    "        self._x_pos = value\n",
    "       \n",
    "    @property # y position\n",
    "    def y_pos(self) -> float|int:\n",
    "        return self._y_pos\n",
    "\n",
    "    @y_pos.setter\n",
    "    def y_pos(self,value: float|int):\n",
    "        if isinstance(value, str): # makes sure that imputed value is not a string\n",
    "            raise TypeError(f\"y position must be a float value, not {type(value)}\")\n",
    "        self._y_pos = value\n",
    "    \n",
    "    @property\n",
    "    def area(self) -> float:\n",
    "        return math.pi*(self.radius)**2\n",
    "\n",
    "    @property\n",
    "    def circumference(self) -> float:\n",
    "        return 2*math.pi*self.radius\n",
    "\n",
    "    # method\n",
    "    @property\n",
    "    def is_unit_circle(self) -> True:\n",
    "        if self._radius == 1:\n",
    "           return print(\"This is a Unit circle\")\n",
    "        else:\n",
    "            return print(\"This is not a Unit circle\")\n",
    "\n",
    "    @property\n",
    "    def plot_circle(self):\n",
    "        fig, ax = plt.subplots()\n",
    "        ax.add_patch(plt.Circle((self.x_pos, self.y_pos), self.radius, color='r'))\n",
    "\n",
    "        ax.set_aspect(self.radius)\n",
    "        ax.plot() \n",
    "        plt.show()\n",
    "\n",
    "       \n",
    "\n",
    "\n",
    "\n",
    "\n",
    "\n",
    "    \n",
    "circle1 = Circle(5,7,5)\n",
    "circle2 = Circle(30,44,5)\n",
    "\n",
    "print(circle1)\n",
    "print(circle1.area)\n",
    "print(circle1.circumference)\n",
    "\n",
    "print(circle2)\n",
    "print(circle2.area)\n",
    "print(circle2.circumference)\n",
    "\n",
    "\n",
    "print(circle2.plot_circle)\n",
    "\n",
    "\n",
    "\n",
    "\n"
   ]
  },
  {
   "cell_type": "markdown",
   "metadata": {},
   "source": [
    "## creating a rectangle class"
   ]
  },
  {
   "cell_type": "code",
   "execution_count": 16,
   "metadata": {},
   "outputs": [
    {
     "data": {
      "text/plain": [
       "Circle (x = 4, y =  6, height = 8, length = 7)"
      ]
     },
     "execution_count": 16,
     "metadata": {},
     "output_type": "execute_result"
    }
   ],
   "source": [
    "import matplotlib.pyplot as plt\n",
    "\n",
    "from __future__ import annotations\n",
    "\n",
    "\n",
    "class Rectangle:\n",
    "    def __init__(self, x_pos:float|int, y_pos:float|int, height:float|int, length:float|int):\n",
    "        self.x_pos = x_pos\n",
    "        self.y_pos = y_pos\n",
    "        self.height = height\n",
    "        self.length = length\n",
    " \n",
    " \n",
    "    def __str__(self):\n",
    "        return \"Rectangle (position x = \" + str(self.x_pos) + \", position y =  \" + str(self.y_pos) + \", length = \" + str(self.length) + \", height =\" + str(self.height) + \")\" \n",
    "    # overrides so that this string can be viewed when the object is called within the class\n",
    "    def __repr__(self) -> str:\n",
    "        return \"Circle (x = \" + str(self.x_pos) + \", y =  \" + str(self.y_pos) + \", height = \" + str(self.height) + \", length = \" + str(self.length) + \")\"\n",
    "\n",
    "\n",
    "\n",
    "    @property # x position\n",
    "    def x_pos(self) -> float|int:\n",
    "        return self._x_pos\n",
    "\n",
    "    @x_pos.setter\n",
    "    def x_pos(self,value: float|int):\n",
    "        if isinstance(value, str): # makes sure that imputed value is not a string\n",
    "            raise TypeError(f\"x position must be a float or int value, not {type(value)}\")\n",
    "        self._x_pos = value\n",
    "       \n",
    "    @property # y position\n",
    "    def y_pos(self) -> float|int:\n",
    "        return self._y_pos\n",
    "\n",
    "    @y_pos.setter\n",
    "    def y_pos(self,value: float|int):\n",
    "        if isinstance(value, str): # makes sure that imputed value is not a string\n",
    "            raise TypeError(f\"y position must be a float or int value, not {type(value)}\")\n",
    "        self._y_pos = value\n",
    "    \n",
    "    @property\n",
    "    def height(self) -> float|int:\n",
    "        return self._height\n",
    "\n",
    "    @height.setter\n",
    "    def height(self,value: float|int):\n",
    "        if isinstance(value, str): # makes sure that imputed value is not a string\n",
    "            raise TypeError(f\"y position must be a float or int value, not {type(value)}\")\n",
    "        self._height = value\n",
    "\n",
    "    @property\n",
    "    def length(self) -> float|int:\n",
    "        return self._length\n",
    "\n",
    "    @length.setter\n",
    "    def length(self,value: float|int):\n",
    "        if isinstance(value, str): # makes sure that imputed value is not a string\n",
    "            raise TypeError(f\"y position must be a float or int value, not {type(value)}\")\n",
    "        self._length = value\n",
    "\n",
    "\n",
    "\n",
    "\n",
    "    @property\n",
    "    def area(self) -> float:\n",
    "        return self.height * self.length\n",
    "\n",
    "    @property\n",
    "    def circumference(self) -> float:\n",
    "        return (self.length *2) + (self.height * 2)\n",
    "\n",
    "    @property\n",
    "    def is_square(self) -> True:\n",
    "        if self._length == self._height:\n",
    "           return print(\"This is a square \")\n",
    "        else:\n",
    "            return print(\"This is not a square\")\n",
    "\n",
    " \n",
    "\n",
    "\n",
    "\n",
    "rectangle1 = Rectangle(3,5,6,6)\n",
    "rectangle2 = Rectangle(4,6,8,7)\n",
    "\n",
    "rectangle2        "
   ]
  }
 ],
 "metadata": {
  "kernelspec": {
   "display_name": "Python 3.9.13 ('python-sam-glass-f9Gfa9m9')",
   "language": "python",
   "name": "python3"
  },
  "language_info": {
   "codemirror_mode": {
    "name": "ipython",
    "version": 3
   },
   "file_extension": ".py",
   "mimetype": "text/x-python",
   "name": "python",
   "nbconvert_exporter": "python",
   "pygments_lexer": "ipython3",
   "version": "3.9.13"
  },
  "orig_nbformat": 4,
  "vscode": {
   "interpreter": {
    "hash": "c54bac0ad9a8758ea607748194fff43bd5680f7a659873af8c80514da573df4a"
   }
  }
 },
 "nbformat": 4,
 "nbformat_minor": 2
}
