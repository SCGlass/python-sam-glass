{
 "cells": [
  {
   "cell_type": "markdown",
   "metadata": {},
   "source": [
    "## Creating a shape class"
   ]
  },
  {
   "cell_type": "code",
   "execution_count": 93,
   "metadata": {},
   "outputs": [],
   "source": [
    "from __future__ import annotations\n",
    "\n",
    "\n",
    "\n",
    "\n",
    "class Shape:\n",
    "    #TODO def __innit__ what type of functions will the shape class have \n",
    "    def __innit__(self, x_pos, y_pos):\n",
    "        self.x_pos = x_pos\n",
    "        self.y_pos = y_pos\n",
    "\n",
    "    @property # x position\n",
    "    def x_pos(self) -> float|int:\n",
    "        return self._x_pos\n",
    "\n",
    "    @x_pos.setter\n",
    "    def x_pos(self,value: float|int):\n",
    "        if isinstance(value, str): # makes sure that imputed value is not a string\n",
    "            raise TypeError(f\"x position must be a float value, not {type(value)}\")\n",
    "        self._x_pos = value\n",
    "       \n",
    "    @property # y position\n",
    "    def y_pos(self) -> float|int:\n",
    "        return self._y_pos\n",
    "\n",
    "    @y_pos.setter\n",
    "    def y_pos(self,value: float|int):\n",
    "        if isinstance(value, str): # makes sure that imputed value is not a string\n",
    "            raise TypeError(f\"y position must be a float value, not {type(value)}\")\n",
    "        self._y_pos = value\n",
    "    \n",
    "    #==\n",
    "    def __eq__(self, other) -> bool:\n",
    "        if type(self) == type(other):\n",
    "\n",
    "            return self.area == other.area\n",
    "        return False\n",
    "    \n",
    "\n",
    " \n",
    "\n",
    "# Code thqt is relevant to child class\n",
    "    \n"
   ]
  },
  {
   "cell_type": "code",
   "execution_count": 94,
   "metadata": {},
   "outputs": [],
   "source": [
    "    # <\n",
    "    def __lt__(self, other) -> bool:\n",
    "        pass\n",
    "    # >\n",
    "    def __gt__(self, other) -> bool:\n",
    "        pass\n",
    "    # <=\n",
    "    def __le__(self, other) -> bool:\n",
    "        pass\n",
    "    # =>\n",
    "    def __ge__(self, other) -> bool:\n",
    "        pass\n"
   ]
  },
  {
   "cell_type": "markdown",
   "metadata": {},
   "source": [
    "## creating a circle class"
   ]
  },
  {
   "cell_type": "code",
   "execution_count": 110,
   "metadata": {},
   "outputs": [
    {
     "ename": "TypeError",
     "evalue": "object.__init__() takes exactly one argument (the instance to initialize)",
     "output_type": "error",
     "traceback": [
      "\u001b[1;31m---------------------------------------------------------------------------\u001b[0m",
      "\u001b[1;31mTypeError\u001b[0m                                 Traceback (most recent call last)",
      "Cell \u001b[1;32mIn [110], line 51\u001b[0m\n\u001b[0;32m     46\u001b[0m            \u001b[39mreturn\u001b[39;00m \u001b[39m\"\u001b[39m\u001b[39mThis is a Unit circle\u001b[39m\u001b[39m\"\u001b[39m\n\u001b[0;32m     47\u001b[0m         \u001b[39mreturn\u001b[39;00m \u001b[39m\"\u001b[39m\u001b[39mThis is not a Unit circle\u001b[39m\u001b[39m\"\u001b[39m\n\u001b[1;32m---> 51\u001b[0m circle1 \u001b[39m=\u001b[39m Circle(\u001b[39m5\u001b[39;49m,\u001b[39m6\u001b[39;49m,\u001b[39m7\u001b[39;49m)\n\u001b[0;32m     52\u001b[0m \u001b[39mprint\u001b[39m(circle1)\n",
      "Cell \u001b[1;32mIn [110], line 7\u001b[0m, in \u001b[0;36mCircle.__init__\u001b[1;34m(self, x_pos, y_pos, radius)\u001b[0m\n\u001b[0;32m      6\u001b[0m \u001b[39mdef\u001b[39;00m \u001b[39m__init__\u001b[39m(\u001b[39mself\u001b[39m, x_pos, y_pos, radius: \u001b[39mfloat\u001b[39m\u001b[39m|\u001b[39m\u001b[39mint\u001b[39m) \u001b[39m-\u001b[39m\u001b[39m>\u001b[39m \u001b[39mlist\u001b[39m:\n\u001b[1;32m----> 7\u001b[0m     \u001b[39msuper\u001b[39m()\u001b[39m.\u001b[39m\u001b[39m__init__\u001b[39m(x_pos, y_pos)\n\u001b[0;32m      8\u001b[0m     \u001b[39mself\u001b[39m\u001b[39m.\u001b[39mradius \u001b[39m=\u001b[39m radius\n",
      "\u001b[1;31mTypeError\u001b[0m: object.__init__() takes exactly one argument (the instance to initialize)"
     ]
    }
   ],
   "source": [
    "import math\n",
    "from __future__ import annotations\n",
    "\n",
    "class Circle(Shape):\n",
    "    \n",
    "    def __init__(self, x_pos, y_pos, radius: float|int) -> list:\n",
    "        super().__init__(x_pos, y_pos)\n",
    "        self.radius = radius\n",
    "\n",
    "    \n",
    "\n",
    "    def __str__(self) ->str:\n",
    "        return \"This is a Circle with position x of \" + str(self.x_pos) + \", position y of  \" + str(self.y_pos) + \", and a radius of of \" + str(self.radius) \n",
    "    # overrides so that this string can be viewed when the object is called within the class\n",
    "    def __repr__(self) -> str:\n",
    "        return \"Circle (x = \" + str(self.x_pos) + \", y =  \" + str(self.y_pos) + \", radius = \" + str(self.radius) + \")\"\n",
    "    \n",
    "\n",
    "    # extra properties\n",
    "    @property # radius\n",
    "    def radius(self) -> float|int:\n",
    "        return self._radius\n",
    "\n",
    "    @radius.setter\n",
    "    def radius(self,value: float|int):\n",
    "        if isinstance(value, str): # makes sure that imputed value is not a string\n",
    "            raise TypeError(f\"Radius must be a float or int value, not {type(value)}\")\n",
    "        if (value < 0):\n",
    "            raise ValueError(\"radius must be a positive number, not a negative\") # raises an error if a negative number is entered\n",
    "        self._radius = value\n",
    "\n",
    "    \n",
    "    \n",
    "    @property\n",
    "    def area(self) -> float:\n",
    "        return math.pi*(self.radius)**2\n",
    "\n",
    "    @property\n",
    "    def circumference(self) -> float:\n",
    "        return 2*math.pi*self.radius\n",
    "\n",
    "    # method\n",
    "    @property\n",
    "    def is_unit_circle(self) -> True:\n",
    "        if self._radius == 1:\n",
    "           return \"This is a Unit circle\"\n",
    "        return \"This is not a Unit circle\"\n",
    "\n",
    "    def is_inside(self, x_pos, y_pos):\n",
    "        \n",
    "\n",
    "\n",
    "\n",
    "circle1 = Circle(5,6,7)\n",
    "print(circle1)\n",
    "\n"
   ]
  },
  {
   "cell_type": "code",
   "execution_count": 100,
   "metadata": {},
   "outputs": [
    {
     "data": {
      "text/plain": [
       "(2, 4, 5)"
      ]
     },
     "execution_count": 100,
     "metadata": {},
     "output_type": "execute_result"
    }
   ],
   "source": [
    "circle1 = (2,4,5)\n",
    "circle1"
   ]
  },
  {
   "cell_type": "code",
   "execution_count": null,
   "metadata": {},
   "outputs": [],
   "source": [
    "\n",
    "    @property\n",
    "    def plot_circle(self):\n",
    "        pass\n",
    "    \n",
    "        #fig, ax = plt.subplots()\n",
    "        #ax.add_patch(plt.Circle((self.x_pos, self.y_pos), self.radius, color='r'))\n",
    "\n",
    "        ax.set_aspect(1)\n",
    "        ax.plot() \n",
    "        plt.show()\n",
    "        plt.rcParams[\"figure.figsize\"] = [10,10]\n",
    "        plt.rcParams[\"figure.autolayout\"] = True\n",
    "        fig = plt.figure()\n",
    "        ax = fig.add_subplot()\n",
    "        Circle = patches.Circle((self.x_pos, self.y_pos),self.radius, color='r')\n",
    "        ax.add_patch(Circle)\n",
    "        ax.axis('equal')\n",
    "        plt.show()\n",
    "        \n",
    "        #figure, axes = plt.subplots() \n",
    "        #cc = plt.Circle((self.x_pos , self.y_pos ), self._radius ) \n",
    " \n",
    "        #axes.set_aspect(1) \n",
    "        #axes.add_artist( cc ) \n",
    "        #plt.title( 'Colored Circle' ) \n",
    "        #plt.show()\n",
    "        "
   ]
  },
  {
   "cell_type": "markdown",
   "metadata": {},
   "source": [
    "## creating a rectangle class"
   ]
  },
  {
   "cell_type": "code",
   "execution_count": null,
   "metadata": {},
   "outputs": [
    {
     "ename": "AttributeError",
     "evalue": "type object 'Shape' has no attribute 'Rectangle'",
     "output_type": "error",
     "traceback": [
      "\u001b[1;31m---------------------------------------------------------------------------\u001b[0m",
      "\u001b[1;31mAttributeError\u001b[0m                            Traceback (most recent call last)",
      "Cell \u001b[1;32mIn [82], line 58\u001b[0m\n\u001b[0;32m     51\u001b[0m         \u001b[39melse\u001b[39;00m:\n\u001b[0;32m     52\u001b[0m             \u001b[39mreturn\u001b[39;00m \u001b[39mprint\u001b[39m(\u001b[39m\"\u001b[39m\u001b[39mThis is not a square\u001b[39m\u001b[39m\"\u001b[39m)\n\u001b[1;32m---> 58\u001b[0m rectangle1 \u001b[39m=\u001b[39m Shape\u001b[39m.\u001b[39;49mRectangle(\u001b[39m3\u001b[39m,\u001b[39m4\u001b[39m,\u001b[39m6\u001b[39m,\u001b[39m6\u001b[39m)\n\u001b[0;32m     59\u001b[0m rectangle2 \u001b[39m=\u001b[39m Shape\u001b[39m.\u001b[39mRectangle(\u001b[39m4\u001b[39m,\u001b[39m6\u001b[39m,\u001b[39m8\u001b[39m,\u001b[39m7\u001b[39m)\n\u001b[0;32m     61\u001b[0m \u001b[39mprint\u001b[39m(rectangle1)\n",
      "\u001b[1;31mAttributeError\u001b[0m: type object 'Shape' has no attribute 'Rectangle'"
     ]
    }
   ],
   "source": [
    "from __future__ import annotations\n",
    "\n",
    "\n",
    "class Rectangle: #(Shape)\n",
    "    def __init__(self, height:float|int, length:float|int):\n",
    "        self.height = height\n",
    "        self.length = length\n",
    " \n",
    " \n",
    "    def __str__(self):\n",
    "        return \"This is a Rectangle with x position of \" + str(self.x_pos) + \" and y position of  \" + str(self.y_pos) + \". It has a height of \" + str(self.height) + \" and a length of \" + str(self.length)\n",
    "    # overrides so that this string can be viewed when the object is called within the class\n",
    "    def __repr__(self) -> str:\n",
    "        return \"Rectangle (position x = \" + str(self.x_pos) + \", position y = \"+ str(self.y_pos) + \", length = \"+ str(self.length) + \", height =\" + str(self.height) + \")\" \n",
    "\n",
    "    @property\n",
    "    def height(self) -> float|int:\n",
    "        return self._height\n",
    "\n",
    "    @height.setter\n",
    "    def height(self,value: float|int):\n",
    "        if isinstance(value, str): # makes sure that imputed value is not a string\n",
    "            raise TypeError(f\"y position must be a float or int value, not {type(value)}\")\n",
    "        self._height = value\n",
    "\n",
    "    @property\n",
    "    def length(self) -> float|int:\n",
    "        return self._length\n",
    "\n",
    "    @length.setter\n",
    "    def length(self,value: float|int):\n",
    "        if isinstance(value, str): # makes sure that imputed value is not a string\n",
    "            raise TypeError(f\"y position must be a float or int value, not {type(value)}\")\n",
    "        self._length = value\n",
    "\n",
    "\n",
    "\n",
    "\n",
    "    @property\n",
    "    def area(self) -> float:\n",
    "        return self.height * self.length\n",
    "\n",
    "    @property\n",
    "    def circumference(self) -> float:\n",
    "        return (self.length *2) + (self.height * 2)\n",
    "\n",
    "    @property\n",
    "    def is_square(self) -> True:\n",
    "        if self._length == self._height:\n",
    "           return print(\"This is a square \")\n",
    "        else:\n",
    "            return print(\"This is not a square\")\n",
    "\n",
    "    def is_inside(self, x_pos, y_pos):\n",
    "        if x_pos-(self.length / 2) < x_pos < x_pos +(self.length / 2) and y_pos -(self.height/2) < y_pos < y_pos +(self.height/2):\n",
    "            return True\n",
    "        return False\n",
    "\n",
    "\n",
    " \n",
    "\n",
    "\n",
    "\n",
    "rectangle1 = Shape.Rectangle(3,4,6,6)\n",
    "rectangle2 = Shape.Rectangle(4,6,8,7)\n",
    "\n",
    "print(rectangle1)\n",
    "     "
   ]
  },
  {
   "cell_type": "code",
   "execution_count": null,
   "metadata": {},
   "outputs": [
    {
     "ename": "TypeError",
     "evalue": "__init__() takes 1 positional argument but 4 were given",
     "output_type": "error",
     "traceback": [
      "\u001b[1;31m---------------------------------------------------------------------------\u001b[0m",
      "\u001b[1;31mTypeError\u001b[0m                                 Traceback (most recent call last)",
      "Cell \u001b[1;32mIn [83], line 1\u001b[0m\n\u001b[1;32m----> 1\u001b[0m c1 \u001b[39m=\u001b[39m Circle(\u001b[39m2\u001b[39;49m,\u001b[39m4\u001b[39;49m,\u001b[39m5\u001b[39;49m)\n\u001b[0;32m      2\u001b[0m c2 \u001b[39m=\u001b[39m Circle(\u001b[39m5\u001b[39m,\u001b[39m7\u001b[39m,\u001b[39m5\u001b[39m)\n\u001b[0;32m      3\u001b[0m r1 \u001b[39m=\u001b[39m Rectangle(\u001b[39m3\u001b[39m,\u001b[39m5\u001b[39m,\u001b[39m5\u001b[39m,\u001b[39m8\u001b[39m)\n",
      "\u001b[1;31mTypeError\u001b[0m: __init__() takes 1 positional argument but 4 were given"
     ]
    }
   ],
   "source": [
    "c1 = Circle(2,4,5)\n",
    "c2 = Circle(5,7,5)\n",
    "r1 = Rectangle(3,5,5,8)\n",
    "\n",
    "c1 == c2, c1 == r1"
   ]
  },
  {
   "cell_type": "code",
   "execution_count": 101,
   "metadata": {},
   "outputs": [
    {
     "ename": "TypeError",
     "evalue": "__init__() takes 3 positional arguments but 5 were given",
     "output_type": "error",
     "traceback": [
      "\u001b[1;31m---------------------------------------------------------------------------\u001b[0m",
      "\u001b[1;31mTypeError\u001b[0m                                 Traceback (most recent call last)",
      "Cell \u001b[1;32mIn [101], line 1\u001b[0m\n\u001b[1;32m----> 1\u001b[0m c1 \u001b[39m=\u001b[39m Rectangle(\u001b[39m3\u001b[39;49m,\u001b[39m5\u001b[39;49m,\u001b[39m4\u001b[39;49m,\u001b[39m3\u001b[39;49m)\n\u001b[0;32m      2\u001b[0m c1\n",
      "\u001b[1;31mTypeError\u001b[0m: __init__() takes 3 positional arguments but 5 were given"
     ]
    }
   ],
   "source": [
    "c1 = Rectangle(3,5,4,3)\n",
    "c1"
   ]
  },
  {
   "cell_type": "code",
   "execution_count": 102,
   "metadata": {},
   "outputs": [
    {
     "name": "stdout",
     "output_type": "stream",
     "text": [
      "This is a Rectangle with x position = 3 and y position =  5. It has a height of 4 and a length of 3\n"
     ]
    }
   ],
   "source": [
    "print(c1)"
   ]
  }
 ],
 "metadata": {
  "kernelspec": {
   "display_name": "Python 3.9.13 ('python-sam-glass-f9Gfa9m9')",
   "language": "python",
   "name": "python3"
  },
  "language_info": {
   "codemirror_mode": {
    "name": "ipython",
    "version": 3
   },
   "file_extension": ".py",
   "mimetype": "text/x-python",
   "name": "python",
   "nbconvert_exporter": "python",
   "pygments_lexer": "ipython3",
   "version": "3.9.13"
  },
  "orig_nbformat": 4,
  "vscode": {
   "interpreter": {
    "hash": "c54bac0ad9a8758ea607748194fff43bd5680f7a659873af8c80514da573df4a"
   }
  }
 },
 "nbformat": 4,
 "nbformat_minor": 2
}
