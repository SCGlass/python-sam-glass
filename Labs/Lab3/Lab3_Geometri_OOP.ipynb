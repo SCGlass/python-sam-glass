{
 "cells": [
  {
   "cell_type": "markdown",
   "metadata": {},
   "source": [
    "## Creating a shape class"
   ]
  },
  {
   "cell_type": "code",
   "execution_count": 4,
   "metadata": {},
   "outputs": [
    {
     "ename": "TypeError",
     "evalue": "__init__() takes 2 positional arguments but 4 were given",
     "output_type": "error",
     "traceback": [
      "\u001b[1;31m---------------------------------------------------------------------------\u001b[0m",
      "\u001b[1;31mTypeError\u001b[0m                                 Traceback (most recent call last)",
      "Cell \u001b[1;32mIn [4], line 3\u001b[0m\n\u001b[0;32m      1\u001b[0m \u001b[39mfrom\u001b[39;00m \u001b[39m__future__\u001b[39;00m \u001b[39mimport\u001b[39;00m annotations\n\u001b[1;32m----> 3\u001b[0m \u001b[39mclass\u001b[39;00m \u001b[39mShape\u001b[39;00m:\n\u001b[0;32m      4\u001b[0m     \u001b[39m#TODO def __innit__ what type of functions will the shape class have \u001b[39;00m\n\u001b[0;32m      5\u001b[0m     \u001b[39mdef\u001b[39;00m \u001b[39m__innit__\u001b[39m(\u001b[39mself\u001b[39m, x_pos, y_pos):\n\u001b[0;32m      6\u001b[0m         \u001b[39mself\u001b[39m\u001b[39m.\u001b[39mx_pos \u001b[39m=\u001b[39m x_pos\n",
      "Cell \u001b[1;32mIn [4], line 26\u001b[0m, in \u001b[0;36mShape\u001b[1;34m()\u001b[0m\n\u001b[0;32m     23\u001b[0m \u001b[39mdef\u001b[39;00m \u001b[39m__ge__\u001b[39m(\u001b[39mself\u001b[39m, other) \u001b[39m-\u001b[39m\u001b[39m>\u001b[39m \u001b[39mbool\u001b[39m:\n\u001b[0;32m     24\u001b[0m     \u001b[39mpass\u001b[39;00m\n\u001b[1;32m---> 26\u001b[0m circle1 \u001b[39m=\u001b[39mCircle(\u001b[39m3\u001b[39;49m,\u001b[39m4\u001b[39;49m,\u001b[39m5\u001b[39;49m)\n",
      "\u001b[1;31mTypeError\u001b[0m: __init__() takes 2 positional arguments but 4 were given"
     ]
    }
   ],
   "source": [
    "from __future__ import annotations\n",
    "\n",
    "class Shape:\n",
    "    #TODO def __innit__ what type of functions will the shape class have \n",
    "    def __innit__(self, x_pos, y_pos):\n",
    "        self.x_pos = x_pos\n",
    "        self.y_pos = y_pos\n",
    "\n",
    "    #==\n",
    "    def __eq__(self, other) -> bool:\n",
    "        pass\n",
    "    # <\n",
    "    def __lt__(self, other) -> bool:\n",
    "        pass\n",
    "    # >\n",
    "    def __gt__(self, other) -> bool:\n",
    "        pass\n",
    "    # <=\n",
    "    def __le__(self, other) -> bool:\n",
    "        pass\n",
    "    #\n",
    "    def __ge__(self, other) -> bool:\n",
    "        pass\n",
    "\n",
    "            \n",
    "    \n"
   ]
  },
  {
   "cell_type": "markdown",
   "metadata": {},
   "source": [
    "## creating a circle class"
   ]
  },
  {
   "cell_type": "code",
   "execution_count": 7,
   "metadata": {},
   "outputs": [
    {
     "name": "stdout",
     "output_type": "stream",
     "text": [
      "Circle (position x = 4, position y =  7, radius = 7)\n",
      "153.93804002589985\n",
      "43.982297150257104\n",
      "Circle (position x = 30, position y =  43, radius = 5)\n",
      "78.53981633974483\n",
      "31.41592653589793\n"
     ]
    },
    {
     "ename": "NameError",
     "evalue": "name 'patches' is not defined",
     "output_type": "error",
     "traceback": [
      "\u001b[1;31m---------------------------------------------------------------------------\u001b[0m",
      "\u001b[1;31mNameError\u001b[0m                                 Traceback (most recent call last)",
      "Cell \u001b[1;32mIn [7], line 108\u001b[0m\n\u001b[0;32m    104\u001b[0m \u001b[39mprint\u001b[39m(circle2\u001b[39m.\u001b[39marea)\n\u001b[0;32m    105\u001b[0m \u001b[39mprint\u001b[39m(circle2\u001b[39m.\u001b[39mcircumference)\n\u001b[1;32m--> 108\u001b[0m \u001b[39mprint\u001b[39m(circle2\u001b[39m.\u001b[39;49mplot_circle)\n",
      "Cell \u001b[1;32mIn [7], line 81\u001b[0m, in \u001b[0;36mCircle.plot_circle\u001b[1;34m(self)\u001b[0m\n\u001b[0;32m     79\u001b[0m fig \u001b[39m=\u001b[39m plt\u001b[39m.\u001b[39mfigure()\n\u001b[0;32m     80\u001b[0m ax \u001b[39m=\u001b[39m fig\u001b[39m.\u001b[39madd_subplot()\n\u001b[1;32m---> 81\u001b[0m Circle \u001b[39m=\u001b[39m patches\u001b[39m.\u001b[39mCircle((\u001b[39mself\u001b[39m\u001b[39m.\u001b[39mx_pos, \u001b[39mself\u001b[39m\u001b[39m.\u001b[39my_pos),\u001b[39mself\u001b[39m\u001b[39m.\u001b[39mradius, color\u001b[39m=\u001b[39m\u001b[39m'\u001b[39m\u001b[39mr\u001b[39m\u001b[39m'\u001b[39m)\n\u001b[0;32m     82\u001b[0m ax\u001b[39m.\u001b[39madd_patch(Circle)\n\u001b[0;32m     83\u001b[0m ax\u001b[39m.\u001b[39maxis(\u001b[39m'\u001b[39m\u001b[39mequal\u001b[39m\u001b[39m'\u001b[39m)\n",
      "\u001b[1;31mNameError\u001b[0m: name 'patches' is not defined"
     ]
    },
    {
     "data": {
      "image/png": "[encoded data removed]",
      "text/plain": [
       "<Figure size 1000x1000 with 1 Axes>"
      ]
     },
     "metadata": {},
     "output_type": "display_data"
    }
   ],
   "source": [
    "from turtle import color\n",
    "import matplotlib.pyplot as plt\n",
    "import math\n",
    "from __future__ import annotations\n",
    "\n",
    "class Circle(Shape):\n",
    "    \n",
    "    def __init__(self, x_pos:float|int, y_pos:float|int, radius: float|int) -> list:\n",
    "        self.x_pos = x_pos\n",
    "        self.y_pos = y_pos\n",
    "        self.radius = radius\n",
    "\n",
    "    def __str__(self) ->str:\n",
    "        return \"Circle (position x = \" + str(self.x_pos) + \", position y =  \" + str(self.y_pos) + \", radius = \" + str(self.radius) + \")\" \n",
    "    # overrides so that this string can be viewed when the object is called within the class\n",
    "    def __repr__(self) -> str:\n",
    "        return \"Circle (x = \" + str(self.x_pos) + \", y =  \" + str(self.y_pos) + \", radius = \" + str(self.radius) + \")\"\n",
    "    \n",
    "\n",
    "    # extra properties\n",
    "    @property # radius\n",
    "    def radius(self) -> float|int:\n",
    "        return self._radius\n",
    "\n",
    "    @radius.setter\n",
    "    def radius(self,value: float|int):\n",
    "        if isinstance(value, str): # makes sure that imputed value is not a string\n",
    "            raise TypeError(f\"Radius must be a float or int value, not {type(value)}\")\n",
    "        if (value < 0):\n",
    "            raise ValueError(\"radius must be a positive number, not a negative\") # raises an error if a negative number is entered\n",
    "        self._radius = value\n",
    "\n",
    "    @property # x position\n",
    "    def x_pos(self) -> float|int:\n",
    "        return self._x_pos\n",
    "\n",
    "    @x_pos.setter\n",
    "    def x_pos(self,value: float|int):\n",
    "        if isinstance(value, str): # makes sure that imputed value is not a string\n",
    "            raise TypeError(f\"x position must be a float value, not {type(value)}\")\n",
    "        self._x_pos = value\n",
    "       \n",
    "    @property # y position\n",
    "    def y_pos(self) -> float|int:\n",
    "        return self._y_pos\n",
    "\n",
    "    @y_pos.setter\n",
    "    def y_pos(self,value: float|int):\n",
    "        if isinstance(value, str): # makes sure that imputed value is not a string\n",
    "            raise TypeError(f\"y position must be a float value, not {type(value)}\")\n",
    "        self._y_pos = value\n",
    "    \n",
    "    @property\n",
    "    def area(self) -> float:\n",
    "        return math.pi*(self.radius)**2\n",
    "\n",
    "    @property\n",
    "    def circumference(self) -> float:\n",
    "        return 2*math.pi*self.radius\n",
    "\n",
    "    # method\n",
    "    @property\n",
    "    def is_unit_circle(self) -> True:\n",
    "        if self._radius == 1:\n",
    "           return \"This is a Unit circle\"\n",
    "        return \"This is not a Unit circle\"\n",
    "\n",
    "    @property\n",
    "    def plot_circle(self):\n",
    "        #fig, ax = plt.subplots()\n",
    "        #ax.add_patch(plt.Circle((self.x_pos, self.y_pos), self.radius, color='r'))\n",
    "\n",
    "        #ax.set_aspect(1)\n",
    "        #ax.plot() \n",
    "        #plt.show()\n",
    "        plt.rcParams[\"figure.figsize\"] = [10,10]\n",
    "        plt.rcParams[\"figure.autolayout\"] = True\n",
    "        fig = plt.figure()\n",
    "        ax = fig.add_subplot()\n",
    "        Circle = patches.Circle((self.x_pos, self.y_pos),self.radius, color='r')\n",
    "        ax.add_patch(Circle)\n",
    "        ax.axis('equal')\n",
    "        plt.show()\n",
    "        \n",
    "    \n",
    "        \n",
    "\n",
    "       \n",
    "\n",
    "\n",
    "\n",
    "\n",
    "\n",
    "    \n",
    "circle1 = Circle(4,7,7)\n",
    "circle2 = Circle(30,43,5)\n",
    "\n",
    "print(circle1)\n",
    "print(circle1.area)\n",
    "print(circle1.circumference)\n",
    "\n",
    "print(circle2)\n",
    "print(circle2.area)\n",
    "print(circle2.circumference)\n",
    "\n",
    "\n",
    "print(circle2.plot_circle)\n",
    "\n",
    "\n",
    "\n",
    "\n"
   ]
  },
  {
   "cell_type": "markdown",
   "metadata": {},
   "source": [
    "## creating a rectangle class"
   ]
  },
  {
   "cell_type": "code",
   "execution_count": 16,
   "metadata": {},
   "outputs": [
    {
     "data": {
      "text/plain": [
       "Circle (x = 4, y =  6, height = 8, length = 7)"
      ]
     },
     "execution_count": 16,
     "metadata": {},
     "output_type": "execute_result"
    }
   ],
   "source": [
    "import matplotlib.pyplot as plt\n",
    "\n",
    "from __future__ import annotations\n",
    "\n",
    "\n",
    "class Rectangle: #(Shape)\n",
    "    def __init__(self, x_pos:float|int, y_pos:float|int, height:float|int, length:float|int):\n",
    "        self.x_pos = x_pos\n",
    "        self.y_pos = y_pos\n",
    "        self.height = height\n",
    "        self.length = length\n",
    " \n",
    " \n",
    "    def __str__(self):\n",
    "        return \"Rectangle (position x = \" + str(self.x_pos) + \", position y =  \" + str(self.y_pos) + \", length = \" + str(self.length) + \", height =\" + str(self.height) + \")\" \n",
    "    # overrides so that this string can be viewed when the object is called within the class\n",
    "    def __repr__(self) -> str:\n",
    "        return \"Circle (x = \" + str(self.x_pos) + \", y =  \" + str(self.y_pos) + \", height = \" + str(self.height) + \", length = \" + str(self.length) + \")\"\n",
    "\n",
    "\n",
    "\n",
    "    @property # x position\n",
    "    def x_pos(self) -> float|int:\n",
    "        return self._x_pos\n",
    "\n",
    "    @x_pos.setter\n",
    "    def x_pos(self,value: float|int):\n",
    "        if isinstance(value, str): # makes sure that imputed value is not a string\n",
    "            raise TypeError(f\"x position must be a float or int value, not {type(value)}\")\n",
    "        self._x_pos = value\n",
    "       \n",
    "    @property # y position\n",
    "    def y_pos(self) -> float|int:\n",
    "        return self._y_pos\n",
    "\n",
    "    @y_pos.setter\n",
    "    def y_pos(self,value: float|int):\n",
    "        if isinstance(value, str): # makes sure that imputed value is not a string\n",
    "            raise TypeError(f\"y position must be a float or int value, not {type(value)}\")\n",
    "        self._y_pos = value\n",
    "    \n",
    "    @property\n",
    "    def height(self) -> float|int:\n",
    "        return self._height\n",
    "\n",
    "    @height.setter\n",
    "    def height(self,value: float|int):\n",
    "        if isinstance(value, str): # makes sure that imputed value is not a string\n",
    "            raise TypeError(f\"y position must be a float or int value, not {type(value)}\")\n",
    "        self._height = value\n",
    "\n",
    "    @property\n",
    "    def length(self) -> float|int:\n",
    "        return self._length\n",
    "\n",
    "    @length.setter\n",
    "    def length(self,value: float|int):\n",
    "        if isinstance(value, str): # makes sure that imputed value is not a string\n",
    "            raise TypeError(f\"y position must be a float or int value, not {type(value)}\")\n",
    "        self._length = value\n",
    "\n",
    "\n",
    "\n",
    "\n",
    "    @property\n",
    "    def area(self) -> float:\n",
    "        return self.height * self.length\n",
    "\n",
    "    @property\n",
    "    def circumference(self) -> float:\n",
    "        return (self.length *2) + (self.height * 2)\n",
    "\n",
    "    @property\n",
    "    def is_square(self) -> True:\n",
    "        if self._length == self._height:\n",
    "           return print(\"This is a square \")\n",
    "        else:\n",
    "            return print(\"This is not a square\")\n",
    "\n",
    " \n",
    "\n",
    "\n",
    "\n",
    "rectangle1 = Rectangle(3,5,6,6)\n",
    "rectangle2 = Rectangle(4,6,8,7)\n",
    "\n",
    "rectangle2        "
   ]
  }
 ],
 "metadata": {
  "kernelspec": {
   "display_name": "Python 3.9.13 ('python-sam-glass-f9Gfa9m9')",
   "language": "python",
   "name": "python3"
  },
  "language_info": {
   "codemirror_mode": {
    "name": "ipython",
    "version": 3
   },
   "file_extension": ".py",
   "mimetype": "text/x-python",
   "name": "python",
   "nbconvert_exporter": "python",
   "pygments_lexer": "ipython3",
   "version": "3.9.13"
  },
  "orig_nbformat": 4,
  "vscode": {
   "interpreter": {
    "hash": "c54bac0ad9a8758ea607748194fff43bd5680f7a659873af8c80514da573df4a"
   }
  }
 },
 "nbformat": 4,
 "nbformat_minor": 2
}
