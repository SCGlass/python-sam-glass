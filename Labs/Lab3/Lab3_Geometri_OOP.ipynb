{
 "cells": [
  {
   "cell_type": "markdown",
   "metadata": {},
   "source": [
    "## Creating a shape class"
   ]
  },
  {
   "cell_type": "code",
   "execution_count": 1,
   "metadata": {},
   "outputs": [],
   "source": [
    "class Shape:\n",
    "    #TODO def __innit__ what type of functions will the shape class have \n",
    "    def __innit__(self, x_pos, y_pos):\n",
    "        self.x_pos = x_pos\n",
    "        self.y_pos = y_pos\n",
    "\n",
    "    #TODO def methods that will be within the shape class\n",
    "    def shape(self):\n",
    "        pass    \n",
    "    #TODO fix setters and getters to help with ErrorHandling\n",
    "\n"
   ]
  },
  {
   "cell_type": "markdown",
   "metadata": {},
   "source": [
    "## creating a circle class"
   ]
  },
  {
   "cell_type": "code",
   "execution_count": 56,
   "metadata": {},
   "outputs": [
    {
     "name": "stdout",
     "output_type": "stream",
     "text": [
      "Circle (x = 5, y =  7, radius = 5)\n",
      "78.53981633974483\n",
      "31.41592653589793\n",
      "Circle (x = 3, y =  4, radius = 4)\n",
      "50.26548245743669\n",
      "25.132741228718345\n"
     ]
    }
   ],
   "source": [
    "import math\n",
    "from __future__ import annotations\n",
    "\n",
    "class Circle:\n",
    "    \n",
    "    def __init__(self, x_pos: float|int, y_pos: float|int, radius: float|int):\n",
    "        self.x_pos = x_pos\n",
    "        self.y_pos = y_pos\n",
    "        self.radius = radius\n",
    "\n",
    "    def __str__(self):\n",
    "        return \"Circle (x = \" + str(self.x_pos) + \", y =  \" + str(self.y_pos) + \", radius = \" + str(self.radius) + \")\" #TODO fix so it is more user friendly\n",
    "    # overrides so that this string can be viewed when the object is called within the class\n",
    "    def __repr__(self) -> str:\n",
    "        return \"Circle (x = \" + str(self.x_pos) + \", y =  \" + str(self.y_pos) + \", radius = \" + str(self.radius) + \")\"\n",
    "    \n",
    "\n",
    "    # extra properties\n",
    "    @property # radius\n",
    "    def radius(self) -> float|int:\n",
    "        return self._radius\n",
    "\n",
    "    @radius.setter\n",
    "    def radius(self,value: float|int):\n",
    "        if isinstance(value, str): # makes sure that imputed value is not a string\n",
    "            raise TypeError(f\"Radius must be a float value, not {type(value)}\")\n",
    "        if (value < 0):\n",
    "            raise ValueError(\"radius must be a positive number, not a negative\") # raises an error if a negative number is entered\n",
    "        self._radius = value\n",
    "\n",
    "    @property # x position\n",
    "    def x_pos(self) -> float|int:\n",
    "        return self._x_pos\n",
    "\n",
    "    @x_pos.setter\n",
    "    def x_pos(self,value: float|int):\n",
    "        if isinstance(value, str): # makes sure that imputed value is not a string\n",
    "            raise TypeError(f\"x position must be a float value, not {type(value)}\")\n",
    "        self._x_pos = value\n",
    "       \n",
    "    @property # y position\n",
    "    def y_pos(self) -> float|int:\n",
    "        return self._y_pos\n",
    "\n",
    "    @y_pos.setter\n",
    "    def y_pos(self,value: float|int):\n",
    "        if isinstance(value, str): # makes sure that imputed value is not a string\n",
    "            raise TypeError(f\"y position must be a float value, not {type(value)}\")\n",
    "        self._y_pos = value\n",
    "    \n",
    "    @property\n",
    "    def area(self) -> float:\n",
    "        \n",
    "        \n",
    "        return math.pi*(self.radius)**2\n",
    "\n",
    "    @property\n",
    "    def circumference(self) -> float:\n",
    "        return 2*math.pi*self.radius\n",
    "\n",
    "    # method\n",
    "    @property\n",
    "    def is_unit_circle(self) -> True:\n",
    "        if self._radius == 1:\n",
    "           return print(\"This is a Unit circle\")\n",
    "        else:\n",
    "            return print(\"This is not a Unit circle\")\n",
    "\n",
    "\n",
    "    \n",
    "circle1 = Circle(5,7,5)\n",
    "circle2 = Circle(3,4,4)\n",
    "\n",
    "print(circle1)\n",
    "print(circle1.area)\n",
    "print(circle1.circumference)\n",
    "\n",
    "print(circle2)\n",
    "print(circle2.area)\n",
    "print(circle2.circumference)\n",
    "\n",
    "\n",
    "\n",
    "\n"
   ]
  },
  {
   "cell_type": "markdown",
   "metadata": {},
   "source": [
    "## creating a rectangle class"
   ]
  },
  {
   "cell_type": "code",
   "execution_count": null,
   "metadata": {},
   "outputs": [
    {
     "ename": "SyntaxError",
     "evalue": "invalid syntax (3981039483.py, line 2)",
     "output_type": "error",
     "traceback": [
      "\u001b[1;36m  Cell \u001b[1;32mIn [25], line 2\u001b[1;36m\u001b[0m\n\u001b[1;33m    def __innit__(self, length:float, height:float, x_pos:float, y_pos:float)\u001b[0m\n\u001b[1;37m                                                                             ^\u001b[0m\n\u001b[1;31mSyntaxError\u001b[0m\u001b[1;31m:\u001b[0m invalid syntax\n"
     ]
    }
   ],
   "source": [
    "class Rectangle(Shape):\n",
    "    def __innit__(self, length:float, height:float, x_pos:float, y_pos:float)\n",
    "        self.length = length\n",
    "        self.height = height\n",
    "        self.x_pos = x_pos\n",
    "        self.y_pos = y_pos\n",
    "\n",
    "    @property\n",
    "    def area(self) -> float:\n",
    "        \n",
    "        "
   ]
  }
 ],
 "metadata": {
  "kernelspec": {
   "display_name": "Python 3.9.13 ('python-sam-glass-f9Gfa9m9')",
   "language": "python",
   "name": "python3"
  },
  "language_info": {
   "codemirror_mode": {
    "name": "ipython",
    "version": 3
   },
   "file_extension": ".py",
   "mimetype": "text/x-python",
   "name": "python",
   "nbconvert_exporter": "python",
   "pygments_lexer": "ipython3",
   "version": "3.9.13"
  },
  "orig_nbformat": 4,
  "vscode": {
   "interpreter": {
    "hash": "c54bac0ad9a8758ea607748194fff43bd5680f7a659873af8c80514da573df4a"
   }
  }
 },
 "nbformat": 4,
 "nbformat_minor": 2
}
