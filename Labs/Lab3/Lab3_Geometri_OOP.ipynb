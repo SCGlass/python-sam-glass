{
 "cells": [
  {
   "cell_type": "markdown",
   "metadata": {},
   "source": [
    "## Creating a shape class"
   ]
  },
  {
   "cell_type": "code",
   "execution_count": 204,
   "metadata": {},
   "outputs": [],
   "source": [
    "from __future__ import annotations\n",
    "\n",
    "class Shape:\n",
    "    def __init__(self, x_pos: float|int, y_pos: float|int) -> list:\n",
    "        self.x_pos = x_pos\n",
    "        self.y_pos = y_pos\n",
    "\n",
    "    @property # x position\n",
    "    def x_pos(self) -> float|int:\n",
    "        return self._x_pos\n",
    "\n",
    "    @x_pos.setter\n",
    "    def x_pos(self,value: float|int):\n",
    "        if isinstance(value, str): # makes sure that imputed value is not a string\n",
    "            raise TypeError(f\"x position must be a float value, not {type(value)}\")\n",
    "        self._x_pos = value\n",
    "       \n",
    "    @property # y position\n",
    "    def y_pos(self) -> float|int:\n",
    "        return self._y_pos\n",
    "\n",
    "    @y_pos.setter\n",
    "    def y_pos(self,value: float|int):\n",
    "        if isinstance(value, str): # makes sure that imputed value is not a string\n",
    "            raise TypeError(f\"y position must be a float value, not {type(value)}\")\n",
    "        self._y_pos = value\n",
    "    \n",
    "    #==\n",
    "    def __eq__(self, other) -> bool:\n",
    "        if type(self) == type(other):\n",
    "            return self.area == other.area\n",
    "        return False\n",
    "\n",
    "        # <\n",
    "    def __lt__(self, other) -> bool:\n",
    "        if type(self) == type(other):\n",
    "            return self.area < other.area\n",
    "        return False\n",
    "\n",
    "    # >\n",
    "    def __gt__(self, other) -> bool:\n",
    "        if type(self) == type(other):\n",
    "            return self.area > other.area\n",
    "        return False\n",
    "        \n",
    "    # <=\n",
    "    def __le__(self, other) -> bool:\n",
    "        if type(self) == type(other):\n",
    "            return self.area <= other.area\n",
    "        return False\n",
    "    # =>\n",
    "    def __ge__(self, other) -> bool:\n",
    "        if type(self) == type(other):\n",
    "            return self.area >= other.area\n",
    "        return False\n",
    "    \n",
    "    \n",
    "    def translate(self,x_other, y_other) -> int|float: \n",
    "         self.x_pos += x_other \n",
    "         self.y_pos += y_other "
   ]
  },
  {
   "cell_type": "markdown",
   "metadata": {},
   "source": [
    "## creating a circle class"
   ]
  },
  {
   "cell_type": "code",
   "execution_count": 205,
   "metadata": {},
   "outputs": [],
   "source": [
    "import math\n",
    "from __future__ import annotations\n",
    "\n",
    "class Circle(Shape):\n",
    "    \n",
    "    def __init__(self, x_pos, y_pos, radius: float|int) -> list:\n",
    "        super().__init__(x_pos, y_pos,)\n",
    "        self.radius = radius\n",
    "\n",
    "    \n",
    "\n",
    "    def __str__(self) ->str:\n",
    "        return \"This is a Circle with position x of \" + str(self.x_pos) + \", position y of  \" + str(self.y_pos) + \", and a radius of of \" + str(self.radius) \n",
    "    # overrides so that this string can be viewed when the object is called within the class\n",
    "    def __repr__(self) -> str:\n",
    "        return \"Circle (x = \" + str(self.x_pos) + \", y =  \" + str(self.y_pos) + \", radius = \" + str(self.radius) + \")\"\n",
    "    \n",
    "\n",
    "    # extra properties\n",
    "    @property # radius\n",
    "    def radius(self) -> float|int:\n",
    "        return self._radius\n",
    "\n",
    "    @radius.setter\n",
    "    def radius(self,value: float|int):\n",
    "        if isinstance(value, str): # makes sure that imputed value is not a string\n",
    "            raise TypeError(f\"Radius must be a float or int value, not {type(value)}\")\n",
    "        if (value < 0):\n",
    "            raise ValueError(\"radius must be a positive number, not a negative\") # raises an error if a negative number is entered\n",
    "        self._radius = value\n",
    "\n",
    "    \n",
    "    \n",
    "    @property\n",
    "    def area(self) -> float:\n",
    "        return math.pi*(self.radius)**2\n",
    "\n",
    "    @property\n",
    "    def circumference(self) -> float:\n",
    "        return 2*math.pi*self.radius\n",
    "\n",
    "    # method\n",
    "    @property\n",
    "    def is_unit_circle(self) -> True:\n",
    "        if self._radius == 1:\n",
    "           return \"This is a Unit circle\"\n",
    "        return \"This is not a Unit circle\"\n",
    "\n",
    "    def is_inside(self, x_test, y_test,):\n",
    "        \"\"\" hfh\"\"\"\n",
    "        distance = math.sqrt((self.x_pos - x_test)**2 + (self.y_pos - y_test)**2)\n",
    "        if distance < self.radius:\n",
    "            return True\n",
    "        return False # When the point is on the boundary i believe it is not within the circle\n",
    "        \n",
    "        \n",
    "        \n",
    "\n",
    "            "
   ]
  },
  {
   "cell_type": "code",
   "execution_count": 206,
   "metadata": {},
   "outputs": [],
   "source": [
    "# Plotting. Try this later if possible\n",
    "\n",
    "    #@property\n",
    "    #def plot_circle(self):\n",
    "        #pass\n",
    "    \n",
    "        #fig, ax = plt.subplots()\n",
    "        #ax.add_patch(plt.Circle((self.x_pos, self.y_pos), self.radius, color='r'))\n",
    "\n",
    "        #ax.set_aspect(1)\n",
    "        #ax.plot() \n",
    "        #plt.show()\n",
    "        #plt.rcParams[\"figure.figsize\"] = [10,10]\n",
    "        #plt.rcParams[\"figure.autolayout\"] = True\n",
    "        #fig = plt.figure()\n",
    "        #ax = fig.add_subplot()\n",
    "        #Circle = patches.Circle((self.x_pos, self.y_pos),self.radius, color='r')\n",
    "        #ax.add_patch(Circle)\n",
    "        #ax.axis('equal')\n",
    "        #plt.show()\n",
    "        \n",
    "        #figure, axes = plt.subplots() \n",
    "        #cc = plt.Circle((self.x_pos , self.y_pos ), self._radius ) \n",
    " \n",
    "        #axes.set_aspect(1) \n",
    "        #axes.add_artist( cc ) \n",
    "        #plt.title( 'Colored Circle' ) \n",
    "        #plt.show()\n",
    "        "
   ]
  },
  {
   "cell_type": "markdown",
   "metadata": {},
   "source": [
    "## creating a rectangle class"
   ]
  },
  {
   "cell_type": "code",
   "execution_count": 207,
   "metadata": {},
   "outputs": [],
   "source": [
    "from __future__ import annotations\n",
    "\n",
    "\n",
    "class Rectangle(Shape): #(Shape)\n",
    "    def __init__(self, x_pos, y_pos, height:float|int, length:float|int):\n",
    "        super().__init__(x_pos, y_pos)\n",
    "        self.height = height\n",
    "        self.length = length\n",
    " \n",
    " \n",
    "    def __str__(self):\n",
    "        return \"This is a Rectangle with x position of \" + str(self.x_pos) + \" and y position of  \" + str(self.y_pos) + \". It has a height of \" + str(self.height) + \" and a length of \" + str(self.length)\n",
    "    # overrides so that this string can be viewed when the object is called within the class\n",
    "    def __repr__(self) -> str:\n",
    "        return \"Rectangle (position x = \" + str(self.x_pos) + \", position y = \"+ str(self.y_pos) + \", length = \"+ str(self.length) + \", height =\" + str(self.height) + \")\" \n",
    "\n",
    "    @property\n",
    "    def height(self) -> float|int:\n",
    "        return self._height\n",
    "\n",
    "    @height.setter\n",
    "    def height(self,value: float|int):\n",
    "        if isinstance(value, str): # makes sure that imputed value is not a string\n",
    "            raise TypeError(f\"y position must be a float or int value, not {type(value)}\")\n",
    "        self._height = value\n",
    "\n",
    "    @property\n",
    "    def length(self) -> float|int:\n",
    "        return self._length\n",
    "\n",
    "    @length.setter\n",
    "    def length(self,value: float|int):\n",
    "        if isinstance(value, str): # makes sure that imputed value is not a string\n",
    "            raise TypeError(f\"y position must be a float or int value, not {type(value)}\")\n",
    "        self._length = value\n",
    "\n",
    "\n",
    "\n",
    "\n",
    "    @property\n",
    "    def area(self) -> float:\n",
    "        return self.height * self.length\n",
    "\n",
    "    @property\n",
    "    def circumference(self) -> float:\n",
    "        return (self.length *2) + (self.height * 2)\n",
    "\n",
    "    @property\n",
    "    def is_square(self) -> True:\n",
    "        if self._length == self._height:\n",
    "           return print(\"This is a square \")\n",
    "        else:\n",
    "            return print(\"This is not a square\")\n",
    "\n",
    "    def is_inside(self, x_pos, y_pos):\n",
    "        x_min = self.x_pos - (self.length / 2)\n",
    "        x_max = self.x_pos + (self.length / 2)\n",
    "        y_min = self.y_pos - (self.height / 2)\n",
    "        y_max = self.y_pos + (self.height / 2)\n",
    "        \n",
    "        if x_min < x_pos < x_max and y_min < y_pos < y_max:\n",
    "            return True\n",
    "        return False\n",
    "\n"
   ]
  },
  {
   "cell_type": "code",
   "execution_count": 208,
   "metadata": {},
   "outputs": [
    {
     "name": "stdout",
     "output_type": "stream",
     "text": [
      "This is a Circle with position x of 2, position y of  2, and a radius of of 2\n",
      "True\n"
     ]
    }
   ],
   "source": [
    "c1 = Circle(2,2,2)\n",
    "print(c1)\n",
    "print(c1.is_inside(3.9,2)) "
   ]
  },
  {
   "cell_type": "code",
   "execution_count": 209,
   "metadata": {},
   "outputs": [
    {
     "name": "stdout",
     "output_type": "stream",
     "text": [
      "This is a Rectangle with x position of 2 and y position of  2. It has a height of 4 and a length of 4\n",
      "False\n"
     ]
    }
   ],
   "source": [
    "r1 = Rectangle(2,2,4,4)\n",
    "print(r1)\n",
    "print(r1.is_inside(5,5))"
   ]
  },
  {
   "cell_type": "code",
   "execution_count": 214,
   "metadata": {},
   "outputs": [
    {
     "data": {
      "text/plain": [
       "True"
      ]
     },
     "execution_count": 214,
     "metadata": {},
     "output_type": "execute_result"
    }
   ],
   "source": [
    "c1 = Circle(2,3,4)\n",
    "c2 = Circle(2,5,5)\n",
    "\n",
    "c1 <= c2"
   ]
  }
 ],
 "metadata": {
  "kernelspec": {
   "display_name": "Python 3.9.13 ('python-sam-glass-f9Gfa9m9')",
   "language": "python",
   "name": "python3"
  },
  "language_info": {
   "codemirror_mode": {
    "name": "ipython",
    "version": 3
   },
   "file_extension": ".py",
   "mimetype": "text/x-python",
   "name": "python",
   "nbconvert_exporter": "python",
   "pygments_lexer": "ipython3",
   "version": "3.9.13"
  },
  "orig_nbformat": 4,
  "vscode": {
   "interpreter": {
    "hash": "c54bac0ad9a8758ea607748194fff43bd5680f7a659873af8c80514da573df4a"
   }
  }
 },
 "nbformat": 4,
 "nbformat_minor": 2
}
