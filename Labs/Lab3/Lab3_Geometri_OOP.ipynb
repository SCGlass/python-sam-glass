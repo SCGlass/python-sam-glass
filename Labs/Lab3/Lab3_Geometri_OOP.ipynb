{
 "cells": [
  {
   "cell_type": "markdown",
   "metadata": {},
   "source": [
    "## Creating a shape class"
   ]
  },
  {
   "cell_type": "code",
   "execution_count": 23,
   "metadata": {},
   "outputs": [],
   "source": [
    "class Shape:\n",
    "    #TODO def __innit__ what type of functions will the shape class have \n",
    "    def __innit__(self, x_pos, y_pos):\n",
    "        self.x_pos = x_pos\n",
    "        self.y_pos = y_pos\n",
    "\n",
    "    #TODO def methods that will be within the shape class\n",
    "    def shape(self):\n",
    "        pass    \n",
    "    #TODO fix setters and getters to help with ErrorHandling\n",
    "\n"
   ]
  },
  {
   "cell_type": "markdown",
   "metadata": {},
   "source": [
    "## creating a circle class"
   ]
  },
  {
   "cell_type": "code",
   "execution_count": 27,
   "metadata": {},
   "outputs": [
    {
     "data": {
      "text/plain": [
       "<__main__.Circle at 0x2aa33d2ddc0>"
      ]
     },
     "execution_count": 27,
     "metadata": {},
     "output_type": "execute_result"
    }
   ],
   "source": [
    "import math\n",
    "\n",
    "class Circle(Shape):\n",
    "    \n",
    "    def __init__(self, radius: float, x_pos: float, y_pos: float):\n",
    "        self.radius = radius\n",
    "        self.x_pos = x_pos\n",
    "        self.y_pos = y_pos\n",
    "\n",
    "    @property\n",
    "    def area(self) -> float:\n",
    "        return math.pi*(self.radius)**2 \n",
    "\n",
    "    @property\n",
    "    def circumference(self) -> float:\n",
    "        return 2*math.pi*self.radius\n",
    "\n",
    "    \n",
    "    # method\n",
    "    def is_unit_circle(self) -> True:\n",
    "        if self.radius == 1:\n",
    "           return print(\"This is a Unit circle\")\n",
    "        else:\n",
    "            return print(\"This is not a Unit circle\")\n",
    "\n",
    "\n",
    "\n",
    "\n",
    "\n",
    "\n",
    "circle1 = Circle(4,2,2)\n",
    "\n",
    "circle1.radius\n",
    "\n",
    "circle1\n",
    "\n"
   ]
  },
  {
   "cell_type": "markdown",
   "metadata": {},
   "source": [
    "## creating a rectangle class"
   ]
  },
  {
   "cell_type": "code",
   "execution_count": 25,
   "metadata": {},
   "outputs": [
    {
     "ename": "SyntaxError",
     "evalue": "invalid syntax (3981039483.py, line 2)",
     "output_type": "error",
     "traceback": [
      "\u001b[1;36m  Cell \u001b[1;32mIn [25], line 2\u001b[1;36m\u001b[0m\n\u001b[1;33m    def __innit__(self, length:float, height:float, x_pos:float, y_pos:float)\u001b[0m\n\u001b[1;37m                                                                             ^\u001b[0m\n\u001b[1;31mSyntaxError\u001b[0m\u001b[1;31m:\u001b[0m invalid syntax\n"
     ]
    }
   ],
   "source": [
    "class Rectangle(Shape):\n",
    "    def __innit__(self, length:float, height:float, x_pos:float, y_pos:float)\n",
    "        self.length = length\n",
    "        self.height = height\n",
    "        self.x_pos = x_pos\n",
    "        self.y_pos = y_pos\n",
    "\n",
    "    @property\n",
    "    def area(self) -> float:\n",
    "        \n",
    "        "
   ]
  }
 ],
 "metadata": {
  "kernelspec": {
   "display_name": "Python 3.9.13 ('python-sam-glass-f9Gfa9m9')",
   "language": "python",
   "name": "python3"
  },
  "language_info": {
   "codemirror_mode": {
    "name": "ipython",
    "version": 3
   },
   "file_extension": ".py",
   "mimetype": "text/x-python",
   "name": "python",
   "nbconvert_exporter": "python",
   "pygments_lexer": "ipython3",
   "version": "3.9.13"
  },
  "orig_nbformat": 4,
  "vscode": {
   "interpreter": {
    "hash": "c54bac0ad9a8758ea607748194fff43bd5680f7a659873af8c80514da573df4a"
   }
  }
 },
 "nbformat": 4,
 "nbformat_minor": 2
}
