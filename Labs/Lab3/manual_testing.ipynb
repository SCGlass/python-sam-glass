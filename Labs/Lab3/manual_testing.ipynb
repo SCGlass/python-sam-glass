{
 "cells": [
  {
   "cell_type": "code",
   "execution_count": 1,
   "metadata": {},
   "outputs": [
    {
     "name": "stdout",
     "output_type": "stream",
     "text": [
      "True\n",
      "False\n",
      "True\n",
      "False\n"
     ]
    },
    {
     "ename": "ValueError",
     "evalue": "translate entries must be a float or a int value",
     "output_type": "error",
     "traceback": [
      "\u001b[1;31m---------------------------------------------------------------------------\u001b[0m",
      "\u001b[1;31mValueError\u001b[0m                                Traceback (most recent call last)",
      "Cell \u001b[1;32mIn [1], line 14\u001b[0m\n\u001b[0;32m     12\u001b[0m cirkel1\u001b[39m.\u001b[39mtranslate(\u001b[39m5\u001b[39m,\u001b[39m5\u001b[39m)\n\u001b[0;32m     13\u001b[0m \u001b[39mprint\u001b[39m(cirkel1\u001b[39m.\u001b[39mis_inside(\u001b[39m0.5\u001b[39m, \u001b[39m0.5\u001b[39m)) \n\u001b[1;32m---> 14\u001b[0m cirkel1\u001b[39m.\u001b[39;49mtranslate(\u001b[39m\"\u001b[39;49m\u001b[39mTRE\u001b[39;49m\u001b[39m\"\u001b[39;49m,\u001b[39m5\u001b[39;49m)\n",
      "File \u001b[1;32mc:\\Users\\Sam Glass ITHS\\Documents\\Github\\python-sam-glass\\Labs\\Lab3\\Geometry_shapes.py:72\u001b[0m, in \u001b[0;36mShape.translate\u001b[1;34m(self, x_other, y_other)\u001b[0m\n\u001b[0;32m     70\u001b[0m \u001b[39m\"\"\" Moves the x and y position to another point \"\"\"\u001b[39;00m\n\u001b[0;32m     71\u001b[0m \u001b[39mif\u001b[39;00m \u001b[39mnot\u001b[39;00m \u001b[39misinstance\u001b[39m (x_other, (\u001b[39mint\u001b[39m, \u001b[39mfloat\u001b[39m)): \u001b[39m# raises a Valueerror if one value is entered as a string\u001b[39;00m\n\u001b[1;32m---> 72\u001b[0m     \u001b[39mraise\u001b[39;00m \u001b[39mValueError\u001b[39;00m(\u001b[39m\"\u001b[39m\u001b[39mtranslate entries must be a float or a int value\u001b[39m\u001b[39m\"\u001b[39m)\n\u001b[0;32m     73\u001b[0m \u001b[39mself\u001b[39m\u001b[39m.\u001b[39mx_pos \u001b[39m+\u001b[39m\u001b[39m=\u001b[39m x_other  \u001b[39m# adds the amount entered to the position to adjust the original position\u001b[39;00m\n\u001b[0;32m     74\u001b[0m \u001b[39mself\u001b[39m\u001b[39m.\u001b[39my_pos \u001b[39m+\u001b[39m\u001b[39m=\u001b[39m y_other\n",
      "\u001b[1;31mValueError\u001b[0m: translate entries must be a float or a int value"
     ]
    }
   ],
   "source": [
    "from Geometry_shapes import Shape\n",
    "from Geometry_shapes import Circle\n",
    "from Geometry_shapes import Rectangle\n",
    "\n",
    "cirkel1 = Circle(0,0,1) \n",
    "cirkel2 = Circle(1,1,1)\n",
    "rektangel = Rectangle(0,0,1,1)\n",
    "\n",
    "print(cirkel1==cirkel2) # must this show that it is an unit circle??\n",
    "print(cirkel2==rektangel) \n",
    "print(cirkel1.is_inside(0.5, 0.5)) \n",
    "cirkel1.translate(5,5)\n",
    "print(cirkel1.is_inside(0.5, 0.5)) \n",
    "cirkel1.translate(\"TRE\",5) \n",
    "\n",
    "\n",
    "\n",
    "# TODO add in custom type errors ( getter and setter valueError) for translate method"
   ]
  }
 ],
 "metadata": {
  "kernelspec": {
   "display_name": "Python 3.9.13 ('python-sam-glass-f9Gfa9m9')",
   "language": "python",
   "name": "python3"
  },
  "language_info": {
   "codemirror_mode": {
    "name": "ipython",
    "version": 3
   },
   "file_extension": ".py",
   "mimetype": "text/x-python",
   "name": "python",
   "nbconvert_exporter": "python",
   "pygments_lexer": "ipython3",
   "version": "3.9.13"
  },
  "orig_nbformat": 4,
  "vscode": {
   "interpreter": {
    "hash": "c54bac0ad9a8758ea607748194fff43bd5680f7a659873af8c80514da573df4a"
   }
  }
 },
 "nbformat": 4,
 "nbformat_minor": 2
}
