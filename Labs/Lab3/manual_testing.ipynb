{
 "cells": [
  {
   "cell_type": "code",
   "execution_count": 1,
   "metadata": {},
   "outputs": [
    {
     "name": "stdout",
     "output_type": "stream",
     "text": [
      "True\n",
      "False\n",
      "True\n",
      "False\n"
     ]
    },
    {
     "ename": "ValueError",
     "evalue": "translate entries must be a float or a int value",
     "output_type": "error",
     "traceback": [
      "\u001b[1;31m---------------------------------------------------------------------------\u001b[0m",
      "\u001b[1;31mValueError\u001b[0m                                Traceback (most recent call last)",
      "Cell \u001b[1;32mIn [1], line 14\u001b[0m\n\u001b[0;32m     12\u001b[0m cirkel1\u001b[39m.\u001b[39mtranslate(\u001b[39m5\u001b[39m,\u001b[39m5\u001b[39m)\n\u001b[0;32m     13\u001b[0m \u001b[39mprint\u001b[39m(cirkel1\u001b[39m.\u001b[39mis_inside(\u001b[39m0.5\u001b[39m, \u001b[39m0.5\u001b[39m)) \n\u001b[1;32m---> 14\u001b[0m cirkel1\u001b[39m.\u001b[39;49mtranslate(\u001b[39m\"\u001b[39;49m\u001b[39mTRE\u001b[39;49m\u001b[39m\"\u001b[39;49m,\u001b[39m5\u001b[39;49m)\n",
      "File \u001b[1;32mc:\\Users\\Sam Glass ITHS\\Documents\\Github\\python-sam-glass\\Labs\\Lab3\\Geometry_shapes.py:72\u001b[0m, in \u001b[0;36mShape.translate\u001b[1;34m(self, x_other, y_other)\u001b[0m\n\u001b[0;32m     70\u001b[0m \u001b[39m\"\"\" Moves the x and y position to another point \"\"\"\u001b[39;00m\n\u001b[0;32m     71\u001b[0m \u001b[39mif\u001b[39;00m \u001b[39mnot\u001b[39;00m \u001b[39misinstance\u001b[39m (x_other, (\u001b[39mint\u001b[39m, \u001b[39mfloat\u001b[39m)): \u001b[39m# raises a Valueerror if one value is entered as a string\u001b[39;00m\n\u001b[1;32m---> 72\u001b[0m     \u001b[39mraise\u001b[39;00m \u001b[39mValueError\u001b[39;00m(\u001b[39m\"\u001b[39m\u001b[39mtranslate entries must be a float or a int value\u001b[39m\u001b[39m\"\u001b[39m)\n\u001b[0;32m     73\u001b[0m \u001b[39mif\u001b[39;00m \u001b[39mnot\u001b[39;00m \u001b[39misinstance\u001b[39m (y_other, (\u001b[39mint\u001b[39m, \u001b[39mfloat\u001b[39m)): \u001b[39m# raises a Valueerror if one value is entered as a string\u001b[39;00m\n\u001b[0;32m     74\u001b[0m     \u001b[39mraise\u001b[39;00m \u001b[39mValueError\u001b[39;00m(\u001b[39m\"\u001b[39m\u001b[39mtranslate entries must be a float or a int value\u001b[39m\u001b[39m\"\u001b[39m)\n",
      "\u001b[1;31mValueError\u001b[0m: translate entries must be a float or a int value"
     ]
    }
   ],
   "source": [
    "from Geometry_shapes import Shape\n",
    "from Geometry_shapes import Circle\n",
    "from Geometry_shapes import Rectangle\n",
    "\n",
    "cirkel1 = Circle(0,0,1) \n",
    "cirkel2 = Circle(1,1,1)\n",
    "rektangel = Rectangle(0,0,1,1)\n",
    "\n",
    "print(cirkel1==cirkel2) # must this show that it is an unit circle??\n",
    "print(cirkel2==rektangel) \n",
    "print(cirkel1.is_inside(0.5, 0.5)) \n",
    "cirkel1.translate(5,5)\n",
    "print(cirkel1.is_inside(0.5, 0.5)) \n",
    "cirkel1.translate(\"TRE\",5) \n"
   ]
  },
  {
   "cell_type": "code",
   "execution_count": 20,
   "metadata": {},
   "outputs": [
    {
     "ename": "SyntaxError",
     "evalue": "EOL while scanning string literal (84936097.py, line 15)",
     "output_type": "error",
     "traceback": [
      "\u001b[1;36m  Cell \u001b[1;32mIn [20], line 15\u001b[1;36m\u001b[0m\n\u001b[1;33m    print(f\"{circle3 > circle4 =})\u001b[0m\n\u001b[1;37m                                  ^\u001b[0m\n\u001b[1;31mSyntaxError\u001b[0m\u001b[1;31m:\u001b[0m EOL while scanning string literal\n"
     ]
    }
   ],
   "source": [
    "# testing operator overloads\n",
    "circle3 = Circle(2,4,6)\n",
    "circle4 = Circle(10,15,20)\n",
    "rectangle3 = Rectangle(2,4,6,8)\n",
    "rectangle4 = Rectangle(5,10,15,20)\n",
    "\n",
    "print(f\"{circle3.area=:.2f}\")\n",
    "print(f\"{circle4.area=:.2f}\" )\n",
    "print(f\"{rectangle3.area =:}\")\n",
    "print(f\"{rectangle4.area =:}\")\n",
    "print(f\"{circle3 < circle4 =}\")\n",
    "print(f\"{circle3 <= circle4 =}\")\n",
    "print(f\"{circle3 == circle4 =}\")\n",
    "print(f\"{circle3 >= circle4 =}\")\n",
    "print(f\"{circle3 > circle4 =})\n",
    "print(f\"{rectangle3 == rectangle4 =,rectangle3 > rectangle4 =, rectangle3 < rectangle4 = }\")\n",
    "print(rectangle3 >= rectangle4, rectangle3 <= rectangle4)\n",
    "print(circle3 < rectangle4, circle3 > rectangle4)\n",
    "print(rectangle4 > circle3)\n",
    "print(rectangle4 < circle3)\n",
    "print(rectangle4 == circle3)"
   ]
  },
  {
   "cell_type": "code",
   "execution_count": 3,
   "metadata": {},
   "outputs": [
    {
     "ename": "ValueError",
     "evalue": "radius must be a positive number, not a negative",
     "output_type": "error",
     "traceback": [
      "\u001b[1;31m---------------------------------------------------------------------------\u001b[0m",
      "\u001b[1;31mValueError\u001b[0m                                Traceback (most recent call last)",
      "Cell \u001b[1;32mIn [3], line 3\u001b[0m\n\u001b[0;32m      1\u001b[0m \u001b[39m# checking Type and Value errors\u001b[39;00m\n\u001b[1;32m----> 3\u001b[0m circ1\u001b[39m=\u001b[39mCircle(\u001b[39m4\u001b[39;49m,\u001b[39m4\u001b[39;49m,\u001b[39m-\u001b[39;49m\u001b[39m4\u001b[39;49m) \u001b[39m# tested strings and negative\u001b[39;00m\n\u001b[0;32m      4\u001b[0m \u001b[39mprint\u001b[39m(circ1)\n\u001b[0;32m      6\u001b[0m rec1\u001b[39m=\u001b[39m Rectangle(\u001b[39m1\u001b[39m,\u001b[39m2\u001b[39m,\u001b[39m2\u001b[39m,\u001b[39m2\u001b[39m)\n",
      "File \u001b[1;32mc:\\Users\\Sam Glass ITHS\\Documents\\Github\\python-sam-glass\\Labs\\Lab3\\Geometry_shapes.py:83\u001b[0m, in \u001b[0;36mCircle.__init__\u001b[1;34m(self, x_pos, y_pos, radius)\u001b[0m\n\u001b[0;32m     81\u001b[0m \u001b[39mdef\u001b[39;00m \u001b[39m__init__\u001b[39m(\u001b[39mself\u001b[39m, x_pos:\u001b[39mint\u001b[39m\u001b[39m|\u001b[39m\u001b[39mfloat\u001b[39m, y_pos:\u001b[39mint\u001b[39m\u001b[39m|\u001b[39m\u001b[39mfloat\u001b[39m, radius:\u001b[39mint\u001b[39m\u001b[39m|\u001b[39m\u001b[39mfloat\u001b[39m) \u001b[39m-\u001b[39m\u001b[39m>\u001b[39m \u001b[39mlist\u001b[39m:\n\u001b[0;32m     82\u001b[0m     \u001b[39msuper\u001b[39m()\u001b[39m.\u001b[39m\u001b[39m__init__\u001b[39m(x_pos, y_pos,)\n\u001b[1;32m---> 83\u001b[0m     \u001b[39mself\u001b[39;49m\u001b[39m.\u001b[39;49mradius \u001b[39m=\u001b[39m radius\n",
      "File \u001b[1;32mc:\\Users\\Sam Glass ITHS\\Documents\\Github\\python-sam-glass\\Labs\\Lab3\\Geometry_shapes.py:106\u001b[0m, in \u001b[0;36mCircle.radius\u001b[1;34m(self, value)\u001b[0m\n\u001b[0;32m    104\u001b[0m     \u001b[39mraise\u001b[39;00m \u001b[39mTypeError\u001b[39;00m(\u001b[39mf\u001b[39m\u001b[39m\"\u001b[39m\u001b[39mRadius must be a float or int value, not \u001b[39m\u001b[39m{\u001b[39;00m\u001b[39mtype\u001b[39m(value)\u001b[39m}\u001b[39;00m\u001b[39m\"\u001b[39m)\n\u001b[0;32m    105\u001b[0m \u001b[39mif\u001b[39;00m (value \u001b[39m<\u001b[39m \u001b[39m0\u001b[39m):\n\u001b[1;32m--> 106\u001b[0m     \u001b[39mraise\u001b[39;00m \u001b[39mValueError\u001b[39;00m(\u001b[39m\"\u001b[39m\u001b[39mradius must be a positive number, not a negative\u001b[39m\u001b[39m\"\u001b[39m) \u001b[39m# raises an error if a negative number is entered\u001b[39;00m\n\u001b[0;32m    107\u001b[0m \u001b[39mself\u001b[39m\u001b[39m.\u001b[39m_radius \u001b[39m=\u001b[39m value\n",
      "\u001b[1;31mValueError\u001b[0m: radius must be a positive number, not a negative"
     ]
    }
   ],
   "source": [
    "# checking Type and Value errors\n",
    "\n",
    "circ1=Circle(4,4,-4) # tested strings and negative\n",
    "print(circ1)\n",
    "\n",
    "rec1= Rectangle(1,2,2,2) # tested strings and - numbers"
   ]
  },
  {
   "cell_type": "code",
   "execution_count": 4,
   "metadata": {},
   "outputs": [
    {
     "name": "stdout",
     "output_type": "stream",
     "text": [
      "This is a Unit circle\n",
      "This is not a Unit circle\n",
      "This is a square\n",
      "This is not a square\n"
     ]
    }
   ],
   "source": [
    "# unit circle and square\n",
    "\n",
    "c1= Circle(3,2,1)\n",
    "print(c1.is_unit_circle)\n",
    "c1= Circle(3,2,2)\n",
    "print(c1.is_unit_circle)\n",
    "\n",
    "r1=Rectangle(2,2,2,2)\n",
    "print(r1.is_square)\n",
    "r1=Rectangle(2,2,3,2)\n",
    "print(r1.is_square)\n",
    "\n",
    "\n"
   ]
  },
  {
   "cell_type": "code",
   "execution_count": 6,
   "metadata": {},
   "outputs": [
    {
     "name": "stdout",
     "output_type": "stream",
     "text": [
      "This is a Circle with position x of 2, position y of  2, and a radius of of 2\n",
      "This is a Rectangle with x position of 2 and y position of  2. It has a height of 2 and a length of 2\n",
      "This is a Circle with position x of 4, position y of  4, and a radius of of 2\n",
      "This is a Rectangle with x position of 4 and y position of  4. It has a height of 2 and a length of 2\n"
     ]
    }
   ],
   "source": [
    "# Testing translate method on circle and rectangle\n",
    "c1 = Circle(2,2,2)\n",
    "r1 = Rectangle(2,2,2,2)\n",
    "\n",
    "print(c1)\n",
    "print(r1)\n",
    "c1.translate(2,2)\n",
    "r1.translate(2,2)\n",
    "\n",
    "print(c1)\n",
    "print(r1)"
   ]
  },
  {
   "cell_type": "code",
   "execution_count": null,
   "metadata": {},
   "outputs": [],
   "source": [
    "# testing area and circumference of circle and rectangle"
   ]
  }
 ],
 "metadata": {
  "kernelspec": {
   "display_name": "Python 3.9.13 ('python-sam-glass-f9Gfa9m9')",
   "language": "python",
   "name": "python3"
  },
  "language_info": {
   "codemirror_mode": {
    "name": "ipython",
    "version": 3
   },
   "file_extension": ".py",
   "mimetype": "text/x-python",
   "name": "python",
   "nbconvert_exporter": "python",
   "pygments_lexer": "ipython3",
   "version": "3.9.13"
  },
  "orig_nbformat": 4,
  "vscode": {
   "interpreter": {
    "hash": "c54bac0ad9a8758ea607748194fff43bd5680f7a659873af8c80514da573df4a"
   }
  }
 },
 "nbformat": 4,
 "nbformat_minor": 2
}
