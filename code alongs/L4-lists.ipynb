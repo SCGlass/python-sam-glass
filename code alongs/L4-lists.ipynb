{
 "cells": [
  {
   "cell_type": "markdown",
   "metadata": {},
   "source": [
    "# Lists"
   ]
  },
  {
   "cell_type": "markdown",
   "metadata": {},
   "source": [
    "## Access elecments"
   ]
  },
  {
   "cell_type": "code",
   "execution_count": 10,
   "metadata": {},
   "outputs": [
    {
     "name": "stdout",
     "output_type": "stream",
     "text": [
      "['pizza', 'lasagne', 'spagetti', 'pancakes', 'banana', 'grapes']\n",
      "nice_foods[0]='pizza'\n",
      "nice_foods[-1]='grapes'\n",
      "['pizza', 'lasagne', 'spagetti', 'pancakes', 'banana', 'grapes'][5]=\n",
      "nice_foods[-3]='pancakes'\n"
     ]
    }
   ],
   "source": [
    "# creates a new list with some elements \n",
    "nice_foods = [\"pizza\", \"lasagne\", \"spagetti\", \"pancakes\", \"banana\", \"grapes\"]\n",
    "\n",
    "print(nice_foods)\n",
    "\n",
    "# gets first element\n",
    "print(f\"{nice_foods[0]=}\")\n",
    "# gets last element\n",
    "print(f\"{nice_foods[-1]=}\")\n",
    "print(f\"{nice_foods}[5]=\")\n",
    "\n",
    "# element på index 3\n",
    "print(f\"{nice_foods[-3]=}\")"
   ]
  },
  {
   "cell_type": "markdown",
   "metadata": {},
   "source": [
    "# Slicing"
   ]
  },
  {
   "cell_type": "code",
   "execution_count": 12,
   "metadata": {},
   "outputs": [
    {
     "name": "stdout",
     "output_type": "stream",
     "text": [
      "['pizza', 'lasagne', 'spagetti', 'pancakes', 'banana', 'grapes']\n",
      "nice_foods[1:4]=['lasagne', 'spagetti', 'pancakes']\n",
      "nice_foods[:-1]=['pizza', 'lasagne', 'spagetti', 'pancakes', 'banana']\n",
      "nice_foods[:4]=['pizza', 'lasagne', 'spagetti', 'pancakes']\n",
      "nice_foods[::-2]=['grapes', 'pancakes', 'lasagne']\n"
     ]
    }
   ],
   "source": [
    "print(nice_foods)\n",
    "print(f\"{nice_foods[1:4]=}\")\n",
    "print(f\"{nice_foods[:-1]=}\") # 0 to -2\n",
    "\n",
    "print(f\"{nice_foods[:4]=}\") # 0,1,2,3\n",
    "\n",
    "print(f\"{nice_foods[::-1]=}\") # reverse the list"
   ]
  },
  {
   "cell_type": "code",
   "execution_count": 14,
   "metadata": {},
   "outputs": [
    {
     "name": "stdout",
     "output_type": "stream",
     "text": [
      "['banana', 'grapes', 'lasagne', 'pancakes', 'pizza', 'spagetti']\n",
      "[-5, 1, 2, 5]\n"
     ]
    }
   ],
   "source": [
    "# sorting by first letter\n",
    "nice_foods.sort()\n",
    "print(nice_foods)\n",
    "\n",
    "numbers = [2,1,5,-5]\n",
    "numbers.sort()\n",
    "\n",
    "# sorting ascending\n",
    "print(numbers)"
   ]
  },
  {
   "cell_type": "markdown",
   "metadata": {},
   "source": [
    "## for-loop with enumerate"
   ]
  },
  {
   "cell_type": "code",
   "execution_count": 15,
   "metadata": {},
   "outputs": [
    {
     "name": "stdout",
     "output_type": "stream",
     "text": [
      "['banana', 'grapes', 'lasagne', 'pancakes', 'pizza', 'spagetti']\n",
      "0. banana\n",
      "1. grapes\n",
      "2. lasagne\n",
      "3. pancakes\n",
      "4. pizza\n",
      "5. spagetti\n"
     ]
    }
   ],
   "source": [
    "print(nice_foods)\n",
    "\n",
    "# enumarate -> (index, element) in list\n",
    "for i, food in enumerate(nice_foods):\n",
    "        print(f\"{i}. {food}\")"
   ]
  },
  {
   "cell_type": "code",
   "execution_count": 18,
   "metadata": {},
   "outputs": [
    {
     "name": "stdout",
     "output_type": "stream",
     "text": [
      "0. banana\n",
      "1. grapes\n",
      "2. lasagne\n",
      "3. pancakes\n",
      "4. pizza\n",
      "5. spagetti\n"
     ]
    }
   ],
   "source": [
    "for i in range(len(nice_foods)):\n",
    "        print(f\"{i}. {nice_foods[i]}\")"
   ]
  },
  {
   "cell_type": "code",
   "execution_count": 21,
   "metadata": {},
   "outputs": [
    {
     "data": {
      "text/plain": [
       "[0, 1, 8, 27, 64, 125, 216, 343, 512, 729]"
      ]
     },
     "execution_count": 21,
     "metadata": {},
     "output_type": "execute_result"
    }
   ],
   "source": [
    "# cubes\n",
    "cubes = []\n",
    "\n",
    "for i in range(10):\n",
    "    cubes.append(i**3) #i^3\n",
    "\n",
    "cubes"
   ]
  },
  {
   "cell_type": "code",
   "execution_count": 23,
   "metadata": {},
   "outputs": [
    {
     "data": {
      "text/plain": [
       "[0, 1, 8, 27, 64, 125, 216, 343, 512, 729]"
      ]
     },
     "execution_count": 23,
     "metadata": {},
     "output_type": "execute_result"
    }
   ],
   "source": [
    "# list comprehension\n",
    "cubes = [i**3 for i in range(10)]\n",
    "cubes"
   ]
  },
  {
   "cell_type": "code",
   "execution_count": 24,
   "metadata": {},
   "outputs": [
    {
     "data": {
      "text/plain": [
       "[1, 27, 125, 343, 729]"
      ]
     },
     "execution_count": 24,
     "metadata": {},
     "output_type": "execute_result"
    }
   ],
   "source": [
    "# cubes every odd numbers\n",
    "cubes_odd = [i**3 for i in range(10) if i%2!=0]\n",
    "cubes_odd"
   ]
  },
  {
   "cell_type": "code",
   "execution_count": 26,
   "metadata": {},
   "outputs": [
    {
     "data": {
      "text/plain": [
       "[5, 1, 4, 5, 5, 1, 4, 3, 2, 5]"
      ]
     },
     "execution_count": 26,
     "metadata": {},
     "output_type": "execute_result"
    }
   ],
   "source": [
    "import random as rnd\n",
    "# dice list \n",
    "dices = [rnd.randint(1,6) for _ in range(10)] # conventtion to use _ when not using a loop variable\n",
    "dices\n"
   ]
  },
  {
   "cell_type": "markdown",
   "metadata": {},
   "source": [
    "## lists in list"
   ]
  },
  {
   "cell_type": "code",
   "execution_count": 29,
   "metadata": {},
   "outputs": [
    {
     "name": "stdout",
     "output_type": "stream",
     "text": [
      "grades[1]=['B', 20]\n",
      "grades[1][0]='B'\n",
      "grades[1][1]=20\n"
     ]
    }
   ],
   "source": [
    "grades = [[\"A\", 25], [\"B\", 20], [\"F\", 5]]\n",
    "\n",
    "print(f\"{grades[1]=}\")\n",
    "print(f\"{grades[1][0]=}\")\n",
    "print(f\"{grades[1][1]=}\")"
   ]
  }
 ],
 "metadata": {
  "kernelspec": {
   "display_name": "Python 3.9.13 64-bit",
   "language": "python",
   "name": "python3"
  },
  "language_info": {
   "codemirror_mode": {
    "name": "ipython",
    "version": 3
   },
   "file_extension": ".py",
   "mimetype": "text/x-python",
   "name": "python",
   "nbconvert_exporter": "python",
   "pygments_lexer": "ipython3",
   "version": "3.9.13"
  },
  "orig_nbformat": 4,
  "vscode": {
   "interpreter": {
    "hash": "a2d5b60df87a3ec850a6ab85bfe3ea4ed46bf7d3e99f4460faf5cde9752460d5"
   }
  }
 },
 "nbformat": 4,
 "nbformat_minor": 2
}
