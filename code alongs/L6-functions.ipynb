{
 "cells": [
  {
   "cell_type": "markdown",
   "metadata": {},
   "source": [
    "# Funtions"
   ]
  },
  {
   "cell_type": "code",
   "execution_count": 4,
   "metadata": {},
   "outputs": [
    {
     "name": "stdout",
     "output_type": "stream",
     "text": [
      "cuber(5)=125\n"
     ]
    },
    {
     "data": {
      "text/plain": [
       "[0, 1, 8, 27, 64, 125, 216, 343, 512, 729]"
      ]
     },
     "execution_count": 4,
     "metadata": {},
     "output_type": "execute_result"
    }
   ],
   "source": [
    "# define a fuction called cuber, it takes in 1 parameter\n",
    "def cuber(x):\n",
    "    return x**3\n",
    "\n",
    "# calls the funtion cuber using 1 argument\n",
    "print(f\"{cuber(5)=}\")\n",
    "cubes = [cuber(i) for i in range(10)]\n",
    "cubes    "
   ]
  },
  {
   "cell_type": "code",
   "execution_count": 5,
   "metadata": {},
   "outputs": [
    {
     "data": {
      "image/png": "[encoded data removed]",
      "text/plain": [
       "<Figure size 640x480 with 1 Axes>"
      ]
     },
     "metadata": {},
     "output_type": "display_data"
    }
   ],
   "source": [
    "import matplotlib.pyplot as plt\n",
    "\n",
    "plt.plot(cubes);"
   ]
  },
  {
   "cell_type": "code",
   "execution_count": 9,
   "metadata": {},
   "outputs": [
    {
     "name": "stdout",
     "output_type": "stream",
     "text": [
      "number1=1, number2=3, number3=6\n",
      "3.3333333333333335\n",
      "number1=0, number2=5, number3=4\n",
      "3.0\n",
      "number1=1, number2=2, number3=3\n",
      "4.0\n"
     ]
    }
   ],
   "source": [
    "# 3 parameters\n",
    "def my_mean(number1, number2, number3):\n",
    "    print(f\"{number1=}, {number2=}, {number3=}\")\n",
    "    return(number1+number2+number3)/3\n",
    "# arguments\n",
    "print(my_mean(1,3,6))\n",
    "print(my_mean(0,5,4))\n",
    "\n",
    "double_mean = my_mean(1,2,3)*2\n",
    "print(double_mean)"
   ]
  },
  {
   "cell_type": "markdown",
   "metadata": {},
   "source": [
    "## Default values"
   ]
  },
  {
   "cell_type": "code",
   "execution_count": 14,
   "metadata": {},
   "outputs": [
    {
     "name": "stdout",
     "output_type": "stream",
     "text": [
      "Hej buddy, du är 0 är\n",
      "Hej buddy, du är 0 är\n",
      "Hej Bella, du är 1 är\n",
      "Ange en ålder <= 0\n",
      "Hej buddy, du är 34 är\n"
     ]
    }
   ],
   "source": [
    "\n",
    "def hello(number_of_greetings, name = \"buddy\", age = 0):\n",
    "    if float (age) < 0:\n",
    "        print(\"Ange en ålder <= 0\")\n",
    "        return\n",
    "\n",
    "    for i in range(number_of_greetings):\n",
    "        print(f\"Hej {name}, du är {age} är\")\n",
    "    # note no return -> void function\n",
    "\n",
    "hello(2)    \n",
    "\n",
    "hello(1, \"Bella\", 1)\n",
    "\n",
    "hello(1, \"Bella\", -2)\n",
    "\n",
    " #age and name are keyword arguments\n",
    " # number_of_greetings is a positional argument\n",
    "hello(1, age = 34)\n"
   ]
  },
  {
   "cell_type": "code",
   "execution_count": 15,
   "metadata": {},
   "outputs": [
    {
     "data": {
      "text/plain": [
       "8"
      ]
     },
     "execution_count": 15,
     "metadata": {},
     "output_type": "execute_result"
    }
   ],
   "source": [
    "def word_counter(text = \"\"):\n",
    "    word_list = text.split()\n",
    "    return len(word_list)\n",
    "quote = \"No I am your father - Luke Skywalker\"\n",
    "word_counter(quote)    "
   ]
  },
  {
   "cell_type": "markdown",
   "metadata": {},
   "source": [
    "## Arbitary arguments - *args"
   ]
  },
  {
   "cell_type": "code",
   "execution_count": 16,
   "metadata": {},
   "outputs": [
    {
     "data": {
      "text/plain": [
       "3.0"
      ]
     },
     "execution_count": 16,
     "metadata": {},
     "output_type": "execute_result"
    }
   ],
   "source": [
    "def my_mean2(*numbers):\n",
    "    sum_ = 0\n",
    "    for number in numbers:\n",
    "        sum_ += number\n",
    "    return sum_/len(numbers)\n",
    "\n",
    "my_mean2(1,2,3,4,5)        "
   ]
  },
  {
   "cell_type": "markdown",
   "metadata": {},
   "source": [
    "## Lambda\n",
    "\n",
    "-anonymous fuction"
   ]
  },
  {
   "cell_type": "code",
   "execution_count": 17,
   "metadata": {},
   "outputs": [
    {
     "data": {
      "text/plain": [
       "27"
      ]
     },
     "execution_count": 17,
     "metadata": {},
     "output_type": "execute_result"
    }
   ],
   "source": [
    "cuber = lambda x: x**3\n",
    "\n",
    "cuber(3)"
   ]
  },
  {
   "cell_type": "markdown",
   "metadata": {},
   "source": [
    "## Draw lines"
   ]
  },
  {
   "cell_type": "code",
   "execution_count": 23,
   "metadata": {},
   "outputs": [
    {
     "ename": "SyntaxError",
     "evalue": "invalid syntax (2219889215.py, line 11)",
     "output_type": "error",
     "traceback": [
      "\u001b[1;36m  Input \u001b[1;32mIn [23]\u001b[1;36m\u001b[0m\n\u001b[1;33m    print(x)\u001b[0m\n\u001b[1;37m    ^\u001b[0m\n\u001b[1;31mSyntaxError\u001b[0m\u001b[1;31m:\u001b[0m invalid syntax\n"
     ]
    }
   ],
   "source": [
    "\n",
    "def draw_lines(x, k=1, m=1, title = \"\"):\n",
    "    y_list = [k*x+m for x in x_list]\n",
    "\n",
    "    plt.plot(x_list, y_list)\n",
    "    plt.xlabel(\"x\")\n",
    "    plt.ylabel(\"y\")\n",
    "    plt.title(title)\n",
    "\n",
    "print(range(-10,10))\n",
    "x = list(range(-10,10)\n",
    "print(x)\n",
    "draw_lines(x, title = \"Lines\")\n",
    "draw_lines(x, k=-2, m=-1, title = \"Lines\")\n",
    "\n",
    "#TODO find intersection point and plot it"
   ]
  }
 ],
 "metadata": {
  "kernelspec": {
   "display_name": "Python 3.9.13 ('python-sam-glass-f9Gfa9m9')",
   "language": "python",
   "name": "python3"
  },
  "language_info": {
   "codemirror_mode": {
    "name": "ipython",
    "version": 3
   },
   "file_extension": ".py",
   "mimetype": "text/x-python",
   "name": "python",
   "nbconvert_exporter": "python",
   "pygments_lexer": "ipython3",
   "version": "3.9.13"
  },
  "orig_nbformat": 4,
  "vscode": {
   "interpreter": {
    "hash": "c54bac0ad9a8758ea607748194fff43bd5680f7a659873af8c80514da573df4a"
   }
  }
 },
 "nbformat": 4,
 "nbformat_minor": 2
}
