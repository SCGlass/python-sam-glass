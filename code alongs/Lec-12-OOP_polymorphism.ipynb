{
 "cells": [
  {
   "cell_type": "markdown",
   "metadata": {},
   "source": [
    "# OOP polymorphism"
   ]
  },
  {
   "cell_type": "code",
   "execution_count": 6,
   "metadata": {},
   "outputs": [
    {
     "ename": "TypeError",
     "evalue": "'builtin_function_or_method' object is not subscriptable",
     "output_type": "error",
     "traceback": [
      "\u001b[1;31m---------------------------------------------------------------------------\u001b[0m",
      "\u001b[1;31mTypeError\u001b[0m                                 Traceback (most recent call last)",
      "Cell \u001b[1;32mIn [6], line 2\u001b[0m\n\u001b[0;32m      1\u001b[0m \u001b[38;5;66;03m# example with python built- in \u001b[39;00m\n\u001b[1;32m----> 2\u001b[0m \u001b[38;5;28mprint\u001b[39m(\u001b[38;5;124mf\u001b[39m\u001b[38;5;124m\"\u001b[39m\u001b[38;5;132;01m{\u001b[39;00m\u001b[38;5;28mlen\u001b[39m[\u001b[38;5;241m1\u001b[39m,\u001b[38;5;241m2\u001b[39m,\u001b[38;5;241m3\u001b[39m,\u001b[38;5;241m4\u001b[39m]\u001b[38;5;132;01m=}\u001b[39;00m\u001b[38;5;124m\"\u001b[39m)\n\u001b[0;32m      3\u001b[0m \u001b[38;5;28mprint\u001b[39m(\u001b[38;5;124mf\u001b[39m\u001b[38;5;124m\"\u001b[39m\u001b[38;5;132;01m{\u001b[39;00m\u001b[38;5;28mlen\u001b[39m\u001b[38;5;132;01m}\u001b[39;00m\u001b[38;5;124m\"\u001b[39m)\n",
      "\u001b[1;31mTypeError\u001b[0m: 'builtin_function_or_method' object is not subscriptable"
     ]
    }
   ],
   "source": [
    "# example with python built- in \n",
    "print(f\"{len[1,2,3,4]=}\")\n",
    "print(f\"{len}\")"
   ]
  },
  {
   "cell_type": "markdown",
   "metadata": {},
   "source": [
    "# Polymorphism in class method"
   ]
  },
  {
   "cell_type": "code",
   "execution_count": null,
   "metadata": {},
   "outputs": [],
   "source": [
    "class Fish:\n",
    "    def __init__(self, name) -> None:\n",
    "        self.name = name\n",
    "    # overrided dunder string method\n",
    "    def __str__(self):\n",
    "        return f\"I am a fish with name {self.name}\"\n",
    "    # overrided dunder repper method\n",
    "    def __repr__(self) -> str:\n",
    "        return f\"Fish(name='{self.name}')\"\n",
    "\n",
    "    def speak(self):\n",
    "        print(\"Bluppy bluppy\")\n",
    "\n",
    "class Fox:\n",
    "    def __init__(self, name) -> None:\n",
    "        self.name = name\n",
    "    \n",
    "    def __str__(self) -> str:\n",
    "        return f\"I am a fox with name {self.name}, my sound is mysterious\"\n",
    "\n",
    "    def speak(self):\n",
    "        return NotImplemented"
   ]
  },
  {
   "cell_type": "code",
   "execution_count": null,
   "metadata": {},
   "outputs": [
    {
     "name": "stdout",
     "output_type": "stream",
     "text": [
      "I am a fish with name Guppie\n"
     ]
    },
    {
     "data": {
      "text/plain": [
       "\"Fish(name='Guppie')\""
      ]
     },
     "execution_count": 3,
     "metadata": {},
     "output_type": "execute_result"
    }
   ],
   "source": [
    "fish1 = Fish(\"Guppie\")\n",
    "print(fish1)\n",
    "repr(fish1)"
   ]
  },
  {
   "cell_type": "code",
   "execution_count": null,
   "metadata": {},
   "outputs": [
    {
     "name": "stdout",
     "output_type": "stream",
     "text": [
      "I am a fish with name Guppie\n",
      "Bluppy bluppy\n",
      "I am a fox with name Ylvis, my sound is mysterious\n"
     ]
    }
   ],
   "source": [
    "fox1 = Fox(\"Ylvis\")\n",
    "animals = (fish1, fox1)\n",
    "\n",
    "for animal in animals:\n",
    "    print(animal)\n",
    "    animal.speak()"
   ]
  },
  {
   "cell_type": "code",
   "execution_count": null,
   "metadata": {},
   "outputs": [
    {
     "data": {
      "text/plain": [
       "<__main__.Rabbit at 0x1d3d5313a60>"
      ]
     },
     "execution_count": 5,
     "metadata": {},
     "output_type": "execute_result"
    }
   ],
   "source": [
    "class Rabbit:\n",
    "    pass\n",
    "Rabbit()"
   ]
  },
  {
   "cell_type": "markdown",
   "metadata": {},
   "source": [
    "## Operator overload\n"
   ]
  },
  {
   "cell_type": "code",
   "execution_count": 8,
   "metadata": {},
   "outputs": [
    {
     "name": "stdout",
     "output_type": "stream",
     "text": [
      "Vector((1.0, 2.0, 3.0))\n",
      "Vectors can't be empty\n",
      "(-1.0, -2.0)\n",
      "len(v3)=2\n",
      "Vector((2.0, 3.0))[0]=\n",
      "abs(Vector(3,4))=5.0\n"
     ]
    }
   ],
   "source": [
    "from __future__ import annotations\n",
    "import matplotlib.pyplot as plt \n",
    "\n",
    "class Vector:\n",
    "    \"\"\"A class to represent Euclidean vector with magnitude and direction\"\"\"\n",
    "\n",
    "    # *numbers -> arbiratary numbers of positional arguments\n",
    "    def __init__(self, *numbers: float | int) -> None:\n",
    "        \n",
    "        # validation\n",
    "        for number in numbers:\n",
    "            if not isinstance(number, (float, int)):\n",
    "                raise TypeError(f\"{number} is not a valid number\")\n",
    "\n",
    "\n",
    "        if len(numbers) <= 0:\n",
    "            raise ValueError(\"Vectors can't be empty\")\n",
    "\n",
    "        self._numbers = tuple(float(number) for number in numbers)\n",
    "\n",
    "    @property\n",
    "    def numbers(self) -> tuple:\n",
    "        \"\"\"Returns numbers\"\"\"\n",
    "        return self._numbers # tuple\n",
    "\n",
    "    # operator overload +\n",
    "    def __add__(self, other: Vector) -> Vector:\n",
    "        if self.validate_vectors(other):\n",
    "        # (1,2) + (2,3) -> numbers = (1+2, 2+3)\n",
    "            numbers = (a+b for a,b in zip(self.numbers, other.numbers))\n",
    "            return Vector(*numbers)\n",
    "\n",
    "    # operator overload\n",
    "    def __sub__(self, other:Vector) -> Vector:\n",
    "        if self.validate_vectors(other):\n",
    "            numbers = (a-b for a,b in zip(self.numbers, other.numbers))\n",
    "            return Vector(*numbers)\n",
    "\n",
    "    def validate_vectors(self, other: Vector) ->bool:\n",
    "        \"\"\"Validates if two vectors have same lengths\"\"\"\n",
    "        if not isinstance(other, Vector) or len(other) != len(self):\n",
    "            raise TypeError(\"Both must be Vector and must have same length\")\n",
    "        return len(self) == len(other) # evaluated to either True or False\n",
    "\n",
    "     # to use len() on Vector we have to overload it\n",
    "    def __len__(self) -> int:\n",
    "        \"\"\"Return number of elements in a Vector not the norm\"\"\"\n",
    "        return len(self.numbers)       \n",
    "\n",
    "    # [] operator - __getitem__()\n",
    "    def __getitem__(self, item: int) -> float:\n",
    "        return self.numbers[item]\n",
    "\n",
    "    # overloaad abs() function\n",
    "    def __abs__(self) -> float:\n",
    "        \"\"\"Returns Euclidean 2nd norm of a Vector\"\"\"\n",
    "        return sum(a**2 for a in self.numbers)**.5\n",
    "\n",
    "    # overload multiplication operator\n",
    "    def __mul__(self,value: float) -> Vector:\n",
    "        print(\"__mulcalled\")\n",
    "        if not isinstance(value, (int,float)):\n",
    "            raise TypeError(f\"The value must be a scaler that is int or float, not {type(value)}\")\n",
    "        numbers = (value*a for a in self.numbers)\n",
    "        return Vector(*numbers)\n",
    "\n",
    "    def __rmul__(self, value: float) -> Vector:\n",
    "        print(\"__rmul__called\")\n",
    "        return self*value            \n",
    "\n",
    "    def plot(self, *others: \"Vector\") -> None:\n",
    "        \"\"\" Visualize 2D vectors\"\"\"\n",
    "        X, Y = [], []\n",
    "\n",
    "        for vector in tuple(others):\n",
    "            if Vector.is2D(vector) and Vector.is2D(self):\n",
    "                X.append(vector[0])\n",
    "                Y.append(vector[1])\n",
    "        \n",
    "        X.append(self[0])\n",
    "        Y.append(self[1])\n",
    "\n",
    "        originX = originY = tuple(0 for _ in range(len(X)))\n",
    "\n",
    "        plt.quiver(originX, originY, X, Y, scale=1,\n",
    "                   scale_units=\"xy\", angles=\"xy\")\n",
    "        plt.xlim(-2, 10)\n",
    "        plt.ylim(-2, 10)\n",
    "        plt.xlabel(\"x\")\n",
    "        plt.ylabel(\"y\")\n",
    "        plt.title(f\"{self}, {others}\")\n",
    "        plt.grid()\n",
    "        plt.show()\n",
    "\n",
    "    \n",
    "    \n",
    "    def is2D(vector: Vector) -> bool:\n",
    "        return len(vector) == 2\n",
    "\n",
    "    def __repr__(self) -> str:\n",
    "        return f\"Vector({self._numbers})\"\n",
    "\n",
    "#Vector(\"ofs\",2,3)\n",
    "v1 = Vector(1,2,3)\n",
    "print(v1)\n",
    "\n",
    "try:\n",
    "    v2 = Vector()\n",
    "except ValueError as err:\n",
    "    print(err)\n",
    "\n",
    "v2 = Vector(-1,-2)\n",
    "print(v2.numbers)\n",
    "\n",
    "v3 = Vector(2,3)\n",
    "print(f\"{len(v3)=}\")\n",
    "\n",
    "print(f\"{v3}[0]=\")\n",
    "\n",
    "print(f\"{abs(Vector(3,4))=}\")\n",
    "\n",
    "\n",
    "\n"
   ]
  },
  {
   "cell_type": "code",
   "execution_count": 11,
   "metadata": {},
   "outputs": [
    {
     "ename": "TypeError",
     "evalue": "unsupported operand type(s) for *: 'Vector' and 'int'",
     "output_type": "error",
     "traceback": [
      "\u001b[1;31m---------------------------------------------------------------------------\u001b[0m",
      "\u001b[1;31mTypeError\u001b[0m                                 Traceback (most recent call last)",
      "Cell \u001b[1;32mIn [11], line 1\u001b[0m\n\u001b[1;32m----> 1\u001b[0m \u001b[43mVector\u001b[49m\u001b[43m(\u001b[49m\u001b[38;5;241;43m1\u001b[39;49m\u001b[43m,\u001b[49m\u001b[38;5;241;43m2\u001b[39;49m\u001b[43m)\u001b[49m\u001b[38;5;241;43m*\u001b[39;49m\u001b[38;5;241;43m5\u001b[39;49m\n",
      "\u001b[1;31mTypeError\u001b[0m: unsupported operand type(s) for *: 'Vector' and 'int'"
     ]
    }
   ],
   "source": [
    "Vector(1,2)*5"
   ]
  },
  {
   "cell_type": "code",
   "execution_count": 9,
   "metadata": {},
   "outputs": [
    {
     "data": {
      "image/png": "[encoded data removed]",
      "text/plain": [
       "<Figure size 640x480 with 1 Axes>"
      ]
     },
     "metadata": {},
     "output_type": "display_data"
    }
   ],
   "source": [
    "v1 = Vector(1,2)\n",
    "v2 = Vector(3,1)\n",
    "v3 = v1 + v2\n",
    "\n",
    "v3.plot(v1, v2)"
   ]
  },
  {
   "cell_type": "code",
   "execution_count": null,
   "metadata": {},
   "outputs": [
    {
     "name": "stdout",
     "output_type": "stream",
     "text": [
      "v2=Vector((-1.0, -2.0)), v3=Vector((2.0, 3.0))\n",
      "Vector((1.0, 1.0))\n"
     ]
    },
    {
     "data": {
      "text/plain": [
       "Vector((1.0, 1.0))"
      ]
     },
     "execution_count": 40,
     "metadata": {},
     "output_type": "execute_result"
    }
   ],
   "source": [
    "print(f\"{v2=}, {v3=}\")\n",
    "print(v2.__add__(v3))\n",
    "v3+v2"
   ]
  },
  {
   "cell_type": "code",
   "execution_count": null,
   "metadata": {},
   "outputs": [
    {
     "data": {
      "text/plain": [
       "2"
      ]
     },
     "execution_count": 48,
     "metadata": {},
     "output_type": "execute_result"
    }
   ],
   "source": [
    "len(v2)"
   ]
  },
  {
   "cell_type": "code",
   "execution_count": null,
   "metadata": {},
   "outputs": [
    {
     "name": "stdout",
     "output_type": "stream",
     "text": [
      "1 2 3\n",
      "f() missing 2 required positional arguments: 'x2' and 'x3'\n",
      "1 2 3\n"
     ]
    },
    {
     "ename": "NameError",
     "evalue": "name 'Vector' is not defined",
     "output_type": "error",
     "traceback": [
      "\u001b[1;31m---------------------------------------------------------------------------\u001b[0m",
      "\u001b[1;31mNameError\u001b[0m                                 Traceback (most recent call last)",
      "Cell \u001b[1;32mIn [5], line 12\u001b[0m\n\u001b[0;32m      8\u001b[0m     \u001b[38;5;28mprint\u001b[39m(err)\n\u001b[0;32m     10\u001b[0m f(\u001b[38;5;241m*\u001b[39m[\u001b[38;5;241m1\u001b[39m,\u001b[38;5;241m2\u001b[39m,\u001b[38;5;241m3\u001b[39m])\n\u001b[1;32m---> 12\u001b[0m f(\u001b[38;5;241m*\u001b[39m[\u001b[38;5;124m\"\u001b[39m\u001b[38;5;124mhej\u001b[39m\u001b[38;5;124m\"\u001b[39m,\u001b[43mVector\u001b[49m(\u001b[38;5;241m1\u001b[39m,\u001b[38;5;241m2\u001b[39m), \u001b[38;5;241m-\u001b[39m\u001b[38;5;241m5\u001b[39m])\n\u001b[0;32m     13\u001b[0m f(\u001b[38;5;124m\"\u001b[39m\u001b[38;5;124mhej\u001b[39m\u001b[38;5;124m\"\u001b[39m,Vector(\u001b[38;5;241m1\u001b[39m,\u001b[38;5;241m2\u001b[39m), \u001b[38;5;241m-\u001b[39m\u001b[38;5;241m5\u001b[39m)\n\u001b[0;32m     15\u001b[0m f(\u001b[38;5;241m*\u001b[39m[\u001b[38;5;241m*\u001b[39m[\u001b[38;5;124m\"\u001b[39m\u001b[38;5;124mhej\u001b[39m\u001b[38;5;124m\"\u001b[39m, \u001b[38;5;124m\"\u001b[39m\u001b[38;5;124mdå\u001b[39m\u001b[38;5;124m\"\u001b[39m],Vector(\u001b[38;5;241m1\u001b[39m,\u001b[38;5;241m2\u001b[39m)])\n",
      "\u001b[1;31mNameError\u001b[0m: name 'Vector' is not defined"
     ]
    }
   ],
   "source": [
    "def f(x1,x2,x3):\n",
    "    print(x1,x2,x3)\n",
    "\n",
    "f(1,2,3)\n",
    "try:\n",
    "    f([1,2,3])\n",
    "except TypeError as err:\n",
    "    print(err)\n",
    "\n",
    "f(*[1,2,3])\n",
    "\n",
    "f(*[\"hej\",Vector(1,2), -5])\n",
    "f(\"hej\",Vector(1,2), -5)\n",
    "\n",
    "f(*[*[\"hej\", \"då\"],Vector(1,2)])"
   ]
  }
 ],
 "metadata": {
  "kernelspec": {
   "display_name": "Python 3.9.13 64-bit",
   "language": "python",
   "name": "python3"
  },
  "language_info": {
   "codemirror_mode": {
    "name": "ipython",
    "version": 3
   },
   "file_extension": ".py",
   "mimetype": "text/x-python",
   "name": "python",
   "nbconvert_exporter": "python",
   "pygments_lexer": "ipython3",
   "version": "3.9.13"
  },
  "orig_nbformat": 4,
  "vscode": {
   "interpreter": {
    "hash": "a2d5b60df87a3ec850a6ab85bfe3ea4ed46bf7d3e99f4460faf5cde9752460d5"
   }
  }
 },
 "nbformat": 4,
 "nbformat_minor": 2
}
