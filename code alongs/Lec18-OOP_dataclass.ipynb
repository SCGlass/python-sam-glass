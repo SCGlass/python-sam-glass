{
 "cells": [
  {
   "cell_type": "markdown",
   "metadata": {},
   "source": [
    "# Dataclass\n",
    "\n",
    "- give us some boilerplate code for free\n",
    "- usually used for classes that stores a lot of data\n",
    "- in method heavy classes, dataclass might not help much\n",
    "\n",
    "gives free:\n",
    "- `__init__()`\n",
    "- `__repr__()`\n",
    "- `__eq__()`\n",
    "- and more"
   ]
  },
  {
   "cell_type": "code",
   "execution_count": 10,
   "metadata": {},
   "outputs": [
    {
     "name": "stdout",
     "output_type": "stream",
     "text": [
      "value setter\n",
      "value must be int or float not property\n",
      "value setter\n",
      "value getter\n",
      "42 unit\n"
     ]
    }
   ],
   "source": [
    "\n",
    "from __future__ import annotations\n",
    "from dataclasses import dataclass\n",
    "\n",
    "@dataclass\n",
    "class Prefix:\n",
    "    # fields will go into the automatically generated __init__(), __repr__()\n",
    "    # fields - variable: type annotation\n",
    "    value: int|float # positional argument\n",
    "    unit: str = \"unit\" # keyword argument\n",
    "    prefix_symbol: str = None\n",
    "\n",
    "    # we get this from dataclass\n",
    "    # def __init__(self, value, unit = \"unit\", prefix_symbol = None):\n",
    "    #     self.value = value\n",
    "    #     self.unit = unit\n",
    "    #     self.prefix_symbol = prefix_symbol\n",
    "\n",
    "    # we get this __repr__ from dataclass\n",
    "    # def __repr__(self): \n",
    "    #      return f\"Prefix(value={self.value},unit='{self.unit}',prefix_symbol={self.prefix_symbol})\"\n",
    "\n",
    "    # we also get a __eq__ from dataclass \n",
    "\n",
    "    # bare class attributes, they are not in __init__ or __repr__\n",
    "    # note they don't have type annotation so they are not fields\n",
    "    symbols = \"T G M k h d c m µ n p\".split()\n",
    "    names = \"tera giga mega kilo hekto deci centi milli mikro nano piko\".split()\n",
    "    values = (10**i for i in (12,9,6,3,2,-1,-2,-3,-6,-9,-12))\n",
    "\n",
    "    # dictionary comprehension\n",
    "    # {\"T\": [10**12, \"tera\"], \"G\": [10**9, \"giga\"], ...}\n",
    "    prefix_dict = {\n",
    "        symbol: [value, name] \n",
    "        for name, symbol, value in zip(names, symbols, values)\n",
    "    }\n",
    "\n",
    "    def convert(self, symbol: str) -> float|int:\n",
    "        self.prefix_symbol = symbol\n",
    "        return self.value/self.prefix_dict[symbol][0] # dictionary lookup\n",
    "\n",
    "    # some bugs here - can't fix right now\n",
    "    def __str__(self) -> str:\n",
    "        if self.prefix_symbol:\n",
    "            return f\"{self.convert(self.prefix_symbol)}{self.prefix_symbol}{self.unit}\"\n",
    "        return f\"{self.value} {self.unit}\"\n",
    "\n",
    "    @property\n",
    "    def value(self):\n",
    "        print(\"value getter\")\n",
    "        return self._value\n",
    "\n",
    "    @value.setter\n",
    "    def value(self, value):\n",
    "        print(\"value setter\")\n",
    "        if not isinstance(value, (float, int)):\n",
    "            raise TypeError(f\"value must be int or float not {type(value).__name__}\")\n",
    "        self._value = value\n",
    "\n",
    "    \n",
    "    #def __repr__(self):\n",
    "    #    return \"Custom __repr__()\"\n",
    "\n",
    "\n",
    "\n",
    "try:\n",
    "    p1 = Prefix()\n",
    "except TypeError as err:\n",
    "    print(err)\n",
    "\n",
    "\n",
    "p1 = Prefix(42)\n",
    "print(p1) # the __repr__ picks the value which will run the getter\n",
    "# __repr__() uses the fields and not the class attributes"
   ]
  },
  {
   "cell_type": "code",
   "execution_count": 11,
   "metadata": {},
   "outputs": [
    {
     "name": "stdout",
     "output_type": "stream",
     "text": [
      "value setter\n",
      "value getter\n",
      "42 g\n",
      "value getter\n",
      "value getter\n",
      "42000.0mg\n"
     ]
    }
   ],
   "source": [
    "p1 = Prefix(42, \"g\")\n",
    "print(p1) # __str__\n",
    "p1.convert(\"m\") # 42/ (10^(-3)) = 42*10^ = 42000\n",
    "print(p1)"
   ]
  },
  {
   "cell_type": "code",
   "execution_count": 12,
   "metadata": {},
   "outputs": [
    {
     "name": "stdout",
     "output_type": "stream",
     "text": [
      "value setter\n"
     ]
    },
    {
     "ename": "TypeError",
     "evalue": "value must be int or float not property",
     "output_type": "error",
     "traceback": [
      "\u001b[1;31m---------------------------------------------------------------------------\u001b[0m",
      "\u001b[1;31mTypeError\u001b[0m                                 Traceback (most recent call last)",
      "Cell \u001b[1;32mIn [12], line 1\u001b[0m\n\u001b[1;32m----> 1\u001b[0m p2 \u001b[39m=\u001b[39m Prefix()\n",
      "File \u001b[1;32m<string>:3\u001b[0m, in \u001b[0;36m__init__\u001b[1;34m(self, value, unit, prefix_symbol)\u001b[0m\n",
      "Cell \u001b[1;32mIn [10], line 56\u001b[0m, in \u001b[0;36mPrefix.value\u001b[1;34m(self, value)\u001b[0m\n\u001b[0;32m     54\u001b[0m \u001b[39mprint\u001b[39m(\u001b[39m\"\u001b[39m\u001b[39mvalue setter\u001b[39m\u001b[39m\"\u001b[39m)\n\u001b[0;32m     55\u001b[0m \u001b[39mif\u001b[39;00m \u001b[39mnot\u001b[39;00m \u001b[39misinstance\u001b[39m(value, (\u001b[39mfloat\u001b[39m, \u001b[39mint\u001b[39m)):\n\u001b[1;32m---> 56\u001b[0m     \u001b[39mraise\u001b[39;00m \u001b[39mTypeError\u001b[39;00m(\u001b[39mf\u001b[39m\u001b[39m\"\u001b[39m\u001b[39mvalue must be int or float not \u001b[39m\u001b[39m{\u001b[39;00m\u001b[39mtype\u001b[39m(value)\u001b[39m.\u001b[39m\u001b[39m__name__\u001b[39m\u001b[39m}\u001b[39;00m\u001b[39m\"\u001b[39m)\n\u001b[0;32m     57\u001b[0m \u001b[39mself\u001b[39m\u001b[39m.\u001b[39m_value \u001b[39m=\u001b[39m value\n",
      "\u001b[1;31mTypeError\u001b[0m: value must be int or float not property"
     ]
    }
   ],
   "source": [
    "p2 = Prefix()"
   ]
  }
 ],
 "metadata": {
  "kernelspec": {
   "display_name": "Python 3.9.13 ('python-sam-glass-f9Gfa9m9')",
   "language": "python",
   "name": "python3"
  },
  "language_info": {
   "codemirror_mode": {
    "name": "ipython",
    "version": 3
   },
   "file_extension": ".py",
   "mimetype": "text/x-python",
   "name": "python",
   "nbconvert_exporter": "python",
   "pygments_lexer": "ipython3",
   "version": "3.9.13"
  },
  "orig_nbformat": 4,
  "vscode": {
   "interpreter": {
    "hash": "c54bac0ad9a8758ea607748194fff43bd5680f7a659873af8c80514da573df4a"
   }
  }
 },
 "nbformat": 4,
 "nbformat_minor": 2
}
