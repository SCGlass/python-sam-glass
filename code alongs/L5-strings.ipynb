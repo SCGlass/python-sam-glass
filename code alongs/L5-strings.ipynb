{
 "cells": [
  {
   "cell_type": "markdown",
   "metadata": {},
   "source": [
    "# Strings"
   ]
  },
  {
   "cell_type": "code",
   "execution_count": null,
   "metadata": {},
   "outputs": [],
   "source": [
    "first_namme = \"Sam\"\n",
    "last_name = \"Glasss\"\n",
    "\n",
    "#concatenate strings\n",
    "\n",
    "name = first_namme +\" \"+ last_name\n",
    "age = 35\n",
    "adress = \"Göteborg\"\n",
    "phone = \"112\"\n",
    "\n",
    "print(name)\n",
    "\n",
    "# multiline f string \n",
    "contact = f\"\"\"\n"
   ]
  },
  {
   "cell_type": "markdown",
   "metadata": {},
   "source": [
    "Name: {name},\n",
    "Age: {age},\n",
    "Address: {Göteborg},\n",
    "PHone: {112},"
   ]
  },
  {
   "cell_type": "markdown",
   "metadata": {},
   "source": [
    "# Iterate through lists and concatenates"
   ]
  },
  {
   "cell_type": "code",
   "execution_count": 1,
   "metadata": {},
   "outputs": [
    {
     "name": "stdout",
     "output_type": "stream",
     "text": [
      "Plan \n",
      "Må: AI intro\n",
      "Ti: Python\n",
      "On: Matte\n",
      "To: Självplugg\n",
      "Fr: Chilla\n",
      "\n"
     ]
    }
   ],
   "source": [
    "schedule = [\"AI intro\", \"Python\", \"Matte\", \"Självplugg\", \"Chilla\"]\n",
    "days = [\"Må\", \"Ti\", \"On\", \"To\",\"Fr\"]\n",
    "\n",
    "week_plan = \"Plan \\n\"\n",
    "\n",
    "#Plan\n",
    "#Må: AI intro\n",
    "#Ti : Python\n",
    "# ...\n",
    "\n",
    "for day, task in zip(days, schedule):\n",
    "    week_plan += f\"{day}: {task}\\n\"\n",
    "\n",
    "print(week_plan)    "
   ]
  },
  {
   "cell_type": "markdown",
   "metadata": {},
   "source": [
    "# Indexing"
   ]
  },
  {
   "cell_type": "code",
   "execution_count": 5,
   "metadata": {},
   "outputs": [
    {
     "name": "stdout",
     "output_type": "stream",
     "text": [
      "quote[0]='!'\n",
      "quote[:6]='!False'\n",
      "quote[-4]='t'\n",
      "Backwards: quote[::-1]=\"eurt s'ti esuaceb ynnuf s'ti - eslaF!\"\n",
      "Length of string; 37 characters\n"
     ]
    }
   ],
   "source": [
    "quote = \"!False - it's funny because it's true\"\n",
    "\n",
    "print(f\"{quote[0]=}\")\n",
    "print(f\"{quote[:6]=}\")\n",
    "print(f\"{quote[-4]=}\")\n",
    "\n",
    "print(f\"Backwards: {quote[::-1]=}\")\n",
    "\n",
    "print(f\"Length of string; {len(quote)} characters\")\n"
   ]
  },
  {
   "cell_type": "markdown",
   "metadata": {},
   "source": [
    "# Split strings"
   ]
  },
  {
   "cell_type": "code",
   "execution_count": 12,
   "metadata": {},
   "outputs": [
    {
     "name": "stdout",
     "output_type": "stream",
     "text": [
      "1.6666666666666667=\n"
     ]
    }
   ],
   "source": [
    "# not possible\n",
    "# numbers = float(input(\"Ange tre tal(sepererade med kommatecken): \"))\n",
    "\n",
    "numbers = input(\"Ange tre tal(separerade med kommatecken):\")\n",
    "\n",
    "# 1. split the string into a list of 3 strings\n",
    "# 2. type convert each string into a float by iterating through a list\n",
    "\n",
    "numbers = [float(number) for number in numbers.split(\",\")]\n",
    "numbers\n",
    "mean_value = sum(numbers)/len(numbers)\n",
    "\n",
    "print(f\"{numbers=}\")\n",
    "print(f\"{mean_value}=\")"
   ]
  },
  {
   "cell_type": "code",
   "execution_count": 8,
   "metadata": {},
   "outputs": [
    {
     "data": {
      "text/plain": [
       "['2', '3', '4']"
      ]
     },
     "execution_count": 8,
     "metadata": {},
     "output_type": "execute_result"
    }
   ],
   "source": [
    "numbers_test = \"2,3,4\"\n",
    "numbers_test.split(\",\")"
   ]
  }
 ],
 "metadata": {
  "kernelspec": {
   "display_name": "Python 3.9.13 64-bit",
   "language": "python",
   "name": "python3"
  },
  "language_info": {
   "codemirror_mode": {
    "name": "ipython",
    "version": 3
   },
   "file_extension": ".py",
   "mimetype": "text/x-python",
   "name": "python",
   "nbconvert_exporter": "python",
   "pygments_lexer": "ipython3",
   "version": "3.9.13"
  },
  "orig_nbformat": 4,
  "vscode": {
   "interpreter": {
    "hash": "a2d5b60df87a3ec850a6ab85bfe3ea4ed46bf7d3e99f4460faf5cde9752460d5"
   }
  }
 },
 "nbformat": 4,
 "nbformat_minor": 2
}
