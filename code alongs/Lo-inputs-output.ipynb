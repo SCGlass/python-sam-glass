{
 "cells": [
  {
   "cell_type": "markdown",
   "metadata": {},
   "source": [
    "# Code along - input-output"
   ]
  },
  {
   "cell_type": "code",
   "execution_count": null,
   "metadata": {},
   "outputs": [],
   "source": [
    "# variable - data type string\n",
    "\" create a variable (\"box\") and assigns a value\n",
    "1 name = \"Sam\"\n",
    "\n",
    "#variable - data type float\n",
    "age = 35\n",
    "\n",
    "#this is an f-string (formatted string)\n",
    "print(f\"hej {\")"
   ]
  },
  {
   "cell_type": "markdown",
   "metadata": {},
   "source": [
    "# Inputs and Outputs"
   ]
  },
  {
   "cell_type": "code",
   "execution_count": 1,
   "metadata": {},
   "outputs": [
    {
     "name": "stdout",
     "output_type": "stream",
     "text": [
      "Hello sam, you are 35 years old\n"
     ]
    }
   ],
   "source": [
    "name = input (\"What is your name?\")\n",
    "age = input(\"What is your age?\")\n",
    "\n",
    "print(f\"Hello {name}, you are {age} years old\")"
   ]
  },
  {
   "cell_type": "markdown",
   "metadata": {},
   "source": [
    "# Calculations"
   ]
  },
  {
   "cell_type": "code",
   "execution_count": null,
   "metadata": {},
   "outputs": [],
   "source": [
    "gravity = 9.82\n",
    "masss = 62\n",
    "\n",
    "force = mass*gravity\n"
   ]
  }
 ],
 "metadata": {
  "kernelspec": {
   "display_name": "Python 3.9.13 64-bit",
   "language": "python",
   "name": "python3"
  },
  "language_info": {
   "codemirror_mode": {
    "name": "ipython",
    "version": 3
   },
   "file_extension": ".py",
   "mimetype": "text/x-python",
   "name": "python",
   "nbconvert_exporter": "python",
   "pygments_lexer": "ipython3",
   "version": "3.9.13"
  },
  "orig_nbformat": 4,
  "vscode": {
   "interpreter": {
    "hash": "a2d5b60df87a3ec850a6ab85bfe3ea4ed46bf7d3e99f4460faf5cde9752460d5"
   }
  }
 },
 "nbformat": 4,
 "nbformat_minor": 2
}
