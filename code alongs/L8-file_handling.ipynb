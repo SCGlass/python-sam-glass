{
 "cells": [
  {
   "cell_type": "markdown",
   "metadata": {},
   "source": [
    "# File handling\n",
    "\n",
    "```py\n",
    "with open(path, option) as name:\n",
    "    statements\n",
    "    ...\n",
    "```\n",
    "\n",
    "options \n",
    "- \"r\" - read\n",
    "- \"a\" - append to a file(if it does't exist - it will create a file)\n",
    "- \"w\" - write (if it doesnt't exist - it will create the file)\n",
    "- \"x\" -create a file, error if it already exists"
   ]
  },
  {
   "cell_type": "code",
   "execution_count": 1,
   "metadata": {},
   "outputs": [
    {
     "data": {
      "text/plain": [
       "'  If     we     knew what it was      we were doing, it would not be called research,          would it?     - Albert Einstein\\n\\nTime is a drug. Too       much of it kills you.  -  Terry Pratchett\\n\\n\\n An expert is a person who       has made all the mistakes that           can be made in a          very narrow field - Niels Bohr\\n\\n   Everything must be made as simple as possible. But not simpler. - Albert Einstein     \\n\\n\\n  Nothing in life                is to be feared, it is only to be understood. Now is the time to understand more, so that we may fear less. - Marie  Curie  \\n\\nIf I have seen further     it is by standing on the shoulders of Giants. - Isaac Newton'"
      ]
     },
     "execution_count": 1,
     "metadata": {},
     "output_type": "execute_result"
    }
   ],
   "source": [
    "with open(\"../Data/quotes.txt\") as f:\n",
    "    text = f.read()\n",
    "\n",
    "text    "
   ]
  }
 ],
 "metadata": {
  "kernelspec": {
   "display_name": "Python 3.9.13 ('python-sam-glass-f9Gfa9m9')",
   "language": "python",
   "name": "python3"
  },
  "language_info": {
   "codemirror_mode": {
    "name": "ipython",
    "version": 3
   },
   "file_extension": ".py",
   "mimetype": "text/x-python",
   "name": "python",
   "nbconvert_exporter": "python",
   "pygments_lexer": "ipython3",
   "version": "3.9.13"
  },
  "orig_nbformat": 4,
  "vscode": {
   "interpreter": {
    "hash": "c54bac0ad9a8758ea607748194fff43bd5680f7a659873af8c80514da573df4a"
   }
  }
 },
 "nbformat": 4,
 "nbformat_minor": 2
}
