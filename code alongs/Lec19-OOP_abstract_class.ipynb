{
 "cells": [
  {
   "cell_type": "markdown",
   "metadata": {},
   "source": [
    "# Abstract classes"
   ]
  },
  {
   "cell_type": "markdown",
   "metadata": {},
   "source": [
    "## problem description\n",
    "\n",
    "3 developers, the task is to implement a photosynthesis method for 3 different plants\n",
    "\n"
   ]
  },
  {
   "cell_type": "code",
   "execution_count": 6,
   "metadata": {},
   "outputs": [],
   "source": [
    "\n",
    "\n",
    "# developer 1\n",
    "class VenusFlyTrap:\n",
    "    def venus_photosynthesis(self):\n",
    "        print(\"Venus eating bugs\")\n",
    "        # checks the instance class and its name\n",
    "        print(f\"{self.__class__.__name__} does photosynthesis\")\n",
    "\n",
    "# developer 2\n",
    "class Monstera:\n",
    "    def monstera_photosynthesis(self):\n",
    "        print(\"Monstera looking cool ...\")\n",
    "        print(f\"{self.__class__.__name__} does photosynthesis\")\n",
    "\n",
    "# developer 3\n",
    "class MoneyPlant:\n",
    "    def photosynthesis(self):\n",
    "        print(\"Money hopefully comes in ...\")\n",
    "        print(f\"{self.__class__.__name__} does photosynthesis\")\n",
    "\n",
    "\n"
   ]
  },
  {
   "cell_type": "code",
   "execution_count": 11,
   "metadata": {},
   "outputs": [
    {
     "ename": "AttributeError",
     "evalue": "'VenusFlyTrap' object has no attribute 'photosynthesis'",
     "output_type": "error",
     "traceback": [
      "\u001b[1;31m---------------------------------------------------------------------------\u001b[0m",
      "\u001b[1;31mAttributeError\u001b[0m                            Traceback (most recent call last)",
      "Cell \u001b[1;32mIn [11], line 5\u001b[0m\n\u001b[0;32m      3\u001b[0m plants \u001b[39m=\u001b[39m (VenusFlyTrap(), Monstera(), MoneyPlant())\n\u001b[0;32m      4\u001b[0m \u001b[39mfor\u001b[39;00m plant \u001b[39min\u001b[39;00m plants:\n\u001b[1;32m----> 5\u001b[0m     plant\u001b[39m.\u001b[39;49mphotosynthesis\n",
      "\u001b[1;31mAttributeError\u001b[0m: 'VenusFlyTrap' object has no attribute 'photosynthesis'"
     ]
    }
   ],
   "source": [
    "# want to use polymorphism and loop through these plants\n",
    "\n",
    "plants = (VenusFlyTrap(), Monstera(), MoneyPlant())\n",
    "for plant in plants:\n",
    "    plant.photosynthesis"
   ]
  },
  {
   "cell_type": "markdown",
   "metadata": {},
   "source": [
    "## ABC - abstract base class\n",
    "\n",
    "- can make a base class abstract by giving it at least 1 abstract method\n",
    "- can't instantiate from an abstract class\n",
    "- subclasses of this abstract class, must implement the abstract methods in order to instantiable"
   ]
  },
  {
   "cell_type": "code",
   "execution_count": 15,
   "metadata": {},
   "outputs": [
    {
     "ename": "TypeError",
     "evalue": "Can't instantiate abstract class Monstera with abstract method photosynthesis",
     "output_type": "error",
     "traceback": [
      "\u001b[1;31m---------------------------------------------------------------------------\u001b[0m",
      "\u001b[1;31mTypeError\u001b[0m                                 Traceback (most recent call last)",
      "Cell \u001b[1;32mIn [15], line 32\u001b[0m\n\u001b[0;32m     26\u001b[0m         \u001b[39mprint\u001b[39m(\u001b[39mf\u001b[39m\u001b[39m\"\u001b[39m\u001b[39m{\u001b[39;00m\u001b[39mself\u001b[39m\u001b[39m.\u001b[39m\u001b[39m__class__\u001b[39m\u001b[39m.\u001b[39m\u001b[39m__name__\u001b[39m\u001b[39m}\u001b[39;00m\u001b[39m does photosynthesis\u001b[39m\u001b[39m\"\u001b[39m)\n\u001b[0;32m     31\u001b[0m \u001b[39m# we inherit from Plant, so Monstera has a method called photosynthesis that is abstract, which makes Monstera abstract\u001b[39;00m\n\u001b[1;32m---> 32\u001b[0m monsteru \u001b[39m=\u001b[39m Monstera()\n",
      "\u001b[1;31mTypeError\u001b[0m: Can't instantiate abstract class Monstera with abstract method photosynthesis"
     ]
    }
   ],
   "source": [
    "from abc import abstractmethod, ABC\n",
    "\n",
    "# the abstract class must inherit from ABC - abstract base class\n",
    "class Plant(ABC):\n",
    "    @abstractmethod\n",
    "    def photosynthesis(self):\n",
    "        pass\n",
    "\n",
    "# developer 1\n",
    "class VenusFlyTrap(Plant):\n",
    "    def venus_photosynthesis(self):\n",
    "        print(\"Venus eating bugs\")\n",
    "        # checks the instance class and its name\n",
    "        print(f\"{self.__class__.__name__} does photosynthesis\")\n",
    "\n",
    "# developer 2\n",
    "class Monstera(Plant):\n",
    "    def monstera_photosynthesis(self):\n",
    "        print(\"Monstera looking cool ...\")\n",
    "        print(f\"{self.__class__.__name__} does photosynthesis\")\n",
    "\n",
    "# developer 3\n",
    "class MoneyPlant(Plant):\n",
    "    def photosynthesis(self):\n",
    "        print(\"Money hopefully comes in ...\")\n",
    "        print(f\"{self.__class__.__name__} does photosynthesis\")\n",
    "\n",
    "\n",
    "\n",
    "\n",
    "# we inherit from Plant, so Monstera has a method called photosynthesis that is abstract, which makes Monstera abstract\n",
    "monsteru = Monstera()"
   ]
  },
  {
   "cell_type": "code",
   "execution_count": 20,
   "metadata": {},
   "outputs": [
    {
     "name": "stdout",
     "output_type": "stream",
     "text": [
      "Monstera looking cool ...\n",
      "Monstera does photosynthesis\n",
      "Money hopefully comes in ...\n",
      "MoneyPlant does photosynthesis\n",
      "Venus eating bugs\n",
      "VenusFlyTrap does photosynthesis\n"
     ]
    }
   ],
   "source": [
    "from abc import abstractmethod, ABC\n",
    "\n",
    "# the abstract class must inherit from ABC - abstract base class\n",
    "class Plant(ABC):\n",
    "    @abstractmethod\n",
    "    def photosynthesis(self):\n",
    "        pass\n",
    "\n",
    "# developer 1\n",
    "class VenusFlyTrap:\n",
    "    def photosynthesis(self):\n",
    "        print(\"Venus eating bugs\")\n",
    "        # checks the instance class and its name\n",
    "        print(f\"{self.__class__.__name__} does photosynthesis\")\n",
    "\n",
    "# developer 2\n",
    "class Monstera:\n",
    "    def photosynthesis(self):\n",
    "        print(\"Monstera looking cool ...\")\n",
    "        print(f\"{self.__class__.__name__} does photosynthesis\")\n",
    "\n",
    "# developer 3\n",
    "class MoneyPlant:\n",
    "    def photosynthesis(self):\n",
    "        print(\"Money hopefully comes in ...\")\n",
    "        print(f\"{self.__class__.__name__} does photosynthesis\")\n",
    "\n",
    "\n",
    "\n",
    "monet = MoneyPlant()\n",
    "monsteru = Monstera()\n",
    "venus = VenusFlyTrap()\n",
    "\n",
    "for plant in (monsteru, monet, venus):\n",
    "    plant.photosynthesis()\n"
   ]
  }
 ],
 "metadata": {
  "kernelspec": {
   "display_name": "Python 3.9.13 ('python-sam-glass-f9Gfa9m9')",
   "language": "python",
   "name": "python3"
  },
  "language_info": {
   "codemirror_mode": {
    "name": "ipython",
    "version": 3
   },
   "file_extension": ".py",
   "mimetype": "text/x-python",
   "name": "python",
   "nbconvert_exporter": "python",
   "pygments_lexer": "ipython3",
   "version": "3.9.13"
  },
  "orig_nbformat": 4,
  "vscode": {
   "interpreter": {
    "hash": "c54bac0ad9a8758ea607748194fff43bd5680f7a659873af8c80514da573df4a"
   }
  }
 },
 "nbformat": 4,
 "nbformat_minor": 2
}
