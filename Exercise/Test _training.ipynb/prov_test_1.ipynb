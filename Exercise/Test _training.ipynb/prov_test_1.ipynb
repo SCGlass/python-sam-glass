{
 "cells": [
  {
   "cell_type": "markdown",
   "metadata": {},
   "source": [
    "Uppgift 1 (3p)\n",
    "Förklara vad den här koden gör och vad som ritas ut:"
   ]
  },
  {
   "cell_type": "markdown",
   "metadata": {},
   "source": [
    "1. import matplotlib.pyplot as plt # This  imports plotting extension so a graph can be plotted\n",
    "2.\n",
    "3. x = list(range(10)) # This variable is a for loop that goes through a list within the range of 10\n",
    "4. y = [i**2 for i in x] # This variable loops in a list and doubles x everytime it loops tex [1,2] [2,4] [3,6]\n",
    "5. fig, ax = plt.figure(), plt.axes() # This will write the figures and write the axes of the graph\n",
    "6. ax.plot(x,y) # This will ploy the x and y points on the graph\n",
    "7. ax.set(title=\"Plot\", xlabel=\"x\", ylabel=\"y\") # This sets the titles of the axis and the title of the graph \n",
    "\n",
    "Skriv en kort kommentar för varje rad.\n"
   ]
  },
  {
   "cell_type": "markdown",
   "metadata": {},
   "source": [
    "Uppgift 2 (3p)\n",
    "Simulera 1000000 tärningskast och beräkna antalet ettor, tvåor, treor, fyror, femmor och sexor. Spara\n",
    "resultatet i en lämplig datastruktur.\n"
   ]
  },
  {
   "cell_type": "markdown",
   "metadata": {},
   "source": []
  },
  {
   "cell_type": "markdown",
   "metadata": {},
   "source": [
    "Uppgift 3 (3p)\n",
    "Skriv en funktion som tar in en radie som inparameter och som returnerar volymen av en sfär. Volymen för en\n",
    "sfär är:\n",
    "Låt användaren mata in ett tal och kör funktionen. Tänk på att ta med lämplig felhantering.\n"
   ]
  },
  {
   "cell_type": "markdown",
   "metadata": {},
   "source": [
    "\n",
    "radius = input(\"Enter a radius\")\n",
    "\n",
    "def Sphere(radius:int|float) -> float:\n",
    "    \n"
   ]
  }
 ],
 "metadata": {
  "language_info": {
   "name": "python"
  },
  "orig_nbformat": 4
 },
 "nbformat": 4,
 "nbformat_minor": 2
}
