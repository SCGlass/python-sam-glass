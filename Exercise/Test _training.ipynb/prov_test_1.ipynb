{
 "cells": [
  {
   "cell_type": "markdown",
   "metadata": {},
   "source": [
    "Uppgift 1 (3p)\n",
    "Förklara vad den här koden gör och vad som ritas ut:"
   ]
  },
  {
   "cell_type": "markdown",
   "metadata": {},
   "source": [
    "1. import matplotlib.pyplot as plt # This  imports plotting extension so a graph can be plotted\n",
    "2.\n",
    "3. x = list(range(10)) # This variable is a for loop that goes through a list within the range of 10\n",
    "4. y = [i**2 for i in x] # This variable loops in a list and doubles x everytime it loops tex [1,2] [2,4] [3,6]\n",
    "5. fig, ax = plt.figure(), plt.axes() # This will write the figures and write the axes of the graph\n",
    "6. ax.plot(x,y) # This will ploy the x and y points on the graph\n",
    "7. ax.set(title=\"Plot\", xlabel=\"x\", ylabel=\"y\") # This sets the titles of the axis and the title of the graph \n",
    "\n",
    "Skriv en kort kommentar för varje rad.\n"
   ]
  },
  {
   "cell_type": "markdown",
   "metadata": {},
   "source": [
    "Uppgift 2 (3p)\n",
    "Simulera 1000000 tärningskast och beräkna antalet ettor, tvåor, treor, fyror, femmor och sexor. Spara\n",
    "resultatet i en lämplig datastruktur.\n"
   ]
  },
  {
   "cell_type": "markdown",
   "metadata": {},
   "source": []
  },
  {
   "cell_type": "markdown",
   "metadata": {},
   "source": [
    "Uppgift 3 (3p)\n",
    "Skriv en funktion som tar in en radie som inparameter och som returnerar volymen av en sfär. Volymen för en\n",
    "sfär är:\n",
    "Låt användaren mata in ett tal och kör funktionen. Tänk på att ta med lämplig felhantering.\n"
   ]
  },
  {
   "cell_type": "markdown",
   "metadata": {},
   "source": [
    "import math\n",
    "import \n",
    "\n",
    "radius = input(\"Enter a radius\")\n",
    "\n",
    "def Sphere(self,radius:int|float) -> float:\n",
    "    \"\"\" This is a function defining a sphere\"\"\"\n",
    "    if isinstance (radius, str):\n",
    "    raise TypeError (\"Entry must be int or float value not a string \")\n",
    "    if isinstance radius < 0:\n",
    "    raise ValueError (\"Entry must be a positive number, not a negative\")\n",
    "\n",
    "return (4*(math.pi * radius**3))/3\n",
    "    \n",
    "      \n",
    "\n",
    "\n",
    "    \n"
   ]
  },
  {
   "cell_type": "code",
   "execution_count": 16,
   "metadata": {},
   "outputs": [
    {
     "name": "stdout",
     "output_type": "stream",
     "text": [
      "Sphere =<function Sphere at 0x000002867F2293A0>\n"
     ]
    }
   ],
   "source": [
    "import math\n",
    "from __future__ import annotations\n",
    "\n",
    "radius = input(\"Enter a radius\")\n",
    "\n",
    "def Sphere(self,radius:int|float) -> float:\n",
    "    \"\"\" This is a function defining a sphere\"\"\"\n",
    "    if isinstance (radius, str):\n",
    "        raise TypeError (\"Entry must be int or float value not a string \")\n",
    "    if isinstance (radius < 0):\n",
    "        raise ValueError (\"Entry must be a positive number, not a negative\")\n",
    "\n",
    "    return (4*(math.pi * radius**3))/3\n",
    "\n",
    "print(f\"{Sphere =}\")\n",
    "\n",
    "\n"
   ]
  },
  {
   "cell_type": "markdown",
   "metadata": {},
   "source": [
    "Uppgift 4 (3p)\n",
    "Läs in en textfil som heter bamba.txt och innehåller:\n",
    "\n",
    "v42\n",
    "Chili sin carne\n",
    "Pannkakor\n",
    "Ärtsoppa\n",
    "Kebab\n",
    "Vegetarisk lasagne\n",
    "\n",
    "Läs in texterna och skriv ut dem i terminalen."
   ]
  },
  {
   "cell_type": "markdown",
   "metadata": {},
   "source": [
    "with open (bamba.txt) as f:\n",
    "\n",
    "for line in f:\n",
    "print(line.strip())"
   ]
  },
  {
   "cell_type": "markdown",
   "metadata": {},
   "source": [
    "Uppgift 5 (3p)\n",
    "Skapa en funktion som tar in två punkter i 2D , och som returnerar tillbaka avståndet mellan\n",
    "dessa. Anropa därefter denna funktion för test\n",
    "Det finns en textfil som heter testpunkter.txt som ligger i undermappen testpoints och innehåller:\n",
    "\n",
    "Punkt 1, punkt 2\n",
    "(1,2), (0,0)\n",
    "(2,0), (3,5)\n",
    "...\n",
    "(-2,-2), (9,2)\n"
   ]
  },
  {
   "cell_type": "code",
   "execution_count": null,
   "metadata": {},
   "outputs": [],
   "source": [
    "with open (testpunkter.txt) as r:\n",
    "\n"
   ]
  },
  {
   "cell_type": "markdown",
   "metadata": {},
   "source": [
    "Uppgift 6 (4p)\n",
    "I den här uppgiften ska du skapa ett blackjack som är ett kortspel. Förenklat är reglerna för blackjack:\n",
    "dealern tar två kort\n",
    "dealern visar sitt första kort\n",
    "spelaren tar två kort\n",
    "spelaren får välja att ta nytt kort eller stanna\n",
    "när spelaren stannar räknar man poängen genom:\n",
    "J, K, Q värda 10p\n",
    "A värd 1 eller 11\n",
    "Övriga kort värda deras valör\n",
    "om spelarens poäng mindre eller lika med 21, vinner spelaren om hens poäng överstiger dealerns,\n",
    "annars vinner dealern"
   ]
  },
  {
   "cell_type": "code",
   "execution_count": null,
   "metadata": {},
   "outputs": [],
   "source": []
  }
 ],
 "metadata": {
  "kernelspec": {
   "display_name": "Python 3.9.13 ('python-sam-glass-f9Gfa9m9')",
   "language": "python",
   "name": "python3"
  },
  "language_info": {
   "codemirror_mode": {
    "name": "ipython",
    "version": 3
   },
   "file_extension": ".py",
   "mimetype": "text/x-python",
   "name": "python",
   "nbconvert_exporter": "python",
   "pygments_lexer": "ipython3",
   "version": "3.9.13"
  },
  "orig_nbformat": 4,
  "vscode": {
   "interpreter": {
    "hash": "c54bac0ad9a8758ea607748194fff43bd5680f7a659873af8c80514da573df4a"
   }
  }
 },
 "nbformat": 4,
 "nbformat_minor": 2
}
