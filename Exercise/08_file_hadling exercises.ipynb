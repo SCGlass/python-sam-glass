{
 "cells": [
  {
   "cell_type": "markdown",
   "metadata": {},
   "source": [
    "# File handling"
   ]
  },
  {
   "cell_type": "markdown",
   "metadata": {},
   "source": [
    "# question 2"
   ]
  },
  {
   "cell_type": "code",
   "execution_count": 16,
   "metadata": {},
   "outputs": [
    {
     "name": "stdout",
     "output_type": "stream",
     "text": [
      "['Adam Gustafsson 25\\n', 'Emil Johansson 23\\n', 'Sven Erik Karlsson 13\\n', 'Ove Karlsten 41\\n', 'Emma Boden 32\\n', 'Ida HÃ¥kansson 23\\n', 'Ella Ester 41\\n', 'Hanna Karlsson 23 \\n', 'Johan Johansson 42\\n', 'Sven Erik Lundin 39\\n', 'BjÃ¶rn BjÃ¶rnsson 39\\n', 'Karl Karlsson 32\\n', 'Bose Bosseson 32\\n', 'HÃ¥kan HÃ¥kanson 24\\n', 'Jonas Jonasson 31\\n', 'Erik Eriksson 31\\n', 'Gore Bord 55\\n', 'Jakob Kallander 65\\n', 'Fredrika Ulven 10']\n"
     ]
    }
   ],
   "source": [
    "with open(\"../Data/Provresultat.txt\") as f_read:\n",
    "    # each line is stored as a list\n",
    "    #each line is a string and it has \\n in the end\n",
    "    lines = f_read.readlines()\n",
    "    print(lines)\n",
    "\n",
    "    # -------- a)----------\n",
    "    # loops through lines and prints each line\n"
   ]
  },
  {
   "cell_type": "code",
   "execution_count": 22,
   "metadata": {},
   "outputs": [
    {
     "ename": "SyntaxError",
     "evalue": "invalid syntax (2989568026.py, line 2)",
     "output_type": "error",
     "traceback": [
      "\u001b[1;36m  Cell \u001b[1;32mIn [22], line 2\u001b[1;36m\u001b[0m\n\u001b[1;33m    with open(\"../Data/Provresultat.txt\") as f_read, open(\"../Data/Provresultat.txt, \"a\") as f_write:\u001b[0m\n\u001b[1;37m                                                                                      ^\u001b[0m\n\u001b[1;31mSyntaxError\u001b[0m\u001b[1;31m:\u001b[0m invalid syntax\n"
     ]
    }
   ],
   "source": [
    "# b) and c)\n",
    "with open(\"../Data/Provresultat.txt\") as f_read, open(\"../Data/Provresultat.txt, \"a\") as f_write:\n",
    "    lines = f_read.readlines()\n",
    "    #print(lines[-1])\n",
    "\n",
    "    lines[-1] += \"\\n\"\n",
    "    #print(lines)\n",
    "\n",
    "    f_write.write(\"\\n\\nAlfabetisk ordning\\n\")\n",
    "\n",
    "    # returns None, it mutates (changes) the list\n",
    "    #lines.sort()\n",
    "    #print(lines)\n",
    "\n",
    "    # returns a new list of sorted elements\n",
    "    lines_sorted_alphabetically = sorted(lines)\n",
    "    #print(lines_sorted_alphabetically)\n",
    "\n",
    "    for line in lines_sorted_alphabetically:\n",
    "        f_write.write(line)\n",
    "    f_write.write(\"\\n\\nSorterat efter betygg\\n\\n\")\n",
    "# ----------------- c) -----------\n",
    "# need to split and find the score for each line\n",
    "# put them in grade order\n",
    "\n",
    "\n",
    "grades = \"ABCDEF\"[::-1]\n",
    "print(grades)\n",
    "\n",
    "for grade, limit in zip(grades, range(20, 71, 10)):\n",
    "\n",
    "    f_write.write(f\"\\nBetyg {grade}\\n\")\n",
    "\n",
    "    for line in lines:\n",
    "    #print(line.split()) # this gives a list for each line\n",
    "    print(line.split()[-1])\n",
    "\n",
    "    point = int(line.split()[-1]) #type converts to int\n",
    "    # if statement requires test between same types\n",
    "\n",
    "    # handle F separately in order not to miss those lower than 10\n",
    "    if limit <= point < limit + 10:\n",
    "        f_write.write(f\"{line}\") # type converts int to string, in order to write it to a txt file\n"
   ]
  }
 ],
 "metadata": {
  "kernelspec": {
   "display_name": "Python 3.9.13 ('python-sam-glass-f9Gfa9m9')",
   "language": "python",
   "name": "python3"
  },
  "language_info": {
   "codemirror_mode": {
    "name": "ipython",
    "version": 3
   },
   "file_extension": ".py",
   "mimetype": "text/x-python",
   "name": "python",
   "nbconvert_exporter": "python",
   "pygments_lexer": "ipython3",
   "version": "3.9.13"
  },
  "orig_nbformat": 4,
  "vscode": {
   "interpreter": {
    "hash": "c54bac0ad9a8758ea607748194fff43bd5680f7a659873af8c80514da573df4a"
   }
  }
 },
 "nbformat": 4,
 "nbformat_minor": 2
}
