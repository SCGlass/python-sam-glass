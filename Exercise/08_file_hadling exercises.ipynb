{
 "cells": [
  {
   "cell_type": "markdown",
   "metadata": {},
   "source": [
    "# File handling"
   ]
  },
  {
   "cell_type": "markdown",
   "metadata": {},
   "source": [
    "# question 2"
   ]
  },
  {
   "cell_type": "code",
   "execution_count": 10,
   "metadata": {},
   "outputs": [
    {
     "ename": "FileNotFoundError",
     "evalue": "[Errno 2] No such file or directory: 'Data/Provresultat.txt'",
     "output_type": "error",
     "traceback": [
      "\u001b[1;31m---------------------------------------------------------------------------\u001b[0m",
      "\u001b[1;31mFileNotFoundError\u001b[0m                         Traceback (most recent call last)",
      "Cell \u001b[1;32mIn [10], line 1\u001b[0m\n\u001b[1;32m----> 1\u001b[0m \u001b[38;5;28;01mwith\u001b[39;00m \u001b[38;5;28;43mopen\u001b[39;49m\u001b[43m(\u001b[49m\u001b[38;5;124;43m\"\u001b[39;49m\u001b[38;5;124;43mData/Provresultat.txt\u001b[39;49m\u001b[38;5;124;43m\"\u001b[39;49m\u001b[43m)\u001b[49m \u001b[38;5;28;01mas\u001b[39;00m f_read:\n\u001b[0;32m      2\u001b[0m     \u001b[38;5;66;03m# each line is stored as a list\u001b[39;00m\n\u001b[0;32m      3\u001b[0m     \u001b[38;5;66;03m#each line is a string and it has \\n in the end\u001b[39;00m\n\u001b[0;32m      4\u001b[0m     lines \u001b[38;5;241m=\u001b[39m f_read\u001b[38;5;241m.\u001b[39mreadlines()\n",
      "\u001b[1;31mFileNotFoundError\u001b[0m: [Errno 2] No such file or directory: 'Data/Provresultat.txt'"
     ]
    }
   ],
   "source": [
    "with open(\"Data/Provresultat.txt\") as f_read:\n",
    "    # each line is stored as a list\n",
    "    #each line is a string and it has \\n in the end\n",
    "    lines = f_read.readlines()\n",
    "    #print(lines)\n",
    "\n",
    "    # -------- a)----------\n",
    "    # loops through lines and prints each line\n"
   ]
  },
  {
   "cell_type": "code",
   "execution_count": 8,
   "metadata": {},
   "outputs": [
    {
     "ename": "SyntaxError",
     "evalue": "invalid syntax (987129780.py, line 2)",
     "output_type": "error",
     "traceback": [
      "\u001b[1;36m  Cell \u001b[1;32mIn [8], line 2\u001b[1;36m\u001b[0m\n\u001b[1;33m    with open(\"Data/Provresultat.txt\") as f_read, open(\"Data/Provresultat_tmp.txt \"w\") as f_write:\u001b[0m\n\u001b[1;37m                                                                                   ^\u001b[0m\n\u001b[1;31mSyntaxError\u001b[0m\u001b[1;31m:\u001b[0m invalid syntax\n"
     ]
    }
   ],
   "source": [
    "# b) and c)\n",
    "with open(\"Data/Provresultat.txt\") as f_read, open(\"Data/Provresultat_tmp.txt \"w\") as f_write:\n",
    "    lines = f_read.readlines()\n",
    "    print(lines[-1])\n",
    "\n",
    "    lines[-1] += \"\\n\"\n",
    "    #print(lines)\n",
    "\n",
    "    # returns None, it mutates (changes) the list\n",
    "    #lines.sort()\n",
    "    #print(lines)\n",
    "\n",
    "    # returns a new list of sorted elements\n",
    "    lines_sorted_alphabetically = sorted(lines)\n",
    "    print(lines_sorted_alphabetically)\n",
    "\n",
    "    for line in lines_sorted_alphabetically:\n",
    "        f_write.write(line)"
   ]
  }
 ],
 "metadata": {
  "kernelspec": {
   "display_name": "Python 3.9.13 ('python-sam-glass-f9Gfa9m9')",
   "language": "python",
   "name": "python3"
  },
  "language_info": {
   "codemirror_mode": {
    "name": "ipython",
    "version": 3
   },
   "file_extension": ".py",
   "mimetype": "text/x-python",
   "name": "python",
   "nbconvert_exporter": "python",
   "pygments_lexer": "ipython3",
   "version": "3.9.13"
  },
  "orig_nbformat": 4,
  "vscode": {
   "interpreter": {
    "hash": "c54bac0ad9a8758ea607748194fff43bd5680f7a659873af8c80514da573df4a"
   }
  }
 },
 "nbformat": 4,
 "nbformat_minor": 2
}
