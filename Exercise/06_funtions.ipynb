{
 "cells": [
  {
   "cell_type": "markdown",
   "metadata": {},
   "source": [
    "# functions exercises\n",
    "\n",
    "---\n",
    "These are introductory exercises in Python with focus in **functions**.\n",
    "\n",
    "<p class = \"alert alert-info\" role=\"alert\"><b>Remember</b> to use <b>descriptive variable and function names</b> in order to get readable code </p>\n",
    "\n",
    "<p class = \"alert alert-info\" role=\"alert\"><b>Remember</b> to format your answers in a neat way using <b>f-strings</b>\n",
    "\n",
    "<p class = \"alert alert-info\" role=\"alert\"><b>Remember</b> to format your input questions in a pedagogical way to guide the user\n",
    "\n",
    "The number of stars (\\*), (\\*\\*), (\\*\\*\\*) denotes the difficulty level of the task\n",
    "\n",
    "---"
   ]
  },
  {
   "cell_type": "markdown",
   "metadata": {},
   "source": [
    "## 1. Area (*)\n",
    "\n",
    "Create a function that takes the base and height of a triangle as input parameters and returns the area of the triangle."
   ]
  },
  {
   "cell_type": "code",
   "execution_count": 6,
   "metadata": {},
   "outputs": [
    {
     "data": {
      "text/plain": [
       "27.0"
      ]
     },
     "execution_count": 6,
     "metadata": {},
     "output_type": "execute_result"
    }
   ],
   "source": [
    "def triangle_area(base = 0, height = 0) # defines the inputs\n",
    "    return 0.5 * base * height # returns the equation to be used\n",
    "triangle_area(9,6)    "
   ]
  },
  {
   "cell_type": "markdown",
   "metadata": {},
   "source": [
    "---\n",
    "\n",
    "## 2. Euclidean distance (*)\n",
    "\n",
    "The formula for Euclidean distance in 2D between $P: (p_1, p_2)$ and $Q: (q_1, q_2)$  is: \n",
    "\n",
    "$d(P,Q) = \\sqrt{(p_1-q_1)^2 + (p_2-q_2)^2}$\n",
    "\n",
    "&nbsp; a) &nbsp; Create a function that takes two points as input parameters and return the Euclidean between them. (*)\n",
    "\n",
    "&nbsp; b) &nbsp; Let the user input two points. Call the function using the users input points. (*)\n",
    "\n",
    "&nbsp; c) &nbsp; Use your function to calculate distances between the origin (0, 0) and each of these points: (10, 3), (-1, -9), (10, -10), (4, -2), (9, -10). (*)\n",
    "\n",
    "<details>\n",
    "\n",
    "<summary>Hint</summary>\n",
    "\n",
    "Use a **for** statement\n",
    "\n",
    "</details>\n",
    "<br>\n",
    "<details>"
   ]
  },
  {
   "cell_type": "code",
   "execution_count": 1,
   "metadata": {},
   "outputs": [
    {
     "data": {
      "text/plain": [
       "7.0710678118654755"
      ]
     },
     "execution_count": 1,
     "metadata": {},
     "output_type": "execute_result"
    }
   ],
   "source": [
    "import math\n",
    "\n",
    "def Euclidean_distance(x1 = 0, x2 = 0, y1 = 0, y2 = 0 ): # defines the two plot points\n",
    "    return math.sqrt((x1 - y1)**2 + (x2 - y2)**2) # equation that calculates Euclidean distance \n",
    "\n",
    "Euclidean_distance(10,3,3,4)    \n",
    "\n"
   ]
  },
  {
   "cell_type": "code",
   "execution_count": 8,
   "metadata": {},
   "outputs": [
    {
     "ename": "TypeError",
     "evalue": "'int' object is not callable",
     "output_type": "error",
     "traceback": [
      "\u001b[1;31m---------------------------------------------------------------------------\u001b[0m",
      "\u001b[1;31mTypeError\u001b[0m                                 Traceback (most recent call last)",
      "Cell \u001b[1;32mIn [8], line 5\u001b[0m\n\u001b[0;32m      1\u001b[0m \u001b[39mimport\u001b[39;00m \u001b[39mmath\u001b[39;00m\n\u001b[0;32m      3\u001b[0m Euclidean_distance \u001b[39m=\u001b[39m \u001b[39mint\u001b[39m(\u001b[39minput\u001b[39m(\u001b[39m\"\u001b[39m\u001b[39mPlease enter two plot points within the programme e.g 3 4 6 8\u001b[39m\u001b[39m\"\u001b[39m))\n\u001b[1;32m----> 5\u001b[0m Euclidean_distance()\n",
      "\u001b[1;31mTypeError\u001b[0m: 'int' object is not callable"
     ]
    }
   ],
   "source": [
    "import math\n",
    "\n",
    "input = (input(\"Please enter two plot points within the programme e.g 3 4 6 8\"))\n",
    "\n",
    "Euclidean_distance()\n",
    "\n",
    "\n",
    "\n",
    "\n"
   ]
  }
 ],
 "metadata": {
  "kernelspec": {
   "display_name": "Python 3.9.13 ('python-sam-glass-f9Gfa9m9')",
   "language": "python",
   "name": "python3"
  },
  "language_info": {
   "codemirror_mode": {
    "name": "ipython",
    "version": 3
   },
   "file_extension": ".py",
   "mimetype": "text/x-python",
   "name": "python",
   "nbconvert_exporter": "python",
   "pygments_lexer": "ipython3",
   "version": "3.9.13"
  },
  "orig_nbformat": 4,
  "vscode": {
   "interpreter": {
    "hash": "c54bac0ad9a8758ea607748194fff43bd5680f7a659873af8c80514da573df4a"
   }
  }
 },
 "nbformat": 4,
 "nbformat_minor": 2
}
