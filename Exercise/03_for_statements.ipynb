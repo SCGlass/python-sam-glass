{
 "cells": [
  {
   "cell_type": "markdown",
   "metadata": {},
   "source": [
    "# for statement exercises\n",
    "\n",
    "---\n",
    "These are introductory exercises in Python with focus in **for** statement.\n",
    "\n",
    "<p class = \"alert alert-info\" role=\"alert\"><b>Remember</b> to use <b>descriptive variable names</b> in order to get readable code </p>\n",
    "\n",
    "<p class = \"alert alert-info\" role=\"alert\"><b>Remember</b> to format your answers in a neat way using <b>f-strings</b>\n",
    "\n",
    "<p class = \"alert alert-info\" role=\"alert\"><b>Remember</b> to format your input questions in a pedagogical way to guide the user\n",
    "\n",
    "The number of stars (\\*), (\\*\\*), (\\*\\*\\*) denotes the difficulty level of the task\n",
    "\n",
    "---"
   ]
  },
  {
   "cell_type": "markdown",
   "metadata": {},
   "source": [
    "## 1. Count numbers (*)\n",
    "\n",
    "Use a **for** statement to count from: \n",
    "\n",
    "&nbsp; a) &nbsp; -10 to 10 with one increment (*)\n",
    "\n",
    "&nbsp; b) &nbsp; -10 to 10 with two increment (*)"
   ]
  },
  {
   "cell_type": "code",
   "execution_count": 11,
   "metadata": {},
   "outputs": [
    {
     "name": "stdout",
     "output_type": "stream",
     "text": [
      "-10\n",
      "-9\n",
      "-8\n",
      "-7\n",
      "-6\n",
      "-5\n",
      "-4\n",
      "-3\n",
      "-2\n",
      "-1\n",
      "0\n",
      "1\n",
      "2\n",
      "3\n",
      "4\n",
      "5\n",
      "6\n",
      "7\n",
      "8\n",
      "9\n",
      "10\n"
     ]
    }
   ],
   "source": [
    "# question a)\n",
    "for i in range(-11,10):\n",
    "    i += 1\n",
    "\n",
    "    print(i)    "
   ]
  },
  {
   "cell_type": "code",
   "execution_count": 20,
   "metadata": {},
   "outputs": [
    {
     "name": "stdout",
     "output_type": "stream",
     "text": [
      "-10\n",
      "-8\n",
      "-6\n",
      "-4\n",
      "-2\n",
      "0\n",
      "2\n",
      "4\n",
      "6\n",
      "8\n",
      "10\n"
     ]
    }
   ],
   "source": [
    "# question b)\n",
    "for i in range(-10,11,2):\n",
    "    i + 2\n",
    "\n",
    "    print(i)    "
   ]
  },
  {
   "cell_type": "markdown",
   "metadata": {},
   "source": [
    "## 2. Arithmetic sum (*)\n",
    "Use a **for** statement to compute the following sums: \n",
    "\n",
    "&nbsp; a) &nbsp; $\\text{sum} = 1 + 2 + \\ldots + 99+ 100$ (*)\n",
    "\n",
    "&nbsp; b) &nbsp; $\\text{sum} = 1 + 3 + 5 + \\ldots + 97 + 99$ (*)\n",
    "\n",
    "<details>"
   ]
  },
  {
   "cell_type": "code",
   "execution_count": 47,
   "metadata": {},
   "outputs": [
    {
     "name": "stdout",
     "output_type": "stream",
     "text": [
      "Sum of 1 until 100, 5050\n"
     ]
    }
   ],
   "source": [
    "n = 100\n",
    "\n",
    "sum = 0\n",
    "for counter in range(1, n+1):\n",
    "    sum = sum + counter\n",
    "\n",
    "print(f\"Sum of 1 until {n}, {sum}\")"
   ]
  },
  {
   "cell_type": "code",
   "execution_count": 48,
   "metadata": {},
   "outputs": [
    {
     "name": "stdout",
     "output_type": "stream",
     "text": [
      "Sum of 1 until 100, 2500\n"
     ]
    }
   ],
   "source": [
    "n = 100\n",
    "\n",
    "sum = 0\n",
    "for counter in range(1, n, 2):\n",
    "    sum = sum + counter\n",
    "\n",
    "print(f\"Sum of 1 until {n}, {sum}\")"
   ]
  },
  {
   "cell_type": "markdown",
   "metadata": {},
   "source": [
    "---\n",
    "## 3. Multiplication table (*)\n",
    "Use **for** statement(s) to:\n",
    "\n",
    "&nbsp; a) &nbsp; print out the 6th multiplication table from 0 to 10 (*)\n",
    "\n",
    "&nbsp; b) &nbsp; let the user input the **table**, **start** and **end** of the table. (*)\n",
    "\n",
    "&nbsp; c) &nbsp; print out a full multiplication table from 0 to 10. (**)\n",
    "\n",
    "\n",
    "<details>\n",
    "\n",
    "<summary>Hint</summary>\n",
    "\n",
    "c) Use nested for-loops, which means a for-loop in a for-loop. To format the table nicely, use **f-string**: \n",
    "\n",
    "```python\n",
    "print(f\"{number :4}\", end = \"\")\n",
    "```\n",
    "\n",
    "\n",
    "</details>\n",
    "\n",
    "\n",
    "<details>\n",
    "\n",
    "<summary>Answer </summary>\n",
    "\n",
    "a)\n",
    "```\n",
    "0 6 12 18 24 30 36 42 48 54 60\n",
    "```\n",
    "\n",
    "b) e.g. \n",
    "\n",
    "```\n",
    "Which table are you interested in? 5\n",
    "Specify start of table: 5\n",
    "Specify end of table: 12\n",
    "\n",
    "Your 5th multiplication table from 5 to 12: 25 30 35 40 45 50 55 60\n",
    "```\n",
    "\n",
    "c)\n",
    "\n",
    "```\n",
    "   0   0   0   0   0   0   0   0   0   0   0\n",
    "   0   1   2   3   4   5   6   7   8   9  10\n",
    "   0   2   4   6   8  10  12  14  16  18  20\n",
    "   0   3   6   9  12  15  18  21  24  27  30\n",
    "   0   4   8  12  16  20  24  28  32  36  40\n",
    "   0   5  10  15  20  25  30  35  40  45  50\n",
    "   0   6  12  18  24  30  36  42  48  54  60\n",
    "   0   7  14  21  28  35  42  49  56  63  70\n",
    "   0   8  16  24  32  40  48  56  64  72  80\n",
    "   0   9  18  27  36  45  54  63  72  81  90\n",
    "   0  10  20  30  40  50  60  70  80  90 100\n",
    "```\n",
    "\n",
    "</details>"
   ]
  },
  {
   "cell_type": "code",
   "execution_count": null,
   "metadata": {},
   "outputs": [],
   "source": []
  },
  {
   "cell_type": "markdown",
   "metadata": {},
   "source": [
    "---\n",
    "## 6. Rice on chessboard (*)\n",
    "\n",
    "In first square of the chessboard there is one grain of rice, in the second square there is two grains, in the third square there is four grains and so on. How many grains are there in the whole chessboard when all squares are filled using this pattern?\n",
    "\n",
    "<img align=\"left\" src=\"../assets/chessboard.png\" width=\"300\"/>"
   ]
  },
  {
   "cell_type": "markdown",
   "metadata": {},
   "source": [
    "$$s = \\sum_{i=0}^{63} 2^i = 2^0 + 2^1 + \\ldots + 2^{63}$$\n",
    "\n",
    " 8 x 8 area\n",
    "1,2,4,8,16,32,64,128\n",
    "256,512 ....... \n",
    " 2**0 2**1 2**3 ..... 2**63 everything is a power \n",
    "2**0 + 2**1 + 2**2 + 2**3 ..... 2*63 (64 spaces and the last is power of 63 as the 1st is power of 0\n",
    "\n",
    "\n"
   ]
  },
  {
   "cell_type": "code",
   "execution_count": 4,
   "metadata": {},
   "outputs": [
    {
     "name": "stdout",
     "output_type": "stream",
     "text": [
      "18446744073709551615\n"
     ]
    }
   ],
   "source": [
    "my_sum = 0\n",
    "\n",
    "for i in range (64):\n",
    "    my_sum += 2**i\n",
    "\n",
    "print(f\"{my_sum}\")    "
   ]
  },
  {
   "cell_type": "code",
   "execution_count": null,
   "metadata": {},
   "outputs": [],
   "source": [
    "rice_production = 755.5e9 # kg\n",
    "# hur många riskorn finns i ett kg?\n",
    "\n"
   ]
  }
 ],
 "metadata": {
  "kernelspec": {
   "display_name": "Python 3.9.13 ('python-sam-glass-f9Gfa9m9')",
   "language": "python",
   "name": "python3"
  },
  "language_info": {
   "codemirror_mode": {
    "name": "ipython",
    "version": 3
   },
   "file_extension": ".py",
   "mimetype": "text/x-python",
   "name": "python",
   "nbconvert_exporter": "python",
   "pygments_lexer": "ipython3",
   "version": "3.9.13"
  },
  "orig_nbformat": 4,
  "vscode": {
   "interpreter": {
    "hash": "c54bac0ad9a8758ea607748194fff43bd5680f7a659873af8c80514da573df4a"
   }
  }
 },
 "nbformat": 4,
 "nbformat_minor": 2
}
