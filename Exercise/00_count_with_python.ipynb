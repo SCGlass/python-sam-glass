{
 "cells": [
  {
   "cell_type": "markdown",
   "metadata": {},
   "source": [
    "# Count with Python\n",
    "---"
   ]
  },
  {
   "cell_type": "markdown",
   "metadata": {},
   "source": [
    "## 1. Pythagorean theorem (*)\n",
    "  \n",
    "  a)   A right angled triangle has the catheti: a = 3 and b = 4 length units. Compute the hypothenuse of the triangle. (*)\n",
    "\n",
    "  b)   A right angled triangle has hypothenuse c = 7.0 and a cathetus a = 5.0 length units. Compute the other cathetus and round to one decimal.\n",
    "\n",
    "  <img align=\"left\" src=\"../assets/right-angle-triangle.png\" width=\"200\"/>"
   ]
  },
  {
   "cell_type": "code",
   "execution_count": 27,
   "metadata": {},
   "outputs": [
    {
     "name": "stdout",
     "output_type": "stream",
     "text": [
      "The hypothenuse of the triangle is 5.0 length units\n"
     ]
    }
   ],
   "source": [
    "import math\n",
    "\n",
    "# part a\n",
    "a = 3\n",
    "b = 4\n",
    "c = math.sqrt(a**2 + b**2) #hypothenuse equation\n",
    "\n",
    "print(f\"The hypothenuse of the triangle is {c} length units\")"
   ]
  },
  {
   "cell_type": "code",
   "execution_count": 26,
   "metadata": {},
   "outputs": [
    {
     "name": "stdout",
     "output_type": "stream",
     "text": [
      "The length of the missing cathetus is 4.9 length units\n"
     ]
    }
   ],
   "source": [
    "import math\n",
    "\n",
    "# part b\n",
    "a = 5.0\n",
    "c= 7.0\n",
    "b = math.sqrt(c**2 - a**2)\n",
    "\n",
    "rnd_1 = \"{:.1f}\".format(b)\n",
    "\n",
    "print(f\"The length of the missing cathetus is {rnd_2} length units\")"
   ]
  },
  {
   "cell_type": "markdown",
   "metadata": {},
   "source": [
    "---\n",
    "## 2. Classification accuracy\n",
    "\n",
    "A machine learning algorithm has been trained to predict whether or not it would rain the next day. Out of 365 predictions, it got 300 correct, compute the accuracy of this model."
   ]
  },
  {
   "cell_type": "code",
   "execution_count": 29,
   "metadata": {},
   "outputs": [
    {
     "name": "stdout",
     "output_type": "stream",
     "text": [
      "The accuracy of the machine learning algorithm is 82 %\n"
     ]
    }
   ],
   "source": [
    "predictions = 365\n",
    "correct_predictions = 300\n",
    "\n",
    "accuracy = (correct_predictions / predictions) * 100 #find thw percentage of the predicted guesses\n",
    "rnd = \"{:.0f}\".format(accuracy)\n",
    "print(f\"The accuracy of the machine learning algorithm is {rnd} %\")\n",
    "\n"
   ]
  },
  {
   "cell_type": "markdown",
   "metadata": {},
   "source": [
    "---\n",
    "## 3. Classification accuracy (*)\n",
    "A machine learning model has been trained to detect fire. Here is the result of its predictions: \n",
    "\n",
    "<table align=\"left\">\n",
    "<tbody>\n",
    "  <tr>\n",
    "    <td>True Positive (TP)\n",
    "      <ul>\n",
    "        <li>Reality: fire</li>\n",
    "        <li>Predicted: fire</li>\n",
    "        <li>Number of TP: 2</li>\n",
    "      </ul>\n",
    "    </td>\n",
    "    <td>False Positive (FP)\n",
    "      <ul>\n",
    "        <li>Reality: no fire</li>\n",
    "        <li>Predicted: fire</li>\n",
    "        <li>Number of FP: 2</li>\n",
    "      </ul>\n",
    "    </td>\n",
    "  </tr>\n",
    "\n",
    "  <tr>\n",
    "    <td>False Negative (FN)\n",
    "      <ul>\n",
    "        <li>Reality: fire</li>\n",
    "        <li>Predicted: no fire</li>\n",
    "        <li>Number of FN: 11</li>\n",
    "      </ul>\n",
    "    </td>\n",
    "    <td>True Negative (TN)\n",
    "      <ul>\n",
    "        <li>Reality: no fire</li>\n",
    "        <li>Predicted: no fire</li>\n",
    "        <li>Number of TN: 985</li>\n",
    "      </ul>\n",
    "    </td>\n",
    "  </tr>\n",
    "</tbody>\n",
    "</table>\n",
    "\n"
   ]
  },
  {
   "cell_type": "markdown",
   "metadata": {},
   "source": [
    "Calculated the accuracy using the following formula:\n",
    "\n",
    "$\\text{accuracy} = \\frac{TP+TN}{TP+TN+FP+FN}$\n",
    "\n",
    "Is this a good model?"
   ]
  },
  {
   "cell_type": "code",
   "execution_count": 35,
   "metadata": {},
   "outputs": [
    {
     "name": "stdout",
     "output_type": "stream",
     "text": [
      "The accuracy of this model is 0.987!\n"
     ]
    }
   ],
   "source": [
    "Tp = 2\n",
    "Fp = 2\n",
    "Fn = 11\n",
    "Tn = 985\n",
    "\n",
    "accuracy = (Tp + Tn) / (Tp + Tn + Fp + Fn)\n",
    "\n",
    "print(f\"The accuracy of this model is {accuracy}!\")"
   ]
  },
  {
   "cell_type": "markdown",
   "metadata": {},
   "source": [
    "--- \n",
    "## 4. Line (*)\n",
    "Compute the slope $k$ and the constant term $m$ of this line using the points $A: (4,4)$ and $B: (0,1)$.  \n",
    "\n",
    "<img align=\"left\" src=\"../assets/line.png\" width=\"200\"/>"
   ]
  }
 ],
 "metadata": {
  "kernelspec": {
   "display_name": "Python 3.9.13 ('python-sam-glass-f9Gfa9m9')",
   "language": "python",
   "name": "python3"
  },
  "language_info": {
   "codemirror_mode": {
    "name": "ipython",
    "version": 3
   },
   "file_extension": ".py",
   "mimetype": "text/x-python",
   "name": "python",
   "nbconvert_exporter": "python",
   "pygments_lexer": "ipython3",
   "version": "3.9.13"
  },
  "orig_nbformat": 4,
  "vscode": {
   "interpreter": {
    "hash": "c54bac0ad9a8758ea607748194fff43bd5680f7a659873af8c80514da573df4a"
   }
  }
 },
 "nbformat": 4,
 "nbformat_minor": 2
}
