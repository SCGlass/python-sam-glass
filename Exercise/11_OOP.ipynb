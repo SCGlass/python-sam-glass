{
 "cells": [
  {
   "cell_type": "markdown",
   "metadata": {},
   "source": [
    "# OOP introductory exercises\n",
    "\n",
    "---\n",
    "These are introductory exercises in Python with focus in **Object oriented programming**.\n",
    "\n",
    "<p class = \"alert alert-info\" role=\"alert\"><b>Remember</b> to use <b>descriptive variable, function and class names</b> in order to get readable code </p>\n",
    "\n",
    "<p class = \"alert alert-info\" role=\"alert\"><b>Remember</b> to format your answers in a neat way using <b>f-strings</b></p>\n",
    "\n",
    "<p class = \"alert alert-info\" role=\"alert\"><b>Remember</b> to format your input questions in a pedagogical way to guide the user</p>\n",
    "\n",
    "<p class = \"alert alert-info\" role=\"alert\"><b>Remember</b> to write good docstrings for your methods and classes </p> \n",
    "\n",
    "The number of stars (\\*), (\\*\\*), (\\*\\*\\*) denotes the difficulty level of the task\n",
    "\n",
    "---"
   ]
  },
  {
   "cell_type": "markdown",
   "metadata": {},
   "source": [
    "## 1. Unit conversion (*)\n",
    "\n",
    "Create a class for converting US units to the metric system. It should have the following **bound methods**: \n",
    "\n",
    "```python\n",
    "__init__ (self, value)\n",
    "\n",
    "inch_to_cm(self)\n",
    "\n",
    "foot_to_meters(self)\n",
    "\n",
    "pound_to_kg(self)\n",
    "\n",
    "__repr__(self)\n",
    "\n",
    "```\n",
    "\n",
    "Make sure that value is the correct type and format, raise suitable exceptions in case it isn't. Make value into **property** with getter and setter. Test your class manually by instantiating an object from it and test different methods. (*)\n",
    "\n",
    "<details>\n",
    "\n",
    "<summary>Hint</summary>\n",
    "\n",
    "Use the property decorator:\n",
    "- @property\n",
    "\n",
    "You can read about the [units here][units] \n",
    "\n",
    "[units]: https://en.wikipedia.org/wiki/United_States_customary_units \n",
    "\n",
    "Check for: \n",
    "- negative values \n",
    "- types that are not **int** or **float**\n",
    "\n",
    "Use isinstance() to check for type\n",
    "\n",
    "</details>\n",
    "<br>\n",
    "<details>\n",
    "\n",
    "<summary>Answer</summary>\n",
    "For example: \n",
    "\n",
    "```python\n",
    "\n",
    "units = UnitUS(5)\n",
    "print(f\"5 feet = {units.foot_to_meters()} m\")\n",
    "print(f\"5 inch = {units.inch_to_cm()} cm\")\n",
    "print(f\"5 pounds = {units.pound_to_kg():.2f} kg\")\n",
    "\n",
    "``` \n",
    "\n",
    "```\n",
    "5 feet = 1.524 m\n",
    "5 inch = 12.7 cm\n",
    "5 pounds = 2.27 kg\n",
    "```\n",
    "</details>\n"
   ]
  },
  {
   "cell_type": "code",
   "execution_count": 7,
   "metadata": {},
   "outputs": [],
   "source": [
    "from typing import Type\n",
    "\n",
    "\n",
    "class Conversion:\n",
    "    def __init__(self, value) -> float:\n",
    "        self.value = value\n",
    "\n",
    "    def inch_to_cm(self) -> float:\n",
    "        return self.value * 2.54\n",
    "\n",
    "    def foot_to_meters(self) -> float:\n",
    "        return self.value / 3.281\n",
    "\n",
    "    def pound_to_kg(self) -> float:\n",
    "        return self.value / 2.205\n",
    "\n",
    "    def __repr__(self):\n",
    "        return f\"This is a conversion of {self.value}\"\n",
    "\n",
    "    @property\n",
    "    def value (self):\n",
    "        return self.value\n",
    "\n",
    "    @value.setter\n",
    "    def value (self, value):\n",
    "        if type(value) != str:\n",
    "            if value <= 0:     \n",
    "                print(\"hej\") \n",
    "            self.value = value    \n",
    "        else: \n",
    "            raise TypeError(\"You cannot use a string\")\n",
    "        \n",
    "        \n",
    "\n",
    "\n",
    "                   \n",
    "\n",
    "\n",
    "        \n",
    "\n",
    "\n",
    "\n",
    "\n"
   ]
  },
  {
   "cell_type": "code",
   "execution_count": 4,
   "metadata": {},
   "outputs": [
    {
     "ename": "TypeError",
     "evalue": "You cannot use a string",
     "output_type": "error",
     "traceback": [
      "\u001b[1;31m---------------------------------------------------------------------------\u001b[0m",
      "\u001b[1;31mTypeError\u001b[0m                                 Traceback (most recent call last)",
      "Cell \u001b[1;32mIn [4], line 1\u001b[0m\n\u001b[1;32m----> 1\u001b[0m v1 \u001b[38;5;241m=\u001b[39m \u001b[43mConversion\u001b[49m\u001b[43m(\u001b[49m\u001b[38;5;124;43m\"\u001b[39;49m\u001b[38;5;124;43mhej\u001b[39;49m\u001b[38;5;124;43m\"\u001b[39;49m\u001b[43m)\u001b[49m\n\u001b[0;32m      2\u001b[0m \u001b[38;5;28mprint\u001b[39m(v1)\n\u001b[0;32m      4\u001b[0m \u001b[38;5;28mprint\u001b[39m(v1\u001b[38;5;241m.\u001b[39minch_to_cm())\n",
      "Cell \u001b[1;32mIn [3], line 6\u001b[0m, in \u001b[0;36mConversion.__init__\u001b[1;34m(self, value)\u001b[0m\n\u001b[0;32m      5\u001b[0m \u001b[38;5;28;01mdef\u001b[39;00m \u001b[38;5;21m__init__\u001b[39m(\u001b[38;5;28mself\u001b[39m, value) \u001b[38;5;241m-\u001b[39m\u001b[38;5;241m>\u001b[39m \u001b[38;5;28mfloat\u001b[39m:\n\u001b[1;32m----> 6\u001b[0m     \u001b[38;5;28;43mself\u001b[39;49m\u001b[38;5;241;43m.\u001b[39;49m\u001b[43mvalue\u001b[49m \u001b[38;5;241m=\u001b[39m value\n",
      "Cell \u001b[1;32mIn [3], line 30\u001b[0m, in \u001b[0;36mConversion.value\u001b[1;34m(self, value)\u001b[0m\n\u001b[0;32m     28\u001b[0m     \u001b[38;5;28mself\u001b[39m\u001b[38;5;241m.\u001b[39mvalue \u001b[38;5;241m=\u001b[39m value\n\u001b[0;32m     29\u001b[0m \u001b[38;5;28;01melse\u001b[39;00m: \n\u001b[1;32m---> 30\u001b[0m     \u001b[38;5;28;01mraise\u001b[39;00m \u001b[38;5;167;01mTypeError\u001b[39;00m(\u001b[38;5;124m\"\u001b[39m\u001b[38;5;124mYou cannot use a string\u001b[39m\u001b[38;5;124m\"\u001b[39m)\n",
      "\u001b[1;31mTypeError\u001b[0m: You cannot use a string"
     ]
    }
   ],
   "source": [
    "v1 = Conversion(\"hej\")\n",
    "print(v1)\n",
    "\n",
    "print(v1.inch_to_cm())"
   ]
  }
 ],
 "metadata": {
  "kernelspec": {
   "display_name": "Python 3.9.13 ('python-sam-glass-f9Gfa9m9')",
   "language": "python",
   "name": "python3"
  },
  "language_info": {
   "codemirror_mode": {
    "name": "ipython",
    "version": 3
   },
   "file_extension": ".py",
   "mimetype": "text/x-python",
   "name": "python",
   "nbconvert_exporter": "python",
   "pygments_lexer": "ipython3",
   "version": "3.9.13"
  },
  "orig_nbformat": 4,
  "vscode": {
   "interpreter": {
    "hash": "c54bac0ad9a8758ea607748194fff43bd5680f7a659873af8c80514da573df4a"
   }
  }
 },
 "nbformat": 4,
 "nbformat_minor": 2
}
