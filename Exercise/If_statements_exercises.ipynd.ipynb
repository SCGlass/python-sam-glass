{
 "cells": [
  {
   "cell_type": "markdown",
   "metadata": {},
   "source": [
    "# If statement exercises"
   ]
  },
  {
   "cell_type": "markdown",
   "metadata": {},
   "source": [
    "## 1. Check sign\n",
    "Ask the user to input a number and check if this number is positive, negative or zero and print it out."
   ]
  },
  {
   "cell_type": "code",
   "execution_count": 28,
   "metadata": {},
   "outputs": [
    {
     "name": "stdout",
     "output_type": "stream",
     "text": [
      "This is a positive number!\n"
     ]
    }
   ],
   "source": [
    "number = int(input(\"Please enter a number\"))\n",
    "\n",
    "if number >= 1:\n",
    "    print(\"This is a positive number!\")\n",
    "\n",
    "elif number <= -1:\n",
    "    print(\"This is a negative number!\")\n",
    "\n",
    "else: \n",
    "    print(\"The number is zero!\")"
   ]
  },
  {
   "cell_type": "markdown",
   "metadata": {},
   "source": [
    "## 2. Smallest\n",
    "\n",
    "Ask the user to input two numbers and check which one is the smallest and print it out."
   ]
  },
  {
   "cell_type": "code",
   "execution_count": 35,
   "metadata": {},
   "outputs": [
    {
     "name": "stdout",
     "output_type": "stream",
     "text": [
      "The numbers are the same!\n"
     ]
    }
   ],
   "source": [
    "num1 = int(input(\"Please enter a number\"))\n",
    "num2 = int(input(\"Please enter another number!\"))\n",
    "\n",
    "if num1 < num2:\n",
    "    print(f\"{num1} is the smallest number!\")\n",
    "\n",
    "elif num1 > num2:\n",
    "    print(f\"{num2} is the smallest number!\")\n",
    "\n",
    "else:\n",
    "    print(\"The numbers are the same!\")        "
   ]
  },
  {
   "cell_type": "markdown",
   "metadata": {},
   "source": [
    "# 3. Right angle\n",
    "Ask the user to input three angles and check if the triangle has a right angle. Your code should make sure that all three angles are valid and make up a triangle."
   ]
  }
 ],
 "metadata": {
  "kernelspec": {
   "display_name": "Python 3.9.13 ('python-sam-glass-f9Gfa9m9')",
   "language": "python",
   "name": "python3"
  },
  "language_info": {
   "codemirror_mode": {
    "name": "ipython",
    "version": 3
   },
   "file_extension": ".py",
   "mimetype": "text/x-python",
   "name": "python",
   "nbconvert_exporter": "python",
   "pygments_lexer": "ipython3",
   "version": "3.9.13"
  },
  "orig_nbformat": 4,
  "vscode": {
   "interpreter": {
    "hash": "c54bac0ad9a8758ea607748194fff43bd5680f7a659873af8c80514da573df4a"
   }
  }
 },
 "nbformat": 4,
 "nbformat_minor": 2
}
