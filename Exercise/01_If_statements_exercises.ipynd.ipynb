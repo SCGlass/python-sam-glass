{
 "cells": [
  {
   "cell_type": "markdown",
   "metadata": {},
   "source": [
    "# If statement exercises"
   ]
  },
  {
   "cell_type": "markdown",
   "metadata": {},
   "source": [
    "---\n",
    "## 1. Check sign\n",
    "Ask the user to input a number and check if this number is positive, negative or zero and print it out."
   ]
  },
  {
   "cell_type": "code",
   "execution_count": 28,
   "metadata": {},
   "outputs": [
    {
     "name": "stdout",
     "output_type": "stream",
     "text": [
      "This is a positive number!\n"
     ]
    }
   ],
   "source": [
    "number = int(input(\"Please enter a number\"))\n",
    "\n",
    "if number >= 1:\n",
    "    print(\"This is a positive number!\")\n",
    "\n",
    "elif number <= -1:\n",
    "    print(\"This is a negative number!\")\n",
    "\n",
    "else: \n",
    "    print(\"The number is zero!\")"
   ]
  },
  {
   "cell_type": "markdown",
   "metadata": {},
   "source": [
    "---\n",
    "## 2. Smallest\n",
    "\n",
    "Ask the user to input two numbers and check which one is the smallest and print it out."
   ]
  },
  {
   "cell_type": "code",
   "execution_count": 35,
   "metadata": {},
   "outputs": [
    {
     "name": "stdout",
     "output_type": "stream",
     "text": [
      "The numbers are the same!\n"
     ]
    }
   ],
   "source": [
    "num1 = int(input(\"Please enter a number\"))\n",
    "num2 = int(input(\"Please enter another number!\"))\n",
    "\n",
    "if num1 < num2:\n",
    "    print(f\"{num1} is the smallest number!\")\n",
    "\n",
    "elif num1 > num2:\n",
    "    print(f\"{num2} is the smallest number!\")\n",
    "\n",
    "else:\n",
    "    print(\"The numbers are the same!\")        "
   ]
  },
  {
   "cell_type": "markdown",
   "metadata": {},
   "source": [
    "---\n",
    "# 3. Right angle\n",
    "Ask the user to input three angles and check if the triangle has a right angle. Your code should make sure that all three angles are valid and make up a triangle.\n",
    "\n",
    "![](../assets/right-angle-triangle.png)"
   ]
  },
  {
   "cell_type": "code",
   "execution_count": 22,
   "metadata": {},
   "outputs": [
    {
     "name": "stdout",
     "output_type": "stream",
     "text": [
      "angles entered 80, 90, 10\n",
      "This is a right angled triangle and angle b is 90 degrees\n"
     ]
    }
   ],
   "source": [
    "angle_a = int(input(\"Please enter an angle\"))\n",
    "angle_b = int(input(\"Please enter a second angle \"))\n",
    "angle_c = int(input(\"Please enter a third angle\"))\n",
    "\n",
    "print(f\"angles entered {angle_a}, {angle_b}, {angle_c}\")\n",
    "\n",
    "if angle_a == 90 and angle_a > 0 and angle_b > 0 and angle_c > 0 and angle_a + angle_b + angle_c == 180 :\n",
    "    print(\"This is a right angled triangle and angle a is 90 degrees\")\n",
    "\n",
    "elif angle_b == 90 and angle_b > 0 and angle_a > 0 and angle_c > 0 and angle_a + angle_b + angle_c == 180:\n",
    "    print(\"This is a right angled triangle and angle b is 90 degrees\")\n",
    "\n",
    "elif angle_c == 90 and angle_c > 0 and angle_b > 0 and angle_a > 0 and angle_a + angle_b + angle_c == 180:\n",
    "    print(\"This is a right angled triangle and angle c is 90 degrees\")\n",
    "\n",
    "else: \n",
    "    print(\"This is not a right angles triangle!\")    "
   ]
  },
  {
   "cell_type": "markdown",
   "metadata": {},
   "source": [
    "---\n",
    "## 4. Medicine (*)\n",
    "---\n",
    "The information in the following table is stated in a medicine package. Also it is stated that for children weight is more important than age.\n",
    "\n",
    "| Weight            |Age\t         |   Number of pills  |\n",
    "| ------------------|----------------| ------------------ |\n",
    "|Adults & adolescent over 40 kg |over 12 years|  1-2      |   \n",
    "|Children 26-40 kg\t|7-12 years\t     |    1/2-1           |\n",
    "|Children 15-25 kg\t|3-7 years\t     |     1/2            |\n",
    "\n",
    "Let the user input an age and a weight, the program should recommend the number of pills for the user.\n",
    "\n"
   ]
  },
  {
   "cell_type": "code",
   "execution_count": 14,
   "metadata": {},
   "outputs": [
    {
     "name": "stdout",
     "output_type": "stream",
     "text": [
      "You can take only 1/2 a pill\n"
     ]
    }
   ],
   "source": [
    "weight = int(input(\"Please enter your weight in kg.\"))\n",
    "age = int(input(\"Please enter your age.\"))\n",
    "\n",
    "if weight >= 40:\n",
    "    if age >=12:\n",
    "        print(\"You can take 1-2 pills \")\n",
    "\n",
    "elif weight >= 26 < 40:\n",
    "    if age >= 7 < 12:\n",
    "        print(\"You can take 1/2 -1 pills\")\n",
    "\n",
    "elif weight >= 15 <= 25: \n",
    "    if age >= 3 <= 7:\n",
    "        print(\"You can take only 1/2 a pill\")\n",
    "\n",
    "else: \n",
    "    print(\"You are unable to take this medicine\")\n",
    "\n"
   ]
  },
  {
   "cell_type": "markdown",
   "metadata": {},
   "source": [
    "---\n",
    "## 5. Divisible\n",
    "\n",
    "Let the user input a number. Check if the number is\n",
    "\n",
    "1. even or odd\n",
    "2. is divisible by 5\n",
    "3. is divisble by 5 and odd"
   ]
  },
  {
   "cell_type": "code",
   "execution_count": null,
   "metadata": {},
   "outputs": [],
   "source": [
    "number = int(input(\"Please enter a number\"))\n",
    "\n",
    "if (number % 2) == 0:\n",
    "    print(\"The number you entered is even\")\n",
    "else:\n",
    "    print(\"This number is odd\")\n",
    "if (number % 5):\n",
    "    print(\"The number is divisible by 5\")\n",
    "elif (number % 5) and (number % 2):\n",
    "           \n"
   ]
  },
  {
   "cell_type": "markdown",
   "metadata": {},
   "source": [
    "---\n",
    "## 6. Luggage size (*)\n",
    "The maximum allowed luggage size for boarding an airplane is:\n",
    "\n",
    "- weight: 8kg\n",
    "- dimensions: 55x40x23cm (length x width x height)\n",
    "\n",
    "Let the user input weight, length, width and height of the luggage. The program should check if the luggage is allowed or not."
   ]
  },
  {
   "cell_type": "code",
   "execution_count": 4,
   "metadata": {},
   "outputs": [
    {
     "name": "stdout",
     "output_type": "stream",
     "text": [
      "weight entered: 9 \n",
      " dimensions entered 55, 40, 23 (length, width, height)\n",
      "Your baggage is within the expected dimensions, Enjoy your flight\n"
     ]
    }
   ],
   "source": [
    "weight = int(input(\"Please enter the weight of your luggage in kg\"))\n",
    "length = int(input(\"Please enter the length of your luggage in cm\"))\n",
    "width = int(input(\"Please enter the width of your  luggage in cm\"))\n",
    "height = int(input(\"Please enter the height of your luggage in cm\"))\n",
    "\n",
    "print(f\"weight entered: {weight} \\n dimensions entered {length}, {width}, {height} (length, width, height)\")\n",
    "\n",
    "if weight >= 0 <= 8 and length >= 0 <=55 and width >=0 <=40 and height >= 0 <= 23:\n",
    "    print(\"Your baggage is within the expected dimensions, Enjoy your flight\")\n",
    "elif weight >8 or length >55 or width >40 or height >23:\n",
    "    print(\"Your baggage does not meet the required dimensions\")    \n",
    "else:\n",
    "    print(\"Your baggage does not meet the required dimensions\")\n"
   ]
  },
  {
   "cell_type": "code",
   "execution_count": 25,
   "metadata": {},
   "outputs": [
    {
     "name": "stdout",
     "output_type": "stream",
     "text": [
      "weight entered: 9 \n",
      " dimensions entered 55, 40, 23 (length, width, height)\n",
      "Your baggage does not meet the required dimensions\n",
      "Your baggage fits the required dimensions, enjoy your flight!\n"
     ]
    }
   ],
   "source": [
    "weight = int(input(\"Please enter the weight of your luggage in kg\"))\n",
    "length = int(input(\"Please enter the length of your luggage in cm\"))\n",
    "width = int(input(\"Please enter the width of your  luggage in cm\"))\n",
    "height = int(input(\"Please enter the height of your luggage in cm\"))\n",
    "\n",
    "print(f\"weight entered: {weight} \\n dimensions entered {length}, {width}, {height} (length, width, height)\")\n",
    "\n",
    "if weight >= 0 <=8:\n",
    "    if weight > 8:\n",
    "        print(\"Your baggage does not meet the required dimensions\")\n",
    "\n",
    "if length >= 0 <=55:\n",
    "    if length >55:\n",
    "        print(\"Your baggage does not meet the required dimensions \")\n",
    "\n",
    "if width >= 0 <=40:\n",
    "    if width >40:\n",
    "        print(\"Your baggage does not meet the right dimensions\")\n",
    "\n",
    "if height >= 0 <=23:\n",
    "    if height >23:\n",
    "        print(\"Your baggage does not meet the required dimensions\")\n",
    "        \n",
    "if (f\"{weight}+{length}+{width}+{height} = true\"):\n",
    "    print(\"Your baggage fits the required dimensions, enjoy your flight!\")                               \n",
    "\n"
   ]
  }
 ],
 "metadata": {
  "kernelspec": {
   "display_name": "Python 3.9.13 64-bit",
   "language": "python",
   "name": "python3"
  },
  "language_info": {
   "codemirror_mode": {
    "name": "ipython",
    "version": 3
   },
   "file_extension": ".py",
   "mimetype": "text/x-python",
   "name": "python",
   "nbconvert_exporter": "python",
   "pygments_lexer": "ipython3",
   "version": "3.9.13"
  },
  "orig_nbformat": 4,
  "vscode": {
   "interpreter": {
    "hash": "a2d5b60df87a3ec850a6ab85bfe3ea4ed46bf7d3e99f4460faf5cde9752460d5"
   }
  }
 },
 "nbformat": 4,
 "nbformat_minor": 2
}
