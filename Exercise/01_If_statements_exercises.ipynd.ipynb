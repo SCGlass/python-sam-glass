{
 "cells": [
  {
   "cell_type": "markdown",
   "metadata": {},
   "source": [
    "# If statement exercises"
   ]
  },
  {
   "cell_type": "markdown",
   "metadata": {},
   "source": [
    "---\n",
    "## 1. Check sign\n",
    "Ask the user to input a number and check if this number is positive, negative or zero and print it out."
   ]
  },
  {
   "cell_type": "code",
   "execution_count": 28,
   "metadata": {},
   "outputs": [
    {
     "name": "stdout",
     "output_type": "stream",
     "text": [
      "This is a positive number!\n"
     ]
    }
   ],
   "source": [
    "number = int(input(\"Please enter a number\"))\n",
    "\n",
    "if number >= 1:\n",
    "    print(\"This is a positive number!\")\n",
    "\n",
    "elif number <= -1:\n",
    "    print(\"This is a negative number!\")\n",
    "\n",
    "else: \n",
    "    print(\"The number is zero!\")"
   ]
  },
  {
   "cell_type": "markdown",
   "metadata": {},
   "source": [
    "---\n",
    "## 2. Smallest\n",
    "\n",
    "Ask the user to input two numbers and check which one is the smallest and print it out."
   ]
  },
  {
   "cell_type": "code",
   "execution_count": 35,
   "metadata": {},
   "outputs": [
    {
     "name": "stdout",
     "output_type": "stream",
     "text": [
      "The numbers are the same!\n"
     ]
    }
   ],
   "source": [
    "num1 = int(input(\"Please enter a number\"))\n",
    "num2 = int(input(\"Please enter another number!\"))\n",
    "\n",
    "if num1 < num2:\n",
    "    print(f\"{num1} is the smallest number!\")\n",
    "\n",
    "elif num1 > num2:\n",
    "    print(f\"{num2} is the smallest number!\")\n",
    "\n",
    "else:\n",
    "    print(\"The numbers are the same!\")        "
   ]
  },
  {
   "cell_type": "markdown",
   "metadata": {},
   "source": [
    "---\n",
    "# 3. Right angle\n",
    "Ask the user to input three angles and check if the triangle has a right angle. Your code should make sure that all three angles are valid and make up a triangle.\n",
    "\n",
    "![](../assets/right-angle-triangle.png)"
   ]
  },
  {
   "cell_type": "code",
   "execution_count": 22,
   "metadata": {},
   "outputs": [
    {
     "name": "stdout",
     "output_type": "stream",
     "text": [
      "angles entered 80, 90, 10\n",
      "This is a right angled triangle and angle b is 90 degrees\n"
     ]
    }
   ],
   "source": [
    "angle_a = int(input(\"Please enter an angle\"))\n",
    "angle_b = int(input(\"Please enter a second angle \"))\n",
    "angle_c = int(input(\"Please enter a third angle\"))\n",
    "\n",
    "print(f\"angles entered {angle_a}, {angle_b}, {angle_c}\")\n",
    "\n",
    "if angle_a == 90 and angle_a > 0 and angle_b > 0 and angle_c > 0 and angle_a + angle_b + angle_c == 180 :\n",
    "    print(\"This is a right angled triangle and angle a is 90 degrees\")\n",
    "\n",
    "elif angle_b == 90 and angle_b > 0 and angle_a > 0 and angle_c > 0 and angle_a + angle_b + angle_c == 180:\n",
    "    print(\"This is a right angled triangle and angle b is 90 degrees\")\n",
    "\n",
    "elif angle_c == 90 and angle_c > 0 and angle_b > 0 and angle_a > 0 and angle_a + angle_b + angle_c == 180:\n",
    "    print(\"This is a right angled triangle and angle c is 90 degrees\")\n",
    "\n",
    "else: \n",
    "    print(\"This is not a right angles triangle!\")    "
   ]
  },
  {
   "cell_type": "markdown",
   "metadata": {},
   "source": [
    "---\n",
    "## 4. Medicine (*)\n",
    "---\n",
    "The information in the following table is stated in a medicine package. Also it is stated that for children weight is more important than age.\n",
    "\n",
    "| Weight            |Age\t         |   Number of pills  |\n",
    "| ------------------|----------------| ------------------ |\n",
    "|Adults & adolescent over 40 kg |over 12 years|  1-2      |   \n",
    "|Children 26-40 kg\t|7-12 years\t     |    1/2-1           |\n",
    "|Children 15-25 kg\t|3-7 years\t     |     1/2            |\n",
    "\n",
    "Let the user input an age and a weight, the program should recommend the number of pills for the user.\n",
    "\n"
   ]
  },
  {
   "cell_type": "code",
   "execution_count": 5,
   "metadata": {},
   "outputs": [
    {
     "ename": "IndentationError",
     "evalue": "unindent does not match any outer indentation level (<tokenize>, line 7)",
     "output_type": "error",
     "traceback": [
      "\u001b[1;36m  File \u001b[1;32m<tokenize>:7\u001b[1;36m\u001b[0m\n\u001b[1;33m    else:\u001b[0m\n\u001b[1;37m    ^\u001b[0m\n\u001b[1;31mIndentationError\u001b[0m\u001b[1;31m:\u001b[0m unindent does not match any outer indentation level\n"
     ]
    }
   ],
   "source": [
    "weight = int(input(\"Please enter your weight in kg.\"))\n",
    "age = int(input(\"Please enter your age.\"))\n",
    "\n",
    "if weight > 40:\n",
    "    elif age > 12:         \n",
    "    print(\"You can take 1 to 2 pills\")\n",
    "    else:\n",
    "        if weight >= 26 and <= 40:\n",
    "            elif age >= 7 and <= 12:\n",
    "            print(\"You can take 1/2 to 1 pills\")\n",
    "            else:    \n",
    "                if weight >= 15 and <= 25:\n",
    "                    elif age >= 3 and <=7:\n",
    "                    print(\"You can take \"1/2\" a pill\") \n",
    "                    else: print(\"You are not allowed this medicine\")       \n"
   ]
  },
  {
   "cell_type": "markdown",
   "metadata": {},
   "source": [
    "---\n",
    "## 5. Divisible\n",
    "\n",
    "Let the user input a number. Check if the number is\n",
    "\n",
    "1. even or odd\n",
    "2. is divisible by 5\n",
    "3. is divisble by 5 and odd"
   ]
  },
  {
   "cell_type": "code",
   "execution_count": null,
   "metadata": {},
   "outputs": [],
   "source": []
  },
  {
   "cell_type": "markdown",
   "metadata": {},
   "source": [
    "---\n",
    "## 6. Luggage size (*)\n",
    "The maximum allowed luggage size for boarding an airplane is:\n",
    "\n",
    "- weight: 8kg\n",
    "- dimensions: 55x40x23cm (length x width x height)\n",
    "\n",
    "Let the user input weight, length, width and height of the luggage. The program should check if the luggage is allowed or not."
   ]
  },
  {
   "cell_type": "code",
   "execution_count": null,
   "metadata": {},
   "outputs": [],
   "source": []
  }
 ],
 "metadata": {
  "kernelspec": {
   "display_name": "Python 3.9.13 ('python-sam-glass-f9Gfa9m9')",
   "language": "python",
   "name": "python3"
  },
  "language_info": {
   "codemirror_mode": {
    "name": "ipython",
    "version": 3
   },
   "file_extension": ".py",
   "mimetype": "text/x-python",
   "name": "python",
   "nbconvert_exporter": "python",
   "pygments_lexer": "ipython3",
   "version": "3.9.13"
  },
  "orig_nbformat": 4,
  "vscode": {
   "interpreter": {
    "hash": "c54bac0ad9a8758ea607748194fff43bd5680f7a659873af8c80514da573df4a"
   }
  }
 },
 "nbformat": 4,
 "nbformat_minor": 2
}
