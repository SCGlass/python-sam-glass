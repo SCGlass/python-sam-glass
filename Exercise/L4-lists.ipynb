{
 "cells": [
  {
   "cell_type": "markdown",
   "metadata": {},
   "source": [
    "# Lists"
   ]
  },
  {
   "cell_type": "markdown",
   "metadata": {},
   "source": [
    "## Access elecments"
   ]
  },
  {
   "cell_type": "code",
   "execution_count": 2,
   "metadata": {},
   "outputs": [
    {
     "name": "stdout",
     "output_type": "stream",
     "text": [
      "['pizza', 'lasagne', 'spagetti', 'pancakes', 'banana', 'grapes']\n",
      "nice_foods[0]='pizza'\n",
      "grapes=\n",
      "['pizza', 'lasagne', 'spagetti', 'pancakes', 'banana', 'grapes'][5]=\n"
     ]
    }
   ],
   "source": [
    "# creates a new list with some elements \n",
    "nice_foods = [\"pizza\", \"lasagne\", \"spagetti\", \"pancakes\", \"banana\", \"grapes\"]\n",
    "\n",
    "print(nice_foods)\n",
    "\n",
    "# gets first element\n",
    "print(f\"{nice_foods[0]=}\")\n",
    "# gets last element\n",
    "print(f\"{nice_foods[-1]}=\")\n",
    "print(f\"{nice_foods}[5]=\")"
   ]
  }
 ],
 "metadata": {
  "kernelspec": {
   "display_name": "Python 3.9.13 ('python-sam-glass-f9Gfa9m9')",
   "language": "python",
   "name": "python3"
  },
  "language_info": {
   "codemirror_mode": {
    "name": "ipython",
    "version": 3
   },
   "file_extension": ".py",
   "mimetype": "text/x-python",
   "name": "python",
   "nbconvert_exporter": "python",
   "pygments_lexer": "ipython3",
   "version": "3.9.13"
  },
  "orig_nbformat": 4,
  "vscode": {
   "interpreter": {
    "hash": "c54bac0ad9a8758ea607748194fff43bd5680f7a659873af8c80514da573df4a"
   }
  }
 },
 "nbformat": 4,
 "nbformat_minor": 2
}
