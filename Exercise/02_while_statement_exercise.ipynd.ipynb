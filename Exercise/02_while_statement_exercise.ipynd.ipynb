{
 "cells": [
  {
   "cell_type": "markdown",
   "metadata": {},
   "source": [
    "# while statement exercises"
   ]
  },
  {
   "cell_type": "markdown",
   "metadata": {},
   "source": [
    "---\n",
    "These are introductory exercises in Python with focus in while statement.\n",
    "\n",
    "Remember to use descriptive variable names in order to get readable code\n",
    "\n",
    "Remember to format your answers in a neat way using f-strings\n",
    "\n",
    "Remember to format your input questions in a pedagogical way to guide the user\n",
    "\n",
    "The number of stars (*), (**), (***) denotes the difficulty level of the task\n",
    "\n",
    "---"
   ]
  },
  {
   "cell_type": "markdown",
   "metadata": {},
   "source": [
    "---\n",
    "## 1. Count numbers (*)\n",
    "\n",
    "Use a while statement to count from -10 to 10 with one increment.\n",
    "\n",
    "Hint ```python i += 1 # adds one and assigns it to i, equivalent to i = i + 1 ```\n",
    "Answer ``` -10 -9 -8 -7 -6 -5 -4 -3 -2 -1 0 1 2 3 4 5 6 7 8 9 10 ```"
   ]
  },
  {
   "cell_type": "code",
   "execution_count": null,
   "metadata": {},
   "outputs": [],
   "source": []
  },
  {
   "cell_type": "markdown",
   "metadata": {},
   "source": [
    "---\n",
    "## 2. Arithmetic sum (*)\n",
    "\n",
    "Use a while statement to compute the following sums:\n",
    "\n",
    "  a)   \n",
    "\n",
    "  b)   \n",
    "\n",
    "Answer ``` a) 1 + 2 + ... + 99 + 100 = 5050 b) 1 + 3 + 5 +...+ 97 + 99 = 2500 ```"
   ]
  }
 ],
 "metadata": {
  "kernelspec": {
   "display_name": "Python 3.9.13 ('python-sam-glass-f9Gfa9m9')",
   "language": "python",
   "name": "python3"
  },
  "language_info": {
   "name": "python",
   "version": "3.9.13"
  },
  "orig_nbformat": 4,
  "vscode": {
   "interpreter": {
    "hash": "c54bac0ad9a8758ea607748194fff43bd5680f7a659873af8c80514da573df4a"
   }
  }
 },
 "nbformat": 4,
 "nbformat_minor": 2
}
