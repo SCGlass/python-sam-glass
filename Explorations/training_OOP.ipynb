{
 "cells": [
  {
   "cell_type": "code",
   "execution_count": 9,
   "metadata": {},
   "outputs": [],
   "source": [
    "class Monster:\n",
    "\n",
    "    def __init__(self,health,energy):\n",
    "        \n",
    "        self.health = health\n",
    "        self.energy = energy\n",
    "\n",
    "    def __len__(self):\n",
    "        return self.health\n",
    "\n",
    "    def __abs__(self):\n",
    "        return self.energy\n",
    "\n",
    "    def __call__(self):\n",
    "        print(\"The monster was called\")\n",
    "\n",
    "    def __add__(self,other):\n",
    "        return self.health + other\n",
    "\n",
    "    def __str__(self):\n",
    "        return f\"A monster with health {self.health} and energy {self.energy}\"    \n",
    "\n",
    "    # methods\n",
    "    def attack(self,amount):\n",
    "        print(\"The monster has attacked!\")\n",
    "        print(f\"{amount} damage was dealt\")\n",
    "        self.energy -= 20\n",
    "        print(self.energy)\n",
    "\n",
    "    def move(self,speed):\n",
    "        print(\"The monster has moved\")\n",
    "        print(f\"It has a speed of {speed}\")\n",
    "        "
   ]
  },
  {
   "cell_type": "code",
   "execution_count": 10,
   "metadata": {},
   "outputs": [
    {
     "name": "stdout",
     "output_type": "stream",
     "text": [
      "A monster with health 10 and energy 20\n",
      "A monster with health 10 and energy 20\n"
     ]
    }
   ],
   "source": [
    "monster1 = Monster(10,20)\n",
    "print(str(monster1))\n",
    "print(monster1)"
   ]
  },
  {
   "cell_type": "code",
   "execution_count": 11,
   "metadata": {},
   "outputs": [
    {
     "name": "stdout",
     "output_type": "stream",
     "text": [
      "3\n"
     ]
    }
   ],
   "source": [
    "def add(a,b):\n",
    "    return a + b\n",
    "\n",
    "class Test:\n",
    "    def __init__(self, add_function):\n",
    "        self.add_function = add_function\n",
    "\n",
    "test = Test(add_function = add)\n",
    "print(test.add_function(1,2))"
   ]
  },
  {
   "cell_type": "code",
   "execution_count": 12,
   "metadata": {},
   "outputs": [
    {
     "ename": "TypeError",
     "evalue": "Monster() takes no arguments",
     "output_type": "error",
     "traceback": [
      "\u001b[1;31m---------------------------------------------------------------------------\u001b[0m",
      "\u001b[1;31mTypeError\u001b[0m                                 Traceback (most recent call last)",
      "Cell \u001b[1;32mIn [12], line 20\u001b[0m\n\u001b[0;32m     17\u001b[0m         \u001b[38;5;28mprint\u001b[39m(\u001b[38;5;124m\"\u001b[39m\u001b[38;5;124mYou have been kicked\u001b[39m\u001b[38;5;124m\"\u001b[39m)\n\u001b[0;32m     19\u001b[0m attacks \u001b[38;5;241m=\u001b[39m Attacks()\n\u001b[1;32m---> 20\u001b[0m monster \u001b[38;5;241m=\u001b[39m \u001b[43mMonster\u001b[49m\u001b[43m(\u001b[49m\u001b[43mfunc\u001b[49m\u001b[43m \u001b[49m\u001b[38;5;241;43m=\u001b[39;49m\u001b[43m \u001b[49m\u001b[43mattacks\u001b[49m\u001b[38;5;241;43m.\u001b[39;49m\u001b[43mbite\u001b[49m\u001b[43m)\u001b[49m\n\u001b[0;32m     21\u001b[0m monster\u001b[38;5;241m.\u001b[39mfunc()\n",
      "\u001b[1;31mTypeError\u001b[0m: Monster() takes no arguments"
     ]
    }
   ],
   "source": [
    "class Monster:\n",
    "    def __innit__(self, func):\n",
    "        self.func = func\n",
    "\n",
    "class Attacks:\n",
    "\n",
    "    def bite(self):\n",
    "        print(\"You have been bitten\")\n",
    "\n",
    "    def strike(self):\n",
    "        print(\"You have been bitten\")\n",
    "\n",
    "    def slash(self):\n",
    "        print(\"You have been slashed\")\n",
    "\n",
    "    def kick(self):\n",
    "        print(\"You have been kicked\")\n",
    "\n",
    "attacks = Attacks()\n",
    "monster = Monster(func = attacks.bite)\n",
    "monster.func()         \n",
    "\n",
    "\n"
   ]
  },
  {
   "cell_type": "code",
   "execution_count": 19,
   "metadata": {},
   "outputs": [
    {
     "ename": "TypeError",
     "evalue": "Hero() takes no arguments",
     "output_type": "error",
     "traceback": [
      "\u001b[1;31m---------------------------------------------------------------------------\u001b[0m",
      "\u001b[1;31mTypeError\u001b[0m                                 Traceback (most recent call last)",
      "Cell \u001b[1;32mIn [19], line 32\u001b[0m\n\u001b[0;32m     28\u001b[0m         \u001b[38;5;28mself\u001b[39m\u001b[38;5;241m.\u001b[39mmonster\u001b[38;5;241m.\u001b[39mget_damage(\u001b[38;5;28mself\u001b[39m\u001b[38;5;241m.\u001b[39mdamage)\n\u001b[0;32m     30\u001b[0m monster \u001b[38;5;241m=\u001b[39m Monster(health \u001b[38;5;241m=\u001b[39m \u001b[38;5;241m100\u001b[39m, energy \u001b[38;5;241m=\u001b[39m \u001b[38;5;241m50\u001b[39m)\n\u001b[1;32m---> 32\u001b[0m hero \u001b[38;5;241m=\u001b[39m \u001b[43mHero\u001b[49m\u001b[43m(\u001b[49m\u001b[43mdamage\u001b[49m\u001b[43m \u001b[49m\u001b[38;5;241;43m=\u001b[39;49m\u001b[43m \u001b[49m\u001b[38;5;241;43m15\u001b[39;49m\u001b[43m,\u001b[49m\u001b[43m \u001b[49m\u001b[43mmonster\u001b[49m\u001b[43m \u001b[49m\u001b[38;5;241;43m=\u001b[39;49m\u001b[43m \u001b[49m\u001b[43mmonster\u001b[49m\u001b[43m)\u001b[49m        \n\u001b[0;32m     34\u001b[0m \u001b[38;5;28mprint\u001b[39m(monster\u001b[38;5;241m.\u001b[39mhealth)\n\u001b[0;32m     35\u001b[0m hero\u001b[38;5;241m.\u001b[39mattack()\n",
      "\u001b[1;31mTypeError\u001b[0m: Hero() takes no arguments"
     ]
    }
   ],
   "source": [
    "# scope problem\n",
    "#def update_health(amount):\n",
    "    #monster.health += amount\n",
    "\n",
    "#health = 10\n",
    "#print(health)\n",
    "#update_health(20)\n",
    "#print (health)\n",
    "\n",
    "class Monster:\n",
    "    def __init__(self,health,energy):\n",
    "        self.health = health\n",
    "        self.energy = energy\n",
    "\n",
    "    def update_energy(self,amount):\n",
    "        self.energy += amount\n",
    "\n",
    "    \n",
    "    def get_damage(self,amount):\n",
    "        self.health -= amount     \n",
    "\n",
    "class Hero:\n",
    "    def ___innit___(self,damage,monster):\n",
    "        self.damage = damage\n",
    "        self.monster = monster\n",
    "\n",
    "    def attack(self):\n",
    "        self.monster.get_damage(self.damage)\n",
    "\n",
    "monster = Monster(health = 100, energy = 50)\n",
    "\n",
    "hero = Hero(damage = 15, monster = monster)        \n",
    "\n",
    "print(monster.health)\n",
    "hero.attack()\n",
    "print(monster.health)   "
   ]
  },
  {
   "cell_type": "code",
   "execution_count": 28,
   "metadata": {},
   "outputs": [
    {
     "name": "stdout",
     "output_type": "stream",
     "text": [
      "The shark has moved\n",
      "The speed of the shark is 120\n"
     ]
    }
   ],
   "source": [
    "class Monster:\n",
    "    def __init__(self,health,energy):\n",
    "        self.health = health\n",
    "        self.energy = energy\n",
    "\n",
    "    # methods\n",
    "\n",
    "    def attack(self, amount):\n",
    "        print(\"The monster has attacked!\")\n",
    "        print(f\"{amount} damage was dealt\")\n",
    "        self.energy -= 20\n",
    "\n",
    "    def move(self,speed):\n",
    "        print(\"The monster has moved\")\n",
    "        print(f\"It has a speed of {speed}\")\n",
    "\n",
    "\n",
    "class Shark(Monster):\n",
    "    def __init__(self,speed,):\n",
    "        Monster.__init__(self,health,energy)\n",
    "        self.speed = speed\n",
    "\n",
    "    def bite(self):\n",
    "        print(\"The shark has bitten\")\n",
    "\n",
    "    def move(self):\n",
    "        print(\"The shark has moved\")\n",
    "        print(f\"The speed of the shark is {self.speed}\")\n",
    "\n",
    "\n",
    "shark = Shark(speed = 120)\n",
    "shark.move()        \n",
    "\n",
    "\n",
    "\n",
    "\n",
    "\n",
    "         \n"
   ]
  }
 ],
 "metadata": {
  "kernelspec": {
   "display_name": "Python 3.9.13 ('python-sam-glass-f9Gfa9m9')",
   "language": "python",
   "name": "python3"
  },
  "language_info": {
   "codemirror_mode": {
    "name": "ipython",
    "version": 3
   },
   "file_extension": ".py",
   "mimetype": "text/x-python",
   "name": "python",
   "nbconvert_exporter": "python",
   "pygments_lexer": "ipython3",
   "version": "3.9.13"
  },
  "orig_nbformat": 4,
  "vscode": {
   "interpreter": {
    "hash": "c54bac0ad9a8758ea607748194fff43bd5680f7a659873af8c80514da573df4a"
   }
  }
 },
 "nbformat": 4,
 "nbformat_minor": 2
}
