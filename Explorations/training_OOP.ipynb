{
 "cells": [
  {
   "cell_type": "code",
   "execution_count": 74,
   "metadata": {},
   "outputs": [],
   "source": [
    "class Monster:\n",
    "\n",
    "    def __init__(self,health,energy):\n",
    "        \n",
    "        self.health = health\n",
    "        self.energy = energy\n",
    "\n",
    "    def __len__(self):\n",
    "        return self.health\n",
    "\n",
    "    def __abs__(self):\n",
    "        return self.energy\n",
    "\n",
    "    def __call__(self):\n",
    "        print(\"The monster was called\")\n",
    "\n",
    "    def __add__(self,other):\n",
    "        return self.health + other\n",
    "\n",
    "    def __str__(self):\n",
    "        return f\"A monster with health {self.health} and energy {self.energy}\"    \n",
    "\n",
    "    # methods\n",
    "    def attack(self,amount):\n",
    "        print(\"The monster has attacked!\")\n",
    "        print(f\"{amount} damage was dealt\")\n",
    "        self.energy -= 20\n",
    "        print(self.energy)\n",
    "\n",
    "    def move(self,speed):\n",
    "        print(\"The monster has moved\")\n",
    "        print(f\"It has a speed of {speed}\")\n",
    "        "
   ]
  },
  {
   "cell_type": "code",
   "execution_count": 73,
   "metadata": {},
   "outputs": [
    {
     "name": "stdout",
     "output_type": "stream",
     "text": [
      "A monster with health 10 and energy 20\n",
      "A monster with health 10 and energy 20\n"
     ]
    }
   ],
   "source": [
    "monster1 = Monster(10,20)\n",
    "print(str(monster1))\n",
    "print(monster1)"
   ]
  },
  {
   "cell_type": "code",
   "execution_count": 80,
   "metadata": {},
   "outputs": [
    {
     "name": "stdout",
     "output_type": "stream",
     "text": [
      "3\n"
     ]
    }
   ],
   "source": [
    "def add(a,b):\n",
    "    return a + b\n",
    "\n",
    "class Test:\n",
    "    def __init__(self, add_function):\n",
    "        self.add_function = add_function\n",
    "\n",
    "test = Test(add_function = add)\n",
    "print(test.add_function(1,2))"
   ]
  },
  {
   "cell_type": "code",
   "execution_count": 81,
   "metadata": {},
   "outputs": [],
   "source": [
    "def monster(bite):\n",
    "    return bite\n",
    "\n",
    "class Monster:\n",
    "    def __innit__(self, func):\n",
    "        self.func = func\n",
    "\n",
    "class Attacks:\n",
    "    def __init__(self, bite, strike, slash, kick):\n",
    "        self.bite = bite\n",
    "        self.strike = strike        \n",
    "        self.slash = slash\n",
    "        self.kick = kick\n",
    "\n",
    "    def bite(self, bite):\n",
    "        print(\"You have been bitten\")\n",
    "\n",
    "    def strike(self, strike):\n",
    "        print(\"You have been bitten\")\n",
    "\n",
    "    def slash(self, slash):\n",
    "        print(\"You have been slashed\")\n",
    "\n",
    "    def kick(self, kick):\n",
    "        print(\"You have been kicked\")\n",
    "\n",
    "monster =         \n",
    "\n",
    "\n"
   ]
  },
  {
   "cell_type": "code",
   "execution_count": 83,
   "metadata": {},
   "outputs": [
    {
     "ename": "NameError",
     "evalue": "name 'self' is not defined",
     "output_type": "error",
     "traceback": [
      "\u001b[1;31m---------------------------------------------------------------------------\u001b[0m",
      "\u001b[1;31mNameError\u001b[0m                                 Traceback (most recent call last)",
      "Cell \u001b[1;32mIn [83], line 1\u001b[0m\n\u001b[1;32m----> 1\u001b[0m \u001b[38;5;28mprint\u001b[39m(\u001b[38;5;28;43mself\u001b[39;49m\u001b[38;5;241m.\u001b[39mbite)\n",
      "\u001b[1;31mNameError\u001b[0m: name 'self' is not defined"
     ]
    }
   ],
   "source": [
    "print(self.bite)"
   ]
  }
 ],
 "metadata": {
  "kernelspec": {
   "display_name": "Python 3.9.13 ('python-sam-glass-f9Gfa9m9')",
   "language": "python",
   "name": "python3"
  },
  "language_info": {
   "codemirror_mode": {
    "name": "ipython",
    "version": 3
   },
   "file_extension": ".py",
   "mimetype": "text/x-python",
   "name": "python",
   "nbconvert_exporter": "python",
   "pygments_lexer": "ipython3",
   "version": "3.9.13"
  },
  "orig_nbformat": 4,
  "vscode": {
   "interpreter": {
    "hash": "c54bac0ad9a8758ea607748194fff43bd5680f7a659873af8c80514da573df4a"
   }
  }
 },
 "nbformat": 4,
 "nbformat_minor": 2
}
