{
 "cells": [
  {
   "cell_type": "markdown",
   "metadata": {},
   "source": [
    "# Instructions\n",
    "You are helping your younger sister with her English vocabulary homework, which she's finding very tedious. Her class is learning to create new words by adding prefixes and suffixes. Given a set of words, the teacher is looking for correctly transformed words with correct spelling by adding the prefix to the beginning or the suffix to the ending.\n",
    "\n",
    "There's four activities in the assignment, each with a set of text or words to work with.\n",
    "\n",
    "- 1. Add a prefix to a word\n",
    "    One of the most common prefixes in English is un, meaning \"not\". In this activity, your sister needs to make negative, or \"not\" words by adding un to them.\n",
    "\n",
    "Implement the add_prefix_un() function that takes word as a parameter and returns a new un prefixed word:"
   ]
  },
  {
   "cell_type": "code",
   "execution_count": 41,
   "metadata": {},
   "outputs": [],
   "source": [
    "def add_prefix_un(word: str) -> str:\n",
    "    return \"un\" + word\n"
   ]
  },
  {
   "cell_type": "code",
   "execution_count": 42,
   "metadata": {},
   "outputs": [
    {
     "name": "stdout",
     "output_type": "stream",
     "text": [
      "unhappy\n"
     ]
    }
   ],
   "source": [
    "print(add_prefix_un(\"happy\"))"
   ]
  },
  {
   "cell_type": "markdown",
   "metadata": {},
   "source": [
    "2. Add prefixes to word groups\n",
    "There are four more common prefixes that your sister's class is studying: en (meaning to 'put into' or 'cover with'), pre (meaning 'before' or 'forward'), auto (meaning 'self' or 'same'), and inter (meaning 'between' or 'among').\n",
    "\n",
    "In this exercise, the class is creating groups of vocabulary words using these prefixes, so they can be studied together. Each prefix comes in a list with common words it's used with. The students need to apply the prefix and produce a string that shows the prefix applied to all of the words.\n",
    "\n",
    "Implement the make_word_groups(<vocab_words>) function that takes a vocab_words as a parameter in the following form: [<prefix>, <word_1>, <word_2> .... <word_n>], and returns a string with the prefix applied to each word that looks like: '<prefix> :: <prefix><word_1> :: <prefix><word_2> :: <prefix><word_n>'."
   ]
  },
  {
   "cell_type": "code",
   "execution_count": 43,
   "metadata": {},
   "outputs": [],
   "source": [
    "def make_word_groups(vocab_words:list) ->str:\n",
    "    result = vocab_words[0]\n",
    "    for i in range(len (vocab_words)):\n",
    "       if i > 0:\n",
    "        result += \" :: \" + vocab_words[0] + vocab_words[i]\n",
    "    return result\n",
    "\n",
    "\n"
   ]
  },
  {
   "cell_type": "markdown",
   "metadata": {},
   "source": [
    "2. Add prefixes to word groups\n",
    "There are four more common prefixes that your sister's class is studying: en (meaning to 'put into' or 'cover with'), pre (meaning 'before' or 'forward'), auto (meaning 'self' or 'same'), and inter (meaning 'between' or 'among').\n",
    "\n",
    "In this exercise, the class is creating groups of vocabulary words using these prefixes, so they can be studied together. Each prefix comes in a list with common words it's used with. The students need to apply the prefix and produce a string that shows the prefix applied to all of the words.\n",
    "\n",
    "Implement the make_word_groups(<vocab_words>) function that takes a vocab_words as a parameter in the following form: [<prefix>, <word_1>, <word_2> .... <word_n>], and returns a string with the prefix applied to each word that looks like: '<prefix> :: <prefix><word_1> :: <prefix><word_2> :: <prefix><word_n>'."
   ]
  },
  {
   "cell_type": "code",
   "execution_count": 44,
   "metadata": {},
   "outputs": [],
   "source": [
    "def remove_suffix_ness(word:str) ->str:\n",
    "    if word[-5] == \"i\":\n",
    "        return word.replace(\"iness\", \"y\")\n",
    "    else:\n",
    "       return word.replace(\"ness\", \"\")"
   ]
  },
  {
   "cell_type": "code",
   "execution_count": 45,
   "metadata": {},
   "outputs": [
    {
     "name": "stdout",
     "output_type": "stream",
     "text": [
      "compulsive\n"
     ]
    }
   ],
   "source": [
    "print(remove_suffix_ness(\"compulsiveness\"))"
   ]
  },
  {
   "cell_type": "markdown",
   "metadata": {},
   "source": [
    "4. Extract and transform a word\n",
    "Suffixes are often used to change the part of speech a word has. A common practice in English is \"verbing\" or \"verbifying\" -- where an adjective becomes a verb by adding an en suffix.\n",
    "\n",
    "In this task, your sister is going to practice \"verbing\" words by extracting an adjective from a sentence and turning it into a verb. Fortunately, all the words that need to be transformed here are \"regular\" - they don't need spelling changes to add the suffix.\n",
    "\n",
    "Implement the adjective_to_verb(<sentence>, <index>) function that takes two parameters. A sentence using the vocabulary word, and the index of the word, once that sentence is split apart. The function should return the extracted adjective as a verb.\n",
    "\n",
    ">>> adjective_to_verb('I need to make that bright.', -1 )\n",
    "'brighten'\n",
    "\n",
    ">>> adjective_to_verb('It got dark as the sun set.', 2)\n",
    "'darken'"
   ]
  },
  {
   "cell_type": "code",
   "execution_count": 46,
   "metadata": {},
   "outputs": [],
   "source": [
    "def adjective_to_verb(sentence: str, index: int) -> str:\n",
    "    word_list = sentence.split()\n",
    "    return word_list[index].strip(\".\") + \"en\"\n",
    "    \n"
   ]
  },
  {
   "cell_type": "code",
   "execution_count": 48,
   "metadata": {},
   "outputs": [
    {
     "data": {
      "text/plain": [
       "'brighten'"
      ]
     },
     "execution_count": 48,
     "metadata": {},
     "output_type": "execute_result"
    }
   ],
   "source": [
    "adjective_to_verb('It got dark as the sun set.', 2)\n",
    "adjective_to_verb('I need to make that bright.', -1 )\n"
   ]
  },
  {
   "cell_type": "code",
   "execution_count": null,
   "metadata": {},
   "outputs": [],
   "source": [
    "\"\"\"Adds and removes previx and suffix from words\"\"\"\n",
    "\n",
    "def add_prefix_un(word: str) -> str:\n",
    "    return \"un\" + word\n",
    "\n",
    "def make_word_groups(vocab_words:list) ->str:\n",
    "    result = vocab_words[0]\n",
    "    for index, element in enumerate(vocab_words):\n",
    "       if index > 0:\n",
    "        result += \" :: \" + vocab_words[0] + element\n",
    "    return result\n",
    "\n",
    "def remove_suffix_ness(word:str) ->str:\n",
    "    if word[-5] == \"i\":\n",
    "        return word.replace(\"iness\", \"y\")\n",
    "    return word.replace(\"ness\", \"\")\n",
    "\n",
    "def adjective_to_verb(sentence: str, index: int) -> str:\n",
    "    word_list = sentence.split()\n",
    "    return word_list[index].strip(\".\") + \"en\"\n",
    "\n",
    "\n",
    "\n",
    "    "
   ]
  }
 ],
 "metadata": {
  "kernelspec": {
   "display_name": "Python 3.9.13 ('python-sam-glass-f9Gfa9m9')",
   "language": "python",
   "name": "python3"
  },
  "language_info": {
   "codemirror_mode": {
    "name": "ipython",
    "version": 3
   },
   "file_extension": ".py",
   "mimetype": "text/x-python",
   "name": "python",
   "nbconvert_exporter": "python",
   "pygments_lexer": "ipython3",
   "version": "3.9.13"
  },
  "orig_nbformat": 4,
  "vscode": {
   "interpreter": {
    "hash": "c54bac0ad9a8758ea607748194fff43bd5680f7a659873af8c80514da573df4a"
   }
  }
 },
 "nbformat": 4,
 "nbformat_minor": 2
}
