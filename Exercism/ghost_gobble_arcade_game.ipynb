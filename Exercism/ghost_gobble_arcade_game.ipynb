{
 "cells": [
  {
   "cell_type": "markdown",
   "metadata": {},
   "source": [
    "Instructions\n",
    "In this exercise, you need to implement some rules from Pac-Man, the classic 1980s-era arcade-game.\n",
    "\n",
    "You have four rules to implement, all related to the game states.\n",
    "\n",
    "Do not worry about how the arguments are derived, just focus on combining the arguments to return the intended result.\n",
    "\n",
    "1. Define if Pac-Man eats a ghost\n",
    "Define the eat_ghost() function that takes two parameters (if Pac-Man has a power pellet active and if Pac-Man is touching a ghost) and returns a Boolean value if Pac-Man is able to eat the ghost. The function should return True only if Pac-Man has a power pellet active and is touching a ghost.\n",
    "\n",
    ">>> eat_ghost(False, True)\n",
    "...\n",
    "False"
   ]
  },
  {
   "cell_type": "code",
   "execution_count": 1,
   "metadata": {},
   "outputs": [],
   "source": [
    "\"\"\"PacMan game\"\"\"\n",
    "def eat_ghost(power_pellet_active, touching_ghost):\n",
    "    \"\"\"Returns True or False if pacman has a power pellet\n",
    "    or is touching a ghost defining if he has eaten a ghost\"\"\"\n",
    "    power_pellet_active = True or False\n",
    "    touching_ghost = True or False\n",
    "    return power_pellet_active and touching_ghost"
   ]
  },
  {
   "cell_type": "markdown",
   "metadata": {},
   "source": [
    "2. Define if Pac-Man scores\n",
    "Define the score() function that takes two parameters (if Pac-Man is touching a power pellet and if Pac-Man is touching a dot) and returns a Boolean value if Pac-Man scored. The function should return True if Pac-Man is touching a power pellet or a dot.\n",
    "\n",
    ">>> score(True, True)\n",
    "...\n",
    "True"
   ]
  },
  {
   "cell_type": "code",
   "execution_count": 2,
   "metadata": {},
   "outputs": [],
   "source": [
    "def score(power_pellet_touching, dot_touching):\n",
    "    \"\"\"returns True or False if pacman has a power pellet or\n",
    "    is touching a dot and adjusts the score\"\"\"\n",
    "    power_pellet_touching = True or False\n",
    "    dot_touching = True or False\n",
    "    return power_pellet_touching and dot_touching"
   ]
  },
  {
   "cell_type": "markdown",
   "metadata": {},
   "source": [
    "3. Define if Pac-Man loses\n",
    "Define the lose() function that takes two parameters (if Pac-Man has a power pellet active and if Pac-Man is touching a ghost) and returns a Boolean value if Pac-Man loses. The function should return True if Pac-Man is touching a ghost and does not have a power pellet active.\n",
    "\n",
    ">>> lose(False, True)\n",
    "...\n",
    "True"
   ]
  },
  {
   "cell_type": "code",
   "execution_count": 4,
   "metadata": {},
   "outputs": [],
   "source": [
    "def lose(power_pellet_active, touching_ghost):\n",
    "    \"\"\"Returns False if pacman has no power pellet active and True \n",
    "    if he has touched a ghost, meaning a lose\"\"\"\n",
    "    power_pellet_active = False\n",
    "    touching_ghost = True\n",
    "    return power_pellet_active and touching_ghost"
   ]
  },
  {
   "cell_type": "markdown",
   "metadata": {},
   "source": [
    "4. Define if Pac-Man wins\n",
    "Define the win() function that takes three parameters (if Pac-Man has eaten all of the dots, if Pac-Man has a power pellet active, and if Pac-Man is touching a ghost) and returns a Boolean value if Pac-Man wins. The function should return True if Pac-Man has eaten all of the dots and has not lost based on the parameters defined in part 3.\n",
    "\n",
    ">>> win(False, True, False)\n",
    "False"
   ]
  },
  {
   "cell_type": "code",
   "execution_count": null,
   "metadata": {},
   "outputs": [],
   "source": [
    "def win(eaten_all_dots, pellet_active, touching_ghost):\n",
    "    \"\"\"Returns True if pacman has eaten all dots and True or False \n",
    "    if he has a pellet active and False if he is touching a ghost \"\"\"\n",
    "    eaten_all_dots = True\n",
    "    pellet_active = True or False\n",
    "    touching_ghost = False\n",
    "    return eaten_all_dots and pellet_active and touching_ghost"
   ]
  }
 ],
 "metadata": {
  "kernelspec": {
   "display_name": "Python 3.9.13 ('python-sam-glass-f9Gfa9m9')",
   "language": "python",
   "name": "python3"
  },
  "language_info": {
   "codemirror_mode": {
    "name": "ipython",
    "version": 3
   },
   "file_extension": ".py",
   "mimetype": "text/x-python",
   "name": "python",
   "nbconvert_exporter": "python",
   "pygments_lexer": "ipython3",
   "version": "3.9.13"
  },
  "orig_nbformat": 4,
  "vscode": {
   "interpreter": {
    "hash": "c54bac0ad9a8758ea607748194fff43bd5680f7a659873af8c80514da573df4a"
   }
  }
 },
 "nbformat": 4,
 "nbformat_minor": 2
}
