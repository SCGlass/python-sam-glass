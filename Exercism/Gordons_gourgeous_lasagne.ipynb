{
 "cells": [
  {
   "cell_type": "markdown",
   "metadata": {},
   "source": [
    "Instructions\n",
    "You're going to write some code to help you cook a gorgeous lasagna from your favorite cookbook.\n",
    "\n",
    "You have five tasks, all related to cooking your recipe.\n",
    "\n",
    "1. Define expected bake time in minutes\n",
    "Define an EXPECTED_BAKE_TIME constant that returns how many minutes the lasagna should bake in the oven. According to your cookbook, the Lasagna should be in the oven for 40 minutes:\n",
    "\n",
    ">>> import lasagna\n",
    ">>> lasagna.EXPECTED_BAKE_TIME\n",
    "40"
   ]
  },
  {
   "cell_type": "code",
   "execution_count": 7,
   "metadata": {},
   "outputs": [
    {
     "ename": "TypeError",
     "evalue": "EXPECTED_BAKE_TIME() missing 1 required positional argument: 'self'",
     "output_type": "error",
     "traceback": [
      "\u001b[1;31m---------------------------------------------------------------------------\u001b[0m",
      "\u001b[1;31mTypeError\u001b[0m                                 Traceback (most recent call last)",
      "Cell \u001b[1;32mIn [7], line 4\u001b[0m\n\u001b[0;32m      1\u001b[0m \u001b[39mdef\u001b[39;00m \u001b[39mEXPECTED_BAKE_TIME\u001b[39m(\u001b[39mself\u001b[39m) \u001b[39m-\u001b[39m\u001b[39m>\u001b[39m \u001b[39mint\u001b[39m:\n\u001b[0;32m      2\u001b[0m     \u001b[39mreturn\u001b[39;00m \u001b[39m40\u001b[39m\n\u001b[1;32m----> 4\u001b[0m EXPECTED_BAKE_TIME()\n",
      "\u001b[1;31mTypeError\u001b[0m: EXPECTED_BAKE_TIME() missing 1 required positional argument: 'self'"
     ]
    }
   ],
   "source": [
    "\n",
    "def EXPECTED_BAKE_TIME(self) -> int:\n",
    "    return 40\n",
    "    \n",
    "EXPECTED_BAKE_TIME()\n"
   ]
  },
  {
   "cell_type": "markdown",
   "metadata": {},
   "source": [
    "2. Calculate remaining bake time in minutes\n",
    "Implement the bake_time_remaining() function that takes the actual minutes the lasagna has been in the oven as an argument and returns how many minutes the lasagna still needs to bake based on the EXPECTED_BAKE_TIME.\n",
    "\n",
    ">>> from lasagna import bake_time_remaining\n",
    ">>> bake_time_remaining(30)\n",
    "10"
   ]
  },
  {
   "cell_type": "code",
   "execution_count": 3,
   "metadata": {},
   "outputs": [],
   "source": [
    "def bake_time_remaining(self):\n",
    "    return EXPECTED_BAKE_TIME - bake_time_remaining\n",
    "    "
   ]
  },
  {
   "cell_type": "code",
   "execution_count": 4,
   "metadata": {},
   "outputs": [
    {
     "ename": "TypeError",
     "evalue": "unsupported operand type(s) for -: 'function' and 'function'",
     "output_type": "error",
     "traceback": [
      "\u001b[1;31m---------------------------------------------------------------------------\u001b[0m",
      "\u001b[1;31mTypeError\u001b[0m                                 Traceback (most recent call last)",
      "Cell \u001b[1;32mIn [4], line 1\u001b[0m\n\u001b[1;32m----> 1\u001b[0m bake_time_remaining(\u001b[39m30\u001b[39;49m)\n",
      "Cell \u001b[1;32mIn [3], line 2\u001b[0m, in \u001b[0;36mbake_time_remaining\u001b[1;34m(self)\u001b[0m\n\u001b[0;32m      1\u001b[0m \u001b[39mdef\u001b[39;00m \u001b[39mbake_time_remaining\u001b[39m(\u001b[39mself\u001b[39m):\n\u001b[1;32m----> 2\u001b[0m     \u001b[39mreturn\u001b[39;00m EXPECTED_BAKE_TIME \u001b[39m-\u001b[39;49m bake_time_remaining\n",
      "\u001b[1;31mTypeError\u001b[0m: unsupported operand type(s) for -: 'function' and 'function'"
     ]
    }
   ],
   "source": [
    "bake_time_remaining(30)"
   ]
  }
 ],
 "metadata": {
  "kernelspec": {
   "display_name": "Python 3.9.13 ('python-sam-glass-f9Gfa9m9')",
   "language": "python",
   "name": "python3"
  },
  "language_info": {
   "codemirror_mode": {
    "name": "ipython",
    "version": 3
   },
   "file_extension": ".py",
   "mimetype": "text/x-python",
   "name": "python",
   "nbconvert_exporter": "python",
   "pygments_lexer": "ipython3",
   "version": "3.9.13"
  },
  "orig_nbformat": 4,
  "vscode": {
   "interpreter": {
    "hash": "c54bac0ad9a8758ea607748194fff43bd5680f7a659873af8c80514da573df4a"
   }
  }
 },
 "nbformat": 4,
 "nbformat_minor": 2
}
