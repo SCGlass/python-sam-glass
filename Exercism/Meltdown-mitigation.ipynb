{
 "cells": [
  {
   "cell_type": "markdown",
   "metadata": {},
   "source": [
    "## Instructions\n",
    "\n",
    "In this exercise, we'll develop a simple control system for a nuclear reactor.\n",
    "\n",
    "For a reactor to produce the power it must be in a state of criticality. If the reactor is in a state less than criticality, it can become damaged. If the reactor state goes beyond criticality, it can overload and result in a meltdown. We want to mitigate the chances of meltdown and correctly manage reactor state.\n",
    "\n",
    "The following three tasks are all related to writing code for maintaining ideal reactor state.\n",
    "\n",
    "## 1. Check for criticality\n",
    "The first thing a control system has to do is check if the reactor is balanced in criticality. A reactor is said to be critical if it satisfies the following conditions:\n",
    "\n",
    "- The temperature is less than 800 K.\n",
    "- The number of neutrons emitted per second is greater than 500.\n",
    "- The product of temperature and neutrons emitted per second is less than 500000.\n",
    "\n",
    "\n",
    "Implement the function ```is_criticality_balanced()``` that takes ```temperature``` measured in kelvin and ```neutrons_emitted``` as parameters, and returns True if the criticality conditions are met, False if not.\n",
    "\n",
    "\n",
    "```\n",
    ">>> is_criticality_balanced(750, 600)\n",
    "True\n",
    "```\n"
   ]
  },
  {
   "cell_type": "code",
   "execution_count": 3,
   "metadata": {},
   "outputs": [],
   "source": [
    "def is_criticality_balanced(temperature, neutrons_emitted):\n",
    "\n",
    "    product_temperature = temperature * neutrons_emitted\n",
    "\n",
    "    if temperature < 800 and neutrons_emitted > 500 and product_temperature < 500000:\n",
    "        return True\n",
    "    else:\n",
    "        return False  "
   ]
  },
  {
   "cell_type": "code",
   "execution_count": 8,
   "metadata": {},
   "outputs": [
    {
     "data": {
      "text/plain": [
       "True"
      ]
     },
     "execution_count": 8,
     "metadata": {},
     "output_type": "execute_result"
    }
   ],
   "source": [
    "is_criticality_balanced(750, 600)"
   ]
  },
  {
   "cell_type": "markdown",
   "metadata": {},
   "source": [
    "## 2. Determine the Power output range\n",
    "\n",
    " Once the reactor has started producing power its efficiency needs to be determined. Efficiency can be grouped into 4 bands:\n",
    "\n",
    "1. green -> efficiency of 80% or more,\n",
    "2. orange -> efficiency of less than 80% but at least 60%,\n",
    "3. red -> efficiency below 60%, but still 30% or more,\n",
    "4. black -> less than 30% efficient.\n",
    "\n",
    "The percentage value can be calculated as \n",
    "```(generated_power/theoretical_max_power)*100``` where ```generated_power``` = ```voltage``` * ```current```. Note that the percentage value is usually not an integer number, so make sure to consider the proper use of the ```<``` and ```<=``` comparisons.\n",
    "\n",
    "Implement the function \n",
    "```reactor_efficiency(<voltage>, <current>, <theoretical_max_power>)```, with three parameters: ```voltage```,``` current```, and ```theoretical_max_power```. This function should return the efficiency band of the reactor : 'green', 'orange', 'red', or 'black'.\n",
    "\n",
    "```\n",
    ">>> reactor_efficiency(200,50,15000)\n",
    "'orange'\n",
    "```"
   ]
  },
  {
   "cell_type": "code",
   "execution_count": 76,
   "metadata": {},
   "outputs": [],
   "source": [
    "def reactor_efficiency(voltage, current, theoretical_max_power):\n",
    "    \n",
    "    generated_power = voltage * current\n",
    "    efficiency = (generated_power/theoretical_max_power)*100\n",
    "\n",
    "    if efficiency >= 80:\n",
    "        return \"green\"\n",
    "    \n",
    "    elif efficiency <= 80 and efficiency >= 60:\n",
    "        return \"orange\"\n",
    "\n",
    "    elif efficiency <= 60 and efficiency >= 30:\n",
    "        return \"red\"\n",
    "\n",
    "    elif efficiency <= 30:\n",
    "        return \"black\"    \n"
   ]
  },
  {
   "cell_type": "code",
   "execution_count": 77,
   "metadata": {},
   "outputs": [
    {
     "data": {
      "text/plain": [
       "'orange'"
      ]
     },
     "execution_count": 77,
     "metadata": {},
     "output_type": "execute_result"
    }
   ],
   "source": [
    "reactor_efficiency(200,50,15000)"
   ]
  },
  {
   "cell_type": "markdown",
   "metadata": {},
   "source": [
    "## 3. Fail Safe Mechanism\n",
    "\n",
    "Your final task involves creating a fail-safe mechanism to avoid overload and meltdown. This mechanism will determine if the reactor is below, at, or above the ideal criticality threshold. Criticality can then be increased, decreased, or stopped by inserting (or removing) control rods into the reactor.\n",
    "\n",
    "Implement the function called ```fail_safe()```, which takes 3 parameters: ```temperature``` measured in kelvin, ```neutrons_produced_per_second```, and ```threshold```, and outputs a status code for the reactor.\n",
    "\n",
    "- If ```temperature * neutrons_produced_per_second``` < 90% of ```threshold```, output a status code of 'LOW' indicating that control rods must be removed to produce power.\n",
    "\n",
    "- If ```temperature * neutrons_produced_per_second``` are within plus or minus 10% of the ```threshold``` the reactor is in criticality and the status code of 'NORMAL' should be output, indicating that the reactor is in optimum condition and control rods are in an ideal position.\n",
    "\n",
    "- If ```temperature * neutrons_produced_per_second``` is not in the above-stated ranges, the reactor is going into meltdown and a status code of 'DANGER' must be passed to immediately shut down the reactor.\n",
    "\n",
    "```\n",
    ">>> fail_safe(temperature=1000, neutrons_produced_per_second=30, threshold=5000)\n",
    "'DANGER'\n",
    "```"
   ]
  },
  {
   "cell_type": "code",
   "execution_count": 85,
   "metadata": {},
   "outputs": [],
   "source": [
    "def fail_safe(temperature, neutrons_produced_per_second, threshold):\n",
    "    \n",
    "    amount =  (temperature * neutrons_produced_per_second)\n",
    "    threshold_90 = (threshold/100)*90\n",
    "    threshold_10 = (threshold/100)*10\n",
    "    threshold_10_minus = (threshold/100)* -10\n",
    "\n",
    "    if amount <= threshold_90 and amount > threshold_10 :\n",
    "        return \"LOW\"\n",
    "    elif amount <= threshold_10 and amount >= threshold_10_minus:\n",
    "        return \"NORMAL\"\n",
    "    else:\n",
    "        return \"DANGER\" \n"
   ]
  },
  {
   "cell_type": "code",
   "execution_count": 5,
   "metadata": {},
   "outputs": [],
   "source": [
    "def fail_safe(temperature, neutrons_produced_per_second, threshold):\n",
    "\n",
    "    if temperature * neutrons_produced_per_second < threshold/100 * 90:\n",
    "        return \"LOW\"\n",
    "    elif temperature * neutrons_produced_per_second < threshold/100 *10 and temperature * neutrons_produced_per_second > threshold/100*10:\n",
    "        return \"NORMAL\"\n",
    "    else:\n",
    "        return \"DANGER\""
   ]
  },
  {
   "cell_type": "code",
   "execution_count": 6,
   "metadata": {},
   "outputs": [
    {
     "data": {
      "text/plain": [
       "'DANGER'"
      ]
     },
     "execution_count": 6,
     "metadata": {},
     "output_type": "execute_result"
    }
   ],
   "source": [
    "fail_safe(1000,30,5000)\n"
   ]
  }
 ],
 "metadata": {
  "kernelspec": {
   "display_name": "Python 3.9.13 ('python-sam-glass-f9Gfa9m9')",
   "language": "python",
   "name": "python3"
  },
  "language_info": {
   "codemirror_mode": {
    "name": "ipython",
    "version": 3
   },
   "file_extension": ".py",
   "mimetype": "text/x-python",
   "name": "python",
   "nbconvert_exporter": "python",
   "pygments_lexer": "ipython3",
   "version": "3.9.13"
  },
  "orig_nbformat": 4,
  "vscode": {
   "interpreter": {
    "hash": "c54bac0ad9a8758ea607748194fff43bd5680f7a659873af8c80514da573df4a"
   }
  }
 },
 "nbformat": 4,
 "nbformat_minor": 2
}
