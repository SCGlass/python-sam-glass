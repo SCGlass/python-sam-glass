{
 "cells": [
  {
   "cell_type": "markdown",
   "metadata": {},
   "source": [
    "Instructions\n",
    "Your friend Chandler plans to visit exotic countries all around the world. Sadly, Chandler's math skills aren't good. He's pretty worried about being scammed by currency exchanges during his trip - and he wants you to make a currency calculator for him. Here are his specifications for the app:\n",
    "\n",
    "### 1. Estimate value after exchange\n",
    "Create the exchange_money() function, taking 2 parameters:\n",
    "\n",
    "budget : The amount of money you are planning to exchange.\n",
    "exchange_rate : The amount of domestic currency equal to one unit of foreign currency.\n",
    "This function should return the value of the exchanged currency.\n",
    "\n",
    "Note: If your currency is USD and you want to exchange USD for EUR with an exchange rate of 1.20, then 1.20 USD == 1 EUR.\n",
    "\n",
    "```\n",
    ">>> exchange_money(127.5, 1.2)\n",
    "106.25\n",
    "```"
   ]
  },
  {
   "cell_type": "code",
   "execution_count": 1,
   "metadata": {},
   "outputs": [],
   "source": [
    "from __future__ import annotations\n",
    "def exchange_money(budget: float, exchange_rate: float) -> float:\n",
    "    \"\"\"Returns estimate value after exchange\"\"\"\n",
    "    return budget / exchange_rate"
   ]
  },
  {
   "cell_type": "markdown",
   "metadata": {},
   "source": [
    "### 2. Calculate currency left after an exchange\n",
    "Create the get_change() function, taking 2 parameters:\n",
    "\n",
    "budget : Amount of money before exchange.\n",
    "exchanging_value : Amount of money that is taken from the budget to be exchanged.\n",
    "This function should return the amount of money that is left from the budget.\n",
    "\n",
    "```\n",
    ">>> get_change(127.5, 120)\n",
    "7.5\n",
    "```"
   ]
  },
  {
   "cell_type": "code",
   "execution_count": 2,
   "metadata": {},
   "outputs": [],
   "source": [
    "def get_change(budget:float, exchanging_value:float) -> float:\n",
    "    \"\"\"Returns calculated currency after an exchange\"\"\"\n",
    "    return budget - exchanging_value"
   ]
  },
  {
   "cell_type": "markdown",
   "metadata": {},
   "source": [
    "### 3. Calculate value of bills\n",
    "Create the get_value_of_bills() function, taking 2 parameters:\n",
    "\n",
    "denomination : The value of a single bill.\n",
    "number_of_bills : Amount of bills you received.\n",
    "This exchanging booth only deals in cash of certain increments. The total you receive must be divisible by the value of one \"bill\" or unit, which can leave behind a fraction or remainder. Your function should return only the total value of the bills (excluding fractional amounts) the booth would give back. Unfortunately, the booth gets to keep the remainder/change as an added bonus.\n",
    "```\n",
    ">>> get_value_of_bills(5, 128)\n",
    "640\n",
    "```"
   ]
  },
  {
   "cell_type": "code",
   "execution_count": 3,
   "metadata": {},
   "outputs": [],
   "source": [
    "def get_value_of_bills(denomination:int, number_of_bills:int) ->int:\n",
    "    \"\"\"Returns calculation of the value of bills\"\"\"\n",
    "    return denomination * number_of_bills"
   ]
  },
  {
   "cell_type": "markdown",
   "metadata": {},
   "source": [
    "### 4. Calculate number of bills\n",
    "\n",
    "Create the get_number_of_bills() function, taking budget and denomination.\n",
    "\n",
    "This function should return the number of new currency bills that you can receive within the given budget. In other words: How many whole bills of new currency fit into the amount of old currency you have in your budget? Remember -- you can only receive whole bills, not fractions of bills, so remember to divide accordingly. Effectively, you are rounding down to the nearest whole bill/denomination.\n",
    "\n",
    "```\n",
    ">>> get_number_of_bills(127.5, 5)\n",
    "25\n",
    "```"
   ]
  },
  {
   "cell_type": "code",
   "execution_count": 4,
   "metadata": {},
   "outputs": [],
   "source": [
    "def get_number_bills(budget:float, denomination:int)-> int:\n",
    "    \"\"\"Returns number of bills\"\"\"\n",
    "    return budget // denomination "
   ]
  },
  {
   "cell_type": "markdown",
   "metadata": {},
   "source": [
    "### 5. Calculate leftover after exchanging into bills\n",
    "Create the get_leftover_of_bills() function, taking budget and denomination.\n",
    "\n",
    "This function should return the leftover amount that cannot be exchanged from your budget given the denomination of bills. It is very important to know exactly how much the booth gets to keep.\n",
    "```\n",
    ">>> get_leftover_of_bills(127.5, 20)\n",
    "7.5\n",
    "```"
   ]
  },
  {
   "cell_type": "code",
   "execution_count": 5,
   "metadata": {},
   "outputs": [],
   "source": [
    "def get_leftover_of_bills(budget:float, denomination:int) ->float:\n",
    "    \"\"\"Returns leftover amount that cannot be exchanged\"\"\"\n",
    "    return budget % denomination    "
   ]
  },
  {
   "cell_type": "markdown",
   "metadata": {},
   "source": [
    "### 6. Calculate value after exchange\n",
    "Create the exchangeable_value() function, taking budget, exchange_rate, spread, and denomination.\n",
    "\n",
    "Parameter spread is the percentage taken as an exchange fee, written as an integer. It needs to be converted to decimal by dividing it by 100. If 1.00 EUR == 1.20 USD and the spread is 10, the actual exchange rate will be: 1.00 EUR == 1.32 USD because 10% of 1.20 is 0.12, and this additional fee is added to the exchange.\n",
    "\n",
    "This function should return the maximum value of the new currency after calculating the exchange rate plus the spread. Remember that the currency denomination is a whole number, and cannot be sub-divided.\n",
    "\n",
    "Note: Returned value should be int type.\n",
    "```\n",
    ">>> exchangeable_value(127.25, 1.20, 10, 20)\n",
    "80\n",
    ">>> exchangeable_value(127.25, 1.20, 10, 5)\n",
    "95\n",
    "```"
   ]
  },
  {
   "cell_type": "code",
   "execution_count": 6,
   "metadata": {},
   "outputs": [],
   "source": [
    "def exchangeable_value(budget:float, exchange_rate:float, spread:int, denomination:int)->int:\n",
    "    \"\"\"Returns maximum value of currency after exchange rate and spread\"\"\"\n",
    "    percent = spread / 100\n",
    "    return int(budget / (percent + exchange_rate) % denomination) "
   ]
  },
  {
   "cell_type": "code",
   "execution_count": null,
   "metadata": {},
   "outputs": [],
   "source": [
    "from __future__ import annotations\n",
    "def exchange_money(budget: float, exchange_rate: float) -> float:\n",
    "    \"\"\"Returns estimate value after exchange\"\"\"\n",
    "    return budget / exchange_rate\n",
    "def get_change(budget:float, exchanging_value:float) -> float:\n",
    "    \"\"\"Returns calculated currency after an exchange\"\"\"\n",
    "    return budget - exchanging_value\n",
    "def get_value_of_bills(denomination:int, number_of_bills:int) ->int:\n",
    "    \"\"\"Returns calculation of the value of bills\"\"\"\n",
    "    return denomination * number_of_bills\n",
    "def get_number_of_bills(budget:float, denomination:int)-> int:\n",
    "    \"\"\"Returns number of bills\"\"\"\n",
    "    return budget // denomination\n",
    "def get_leftover_of_bills(budget:float, denomination:int) ->float:\n",
    "    \"\"\"Returns leftover amount that cannot be exchanged\"\"\"\n",
    "    return budget % denomination\n",
    "def exchangeable_value(budget:float, exchange_rate:float, spread:int, denomination:int)->int:\n",
    "    \"\"\"Returns maximum value of currency after exchange rate and spread\"\"\"\n",
    "    percent = spread / 100\n",
    "    actual_rate = exchange_rate + percent\n",
    "    denomination_amount = budget % denomination\n",
    "    new_exchange_rate = budget / actual_rate\n",
    "    return int(new_exchange_rate - denomination_amount) \n"
   ]
  }
 ],
 "metadata": {
  "kernelspec": {
   "display_name": "Python 3.9.13 ('python-sam-glass-f9Gfa9m9')",
   "language": "python",
   "name": "python3"
  },
  "language_info": {
   "codemirror_mode": {
    "name": "ipython",
    "version": 3
   },
   "file_extension": ".py",
   "mimetype": "text/x-python",
   "name": "python",
   "nbconvert_exporter": "python",
   "pygments_lexer": "ipython3",
   "version": "3.9.13"
  },
  "orig_nbformat": 4,
  "vscode": {
   "interpreter": {
    "hash": "c54bac0ad9a8758ea607748194fff43bd5680f7a659873af8c80514da573df4a"
   }
  }
 },
 "nbformat": 4,
 "nbformat_minor": 2
}
