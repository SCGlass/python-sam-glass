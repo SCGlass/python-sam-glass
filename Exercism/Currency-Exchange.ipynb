{
 "cells": [
  {
   "cell_type": "markdown",
   "metadata": {},
   "source": [
    "Instructions\n",
    "Your friend Chandler plans to visit exotic countries all around the world. Sadly, Chandler's math skills aren't good. He's pretty worried about being scammed by currency exchanges during his trip - and he wants you to make a currency calculator for him. Here are his specifications for the app:\n",
    "\n",
    "1. Estimate value after exchange\n",
    "Create the exchange_money() function, taking 2 parameters:\n",
    "\n",
    "budget : The amount of money you are planning to exchange.\n",
    "exchange_rate : The amount of domestic currency equal to one unit of foreign currency.\n",
    "This function should return the value of the exchanged currency.\n",
    "\n",
    "Note: If your currency is USD and you want to exchange USD for EUR with an exchange rate of 1.20, then 1.20 USD == 1 EUR.\n",
    "\n",
    ">>> exchange_money(127.5, 1.2)\n",
    "106.25"
   ]
  },
  {
   "cell_type": "code",
   "execution_count": null,
   "metadata": {},
   "outputs": [],
   "source": [
    "def exchange_money(budget, exchange_rate):\n",
    "    return budget * exchange_rate"
   ]
  },
  {
   "cell_type": "markdown",
   "metadata": {},
   "source": [
    "2. Calculate currency left after an exchange\n",
    "Create the get_change() function, taking 2 parameters:\n",
    "\n",
    "budget : Amount of money before exchange.\n",
    "exchanging_value : Amount of money that is taken from the budget to be exchanged.\n",
    "This function should return the amount of money that is left from the budget.\n",
    "\n",
    ">>> get_change(127.5, 120)\n",
    "7.5"
   ]
  },
  {
   "cell_type": "code",
   "execution_count": null,
   "metadata": {},
   "outputs": [],
   "source": [
    "def get_change(budget, exchanging_value):\n",
    "    return budget - exchanging_value"
   ]
  },
  {
   "cell_type": "markdown",
   "metadata": {},
   "source": [
    "3. Calculate value of bills\n",
    "Create the get_value_of_bills() function, taking 2 parameters:\n",
    "\n",
    "denomination : The value of a single bill.\n",
    "number_of_bills : Amount of bills you received.\n",
    "This exchanging booth only deals in cash of certain increments. The total you receive must be divisible by the value of one \"bill\" or unit, which can leave behind a fraction or remainder. Your function should return only the total value of the bills (excluding fractional amounts) the booth would give back. Unfortunately, the booth gets to keep the remainder/change as an added bonus."
   ]
  },
  {
   "cell_type": "code",
   "execution_count": null,
   "metadata": {},
   "outputs": [],
   "source": [
    "def get_value_of_bills(denomination, number_of_bills):\n",
    "    return denomination * number_of_bills"
   ]
  },
  {
   "cell_type": "code",
   "execution_count": null,
   "metadata": {},
   "outputs": [],
   "source": [
    "def get_number_bills(budget, denomination):\n",
    "    return "
   ]
  }
 ],
 "metadata": {
  "language_info": {
   "name": "python"
  },
  "orig_nbformat": 4
 },
 "nbformat": 4,
 "nbformat_minor": 2
}
